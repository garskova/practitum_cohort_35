{
 "cells": [
  {
   "cell_type": "markdown",
   "metadata": {},
   "source": [
    "<div style=\"border:solid green 2px; padding: 20px\">\n",
    "<b>Привет  Дарья!</b>\n",
    "\n",
    "Меня зовут  Евгений Арзамасцев, я твой тимлид по этому проекту. Буду проверять следующие этапы твоей работы:\n",
    "<p> * План работ и уточняющие вопросы\n",
    "<p> * Основной код разработки модели (но это не точно)\n",
    "<p> * Отчет о проделанной работе\n",
    "\n",
    " Предлагаю общаться на «ты» :) Но если это не удобно - дай знать, и мы перейдем на \"вы\". \n",
    "\n",
    "Моя основная цель — не указать на совершенные тобою ошибки, а поделиться своим опытом и помочь тебе стать отличным специалистом по Data Science. Ты уже проделал большую работу над проектами этого курса. Сейчас у тебя Финальный Спринт - дипломная работа. Моя цель - помочь тебе сделать ее максимально качественно, чтобы было не стыдно ссылаться на данную работу в своем резюме!\n",
    "\n",
    "Ниже ты найдешь мои комментарии - **пожалуйста, не перемещай, не изменяй и не удаляй их**. Увидев у тебя ошибку, в первый раз я лишь укажу на ее наличие и дам тебе возможность самому найти и исправить ее. На реальной работе твой начальник будет поступать так же, а я пытаюсь подготовить тебя именно к таким ситуациям. Но если ты пока не справишься с такой задачей - при следующей проверке я дам более точную подсказку. Я буду использовать цветовую разметку:\n",
    "\n",
    "<div class=\"alert alert-danger\">\n",
    "<b>Комментарий тимлида ❌:</b> Так выделены самые важные замечания. Без их отработки проект не будет принят. </div>\n",
    "\n",
    "<div class=\"alert alert-warning\">\n",
    "<b>Комментарий тимлида ⚠️:</b> Так выделены небольшие замечания. Я надеюсь, что их ты тоже учтешь - твой проект от этого станет только лучше. Но настаивать на их отработке не буду.\n",
    "\n",
    "</div>\n",
    "\n",
    "<div class=\"alert alert-success\">\n",
    "<b>Комментарий тимлида ✔️:</b> Так я выделяю все остальные комментарии.</div>\n",
    "\n",
    "Давай работать над проектом в диалоге: **если ты что-то меняешь в проекте или отвечаешь на мои комменатри — пиши об этом.** Мне будет легче отследить изменения, если ты выделишь свои комментарии:\n",
    "<div class=\"alert alert-info\"> <b>Комментарий студента:</b> Например, вот так.</div>\n",
    "\n",
    "Всё это поможет выполнить повторную проверку твоего проекта оперативнее. "
   ]
  },
  {
   "cell_type": "markdown",
   "metadata": {},
   "source": [
    "### Описание проекта"
   ]
  },
  {
   "cell_type": "markdown",
   "metadata": {},
   "source": [
    "<div class=\"alert alert-danger\">\n",
    "<b>**Комментарий тимлида ❌:**</b>\n",
    "\n",
    "Понимаю что время поджимает, но формальные требования к работе нужно соблюдать. Пожалуйста добавь в начале исследование общую информацию о проекте, включающую в себя:\n",
    "    \n",
    "- название проекта\n",
    "- цели и задачи проекта\n",
    "- краткое описание текущей ситуации и исходных данных (возьми из описания постановки задачи)\n",
    "    \n",
    "Сюда же можно перенести и план работ, тут ему самое место!\n",
    "</div>"
   ]
  },
  {
   "cell_type": "markdown",
   "metadata": {},
   "source": [
    "Проект: **Прогнозирование оттока клиентов для оператора связи «Ниединогоразрыва.ком»**\n",
    "\n",
    "**Цель проекта** - сформировать модель для прогонзирования оттока пользователей. Это поможет удержать их перед возможным уходом, предложив им различные мотивационные программы. Предстоит провести исследовательский анализ данных, изучить аномалии, отобрать признаки для модели, определить целевую переменную, обучить несколько моделей и выбрать лучшую из них на тестовой выборке.\n",
    "\n",
    "Для решения задач проекта в нашем распоряжении 4 файла с данными клинтов «Ниединогоразрыва.ком». В числе них есть информация по дате завершения контракта:\n",
    "\n",
    "- `contract.csv` — информация о договоре;\n",
    "- `personal.csv` — персональные данные клиента;\n",
    "- `internet.csv` — информация об интернет-услугах;\n",
    "- `phone.csv` — информация об услугах телефонии.\n"
   ]
  },
  {
   "cell_type": "markdown",
   "metadata": {},
   "source": [
    "<div class=\"alert alert-info\"> <b>Комментарий студента:</b> Done</div>"
   ]
  },
  {
   "cell_type": "markdown",
   "metadata": {},
   "source": [
    "Проект: **Прогнозирование оттока клиентов для оператора связи «Ниединогоразрыва.ком»**\n",
    "\n",
    "**Цель проекта** - сформировать модель для прогонзирования оттока пользователей. Это поможет удержать их перед возможным уходом, предложив им различные мотивационные программы. Предстоит провести исследовательский анализ данных, изучить аномалии, отобрать признаки для модели, определить целевую переменную, обучить несколько моделей и выбрать лучшую из них на тестовой выборке.\n",
    "\n",
    "Для решения задач проекта в нашем распоряжении 4 файла с данными клинтов «Ниединогоразрыва.ком». В числе них есть информация по дате завершения контракта:\n",
    "\n",
    "- `contract.csv` — информация о договоре;\n",
    "- `personal.csv` — персональные данные клиента;\n",
    "- `internet.csv` — информация об интернет-услугах;\n",
    "- `phone.csv` — информация об услугах телефонии.\n"
   ]
  },
  {
   "cell_type": "markdown",
   "metadata": {},
   "source": [
    "### План работы"
   ]
  },
  {
   "cell_type": "markdown",
   "metadata": {},
   "source": [
    "1. Провести исследовательский анализ данных\n",
    "\n",
    "    * Привести в порядок нейминги (**done**)\n",
    "    * Привести в порядок типы данных (**done**)\n",
    "    * Исследовать распределение переменных (**done**)\n",
    "    * Найти имеющиеся аномалии (**done** - даты оттока только за 4 месяца, а даты присоединения за много лет. Также 2014 год - год массового подключения - это ок)\n",
    "    \n",
    "\n",
    "2. Подготовка данных\n",
    "\n",
    "    * Удалить ненужные колонки (**need info** по некоторым колонкам)\n",
    "    * Создать новые колонки (**done** - переменная days_active - количество дней контракта с учетом даты получения данных и с учетом того, что клиент мог прервать контракт)\n",
    "    * Сформировать целевую переменную (**done** - переменная ended, ушел или не ушел)\n",
    "    * Объединить данные в один датафрейм (**done**)\n",
    "    * Превратить перменные в бинарные (**tbd**)\n",
    "\n",
    "\n",
    "3. Выбрать переменные для анализа\n",
    "\n",
    "    * `customer_id` - удаляем\n",
    "    * `begin_date`, `end_date` - удаляем, так как есть days_active\n",
    "    * `days_active` - оставляем\n",
    "    * `type` - оставляем. Чем на дольше подписан контракт, тем меньше вероятность, что будет отток\n",
    "    * `paper_less_billing` - оставляем. Возможно, бумажный чек характеризует консервативность пользователя \n",
    "    * `pay_method` - оставляем. Предположительно, автоподписка может уменьшать вероятность оттока\n",
    "    * `monthly_charges` - оставляем. Важная переменная\n",
    "    * `total_charges` - удаляем. Коррелирует с количеством дней контракта и подписки. \n",
    "    * `days_active` - оставляем. Самая важная переменная\n",
    "    * `gender` - оставляем\n",
    "    * `senior_citizen` - не понятно\n",
    "    * `partner` - не понятно\n",
    "    * `dependents` - не понятно\n",
    "    * `internet_service` - оставляем. Теоретически может отличаться качество связи\n",
    "    * `online_security`, `online_backup`, `device_protection`, `tech_support`, `streaming_tv`, `streaming_movies` - оставляем. Плюшки важны\n",
    "    * `multiple_lines` - оставляем\n",
    " \n",
    "\n",
    "4. Выделить возможные проблемы\n",
    "\n",
    "    * Что делать с тем, что отток всего 4 месяца, а регистрации за несколько лет. Предполагаю ничего не менять, потому что в дальнейшем, скорее всего, будет сохраняться такая тенденция, и модели нужно уметь учиться на таких данных\n",
    "    * Несбалансированная выборка - 25% ушедших против 75% оставшихся. Возможно, понадобятся методы баланисирования выборки, в случае низкого качество модели\n",
    "    * Мультиколлинеарность некоторых переменных (плюшки могут коррелировать друг с другом, например). По идее не страшно, если использовать продвинутые модели. Совсем явная мультиколлинераность была устранена в ходе предварительного анализа\n",
    "\n",
    "\n",
    "5. Разделить выборки на train и test\n",
    "\n",
    "\n",
    "6. Обучить модели с автоматической подборкой параметров (grid search cv) на train выборке\n",
    "\n",
    "    * LogisticRegression \n",
    "    * Random forest classifier\n",
    "    * xgboost\n",
    "    * catboost\n",
    "    * возможно, что-то более сложное\n",
    "\n",
    "\n",
    "7. Оценить качество модели на тестовой выборке и выбрать лучшую"
   ]
  },
  {
   "cell_type": "markdown",
   "metadata": {},
   "source": [
    "<div class=\"alert alert-success\">\n",
    "<b>**Комментарий тимлида ✔️:**</b>\n",
    "\n",
    "Отличный план. Вижу что понимаешь основные этапы и можешь их декомпозировать в задачи.\n",
    "</div>"
   ]
  },
  {
   "cell_type": "code",
   "execution_count": 1,
   "metadata": {
    "scrolled": true
   },
   "outputs": [],
   "source": [
    "import pandas as pd\n",
    "import numpy as np\n",
    "import matplotlib.pyplot as plt\n",
    "import seaborn as sns\n",
    "sns.set()\n",
    "from sklearn.model_selection import train_test_split\n",
    "from sklearn.ensemble import RandomForestClassifier\n",
    "from sklearn.metrics import accuracy_score\n",
    "from sklearn.model_selection import GridSearchCV\n",
    "import random as rnd\n",
    "from sklearn.metrics import roc_auc_score\n",
    "from sklearn.metrics import roc_curve\n",
    "import matplotlib.pyplot as plt\n",
    "from sklearn.metrics import precision_score, recall_score, f1_score\n",
    "from sklearn.utils import shuffle\n",
    "from sklearn.linear_model import LogisticRegression \n",
    "import catboost as cb\n",
    "import lightgbm as lgb\n",
    "import xgboost as xgb\n",
    "from sklearn.metrics import make_scorer, accuracy_score"
   ]
  },
  {
   "cell_type": "code",
   "execution_count": 2,
   "metadata": {
    "scrolled": true
   },
   "outputs": [],
   "source": [
    "def calc_metrics(model, features, target):\n",
    "    \n",
    "    predicted = model.predict(features)\n",
    "    print(\"F1:\", round(f1_score(target, predicted), 3))\n",
    "\n",
    "    probabilities = model.predict_proba(features)\n",
    "    probabilities_one = probabilities[:, 1]\n",
    "    auc_roc = roc_auc_score(target, probabilities_one)\n",
    "\n",
    "    print('ROC AUC через predict_proba:', round(auc_roc, 3))\n",
    "    \n",
    "    precision = precision_score(target, predicted)\n",
    "    recall = recall_score(target, predicted)\n",
    "\n",
    "    print(\"Полнота:\", round(recall, 3))\n",
    "    print(\"Точность:\", round(precision, 3))"
   ]
  },
  {
   "cell_type": "code",
   "execution_count": 3,
   "metadata": {
    "scrolled": true
   },
   "outputs": [],
   "source": [
    "def upsample(features, target, repeat):\n",
    "    features_zeros = features_train[target_train == 0]\n",
    "    features_ones = features_train[target_train == 1]\n",
    "    target_zeros = target_train[target_train == 0]\n",
    "    target_ones = target_train[target_train == 1]\n",
    "\n",
    "    repeat = 10\n",
    "    features_upsampled = shuffle(pd.concat([features_zeros] + [features_ones] * repeat), random_state=290822)\n",
    "    target_upsampled = shuffle(pd.concat([target_zeros] + [target_ones] * repeat), random_state=290822)\n",
    "\n",
    "    return features_upsampled, target_upsampled "
   ]
  },
  {
   "cell_type": "code",
   "execution_count": 4,
   "metadata": {
    "scrolled": true
   },
   "outputs": [],
   "source": [
    "def downsample(features, target, fraction):\n",
    "    features_zeros = features[target == 0]\n",
    "    features_ones = features[target == 1]\n",
    "    target_zeros = target[target == 0]\n",
    "    target_ones = target[target == 1]\n",
    "\n",
    "    features_downsampled = pd.concat(\n",
    "        [features_zeros.sample(frac=fraction, random_state=290822)] + [features_ones])\n",
    "    target_downsampled = pd.concat(\n",
    "        [target_zeros.sample(frac=fraction, random_state=290822)] + [target_ones])\n",
    "    \n",
    "    features_downsampled, target_downsampled = shuffle(\n",
    "        features_downsampled, target_downsampled, random_state=290822)\n",
    "    \n",
    "    return features_downsampled, target_downsampled"
   ]
  },
  {
   "cell_type": "markdown",
   "metadata": {},
   "source": [
    "### Знакомимся с данными"
   ]
  },
  {
   "cell_type": "markdown",
   "metadata": {},
   "source": [
    "#### Контракты"
   ]
  },
  {
   "cell_type": "code",
   "execution_count": 5,
   "metadata": {
    "scrolled": true
   },
   "outputs": [
    {
     "data": {
      "text/html": [
       "<div>\n",
       "<style scoped>\n",
       "    .dataframe tbody tr th:only-of-type {\n",
       "        vertical-align: middle;\n",
       "    }\n",
       "\n",
       "    .dataframe tbody tr th {\n",
       "        vertical-align: top;\n",
       "    }\n",
       "\n",
       "    .dataframe thead th {\n",
       "        text-align: right;\n",
       "    }\n",
       "</style>\n",
       "<table border=\"1\" class=\"dataframe\">\n",
       "  <thead>\n",
       "    <tr style=\"text-align: right;\">\n",
       "      <th></th>\n",
       "      <th>customerID</th>\n",
       "      <th>BeginDate</th>\n",
       "      <th>EndDate</th>\n",
       "      <th>Type</th>\n",
       "      <th>PaperlessBilling</th>\n",
       "      <th>PaymentMethod</th>\n",
       "      <th>MonthlyCharges</th>\n",
       "      <th>TotalCharges</th>\n",
       "    </tr>\n",
       "  </thead>\n",
       "  <tbody>\n",
       "    <tr>\n",
       "      <th>0</th>\n",
       "      <td>7590-VHVEG</td>\n",
       "      <td>2020-01-01</td>\n",
       "      <td>No</td>\n",
       "      <td>Month-to-month</td>\n",
       "      <td>Yes</td>\n",
       "      <td>Electronic check</td>\n",
       "      <td>29.85</td>\n",
       "      <td>29.85</td>\n",
       "    </tr>\n",
       "    <tr>\n",
       "      <th>1</th>\n",
       "      <td>5575-GNVDE</td>\n",
       "      <td>2017-04-01</td>\n",
       "      <td>No</td>\n",
       "      <td>One year</td>\n",
       "      <td>No</td>\n",
       "      <td>Mailed check</td>\n",
       "      <td>56.95</td>\n",
       "      <td>1889.5</td>\n",
       "    </tr>\n",
       "    <tr>\n",
       "      <th>2</th>\n",
       "      <td>3668-QPYBK</td>\n",
       "      <td>2019-10-01</td>\n",
       "      <td>2019-12-01 00:00:00</td>\n",
       "      <td>Month-to-month</td>\n",
       "      <td>Yes</td>\n",
       "      <td>Mailed check</td>\n",
       "      <td>53.85</td>\n",
       "      <td>108.15</td>\n",
       "    </tr>\n",
       "    <tr>\n",
       "      <th>3</th>\n",
       "      <td>7795-CFOCW</td>\n",
       "      <td>2016-05-01</td>\n",
       "      <td>No</td>\n",
       "      <td>One year</td>\n",
       "      <td>No</td>\n",
       "      <td>Bank transfer (automatic)</td>\n",
       "      <td>42.30</td>\n",
       "      <td>1840.75</td>\n",
       "    </tr>\n",
       "    <tr>\n",
       "      <th>4</th>\n",
       "      <td>9237-HQITU</td>\n",
       "      <td>2019-09-01</td>\n",
       "      <td>2019-11-01 00:00:00</td>\n",
       "      <td>Month-to-month</td>\n",
       "      <td>Yes</td>\n",
       "      <td>Electronic check</td>\n",
       "      <td>70.70</td>\n",
       "      <td>151.65</td>\n",
       "    </tr>\n",
       "  </tbody>\n",
       "</table>\n",
       "</div>"
      ],
      "text/plain": [
       "   customerID   BeginDate              EndDate            Type  \\\n",
       "0  7590-VHVEG  2020-01-01                   No  Month-to-month   \n",
       "1  5575-GNVDE  2017-04-01                   No        One year   \n",
       "2  3668-QPYBK  2019-10-01  2019-12-01 00:00:00  Month-to-month   \n",
       "3  7795-CFOCW  2016-05-01                   No        One year   \n",
       "4  9237-HQITU  2019-09-01  2019-11-01 00:00:00  Month-to-month   \n",
       "\n",
       "  PaperlessBilling              PaymentMethod  MonthlyCharges TotalCharges  \n",
       "0              Yes           Electronic check           29.85        29.85  \n",
       "1               No               Mailed check           56.95       1889.5  \n",
       "2              Yes               Mailed check           53.85       108.15  \n",
       "3               No  Bank transfer (automatic)           42.30      1840.75  \n",
       "4              Yes           Electronic check           70.70       151.65  "
      ]
     },
     "execution_count": 5,
     "metadata": {},
     "output_type": "execute_result"
    }
   ],
   "source": [
    "df_contract = pd.read_csv('datasets/final_provider/contract.csv')\n",
    "df_contract.head()"
   ]
  },
  {
   "cell_type": "code",
   "execution_count": 6,
   "metadata": {
    "scrolled": true
   },
   "outputs": [
    {
     "data": {
      "text/plain": [
       "7043"
      ]
     },
     "execution_count": 6,
     "metadata": {},
     "output_type": "execute_result"
    }
   ],
   "source": [
    "df_contract.shape[0]"
   ]
  },
  {
   "cell_type": "code",
   "execution_count": 7,
   "metadata": {
    "scrolled": false
   },
   "outputs": [
    {
     "name": "stdout",
     "output_type": "stream",
     "text": [
      "<class 'pandas.core.frame.DataFrame'>\n",
      "RangeIndex: 7043 entries, 0 to 7042\n",
      "Data columns (total 8 columns):\n",
      " #   Column            Non-Null Count  Dtype  \n",
      "---  ------            --------------  -----  \n",
      " 0   customerID        7043 non-null   object \n",
      " 1   BeginDate         7043 non-null   object \n",
      " 2   EndDate           7043 non-null   object \n",
      " 3   Type              7043 non-null   object \n",
      " 4   PaperlessBilling  7043 non-null   object \n",
      " 5   PaymentMethod     7043 non-null   object \n",
      " 6   MonthlyCharges    7043 non-null   float64\n",
      " 7   TotalCharges      7043 non-null   object \n",
      "dtypes: float64(1), object(7)\n",
      "memory usage: 440.3+ KB\n"
     ]
    }
   ],
   "source": [
    "df_contract.info()"
   ]
  },
  {
   "cell_type": "code",
   "execution_count": 8,
   "metadata": {
    "scrolled": true
   },
   "outputs": [],
   "source": [
    "df_contract.columns = ['customer_id', 'begin_date', 'end_date', 'type', \n",
    "                       'paper_less_billing', 'pay_method', 'monthly_charges', 'total_charges']"
   ]
  },
  {
   "cell_type": "markdown",
   "metadata": {},
   "source": [
    "<div class=\"alert alert-success\">\n",
    "<b>**Комментарий тимлида ✔️:**</b>\n",
    "\n",
    "Ок, приводим к нормальному виду. Правило хорошего тона)\n",
    "</div>"
   ]
  },
  {
   "cell_type": "code",
   "execution_count": 9,
   "metadata": {
    "scrolled": true
   },
   "outputs": [
    {
     "data": {
      "text/plain": [
       "7043"
      ]
     },
     "execution_count": 9,
     "metadata": {},
     "output_type": "execute_result"
    }
   ],
   "source": [
    "df_contract.customer_id.nunique()"
   ]
  },
  {
   "cell_type": "code",
   "execution_count": 10,
   "metadata": {
    "scrolled": true
   },
   "outputs": [],
   "source": [
    "df_contract.begin_date = pd.to_datetime(df_contract.begin_date)\n",
    "df_contract.end_date = pd.to_datetime(df_contract.end_date.replace('No', np.nan))"
   ]
  },
  {
   "cell_type": "markdown",
   "metadata": {},
   "source": [
    "<div class=\"alert alert-success\">\n",
    "<b>**Комментарий тимлида ✔️:**</b>\n",
    "\n",
    "Даты должны быть как даты) Верно.  \n",
    "</div>"
   ]
  },
  {
   "cell_type": "code",
   "execution_count": 11,
   "metadata": {
    "scrolled": true
   },
   "outputs": [
    {
     "data": {
      "text/plain": [
       "Month-to-month    3875\n",
       "Two year          1695\n",
       "One year          1473\n",
       "Name: type, dtype: int64"
      ]
     },
     "execution_count": 11,
     "metadata": {},
     "output_type": "execute_result"
    }
   ],
   "source": [
    "df_contract.type.value_counts()"
   ]
  },
  {
   "cell_type": "code",
   "execution_count": 12,
   "metadata": {
    "scrolled": true
   },
   "outputs": [
    {
     "data": {
      "text/plain": [
       "Electronic check             2365\n",
       "Mailed check                 1612\n",
       "Bank transfer (automatic)    1544\n",
       "Credit card (automatic)      1522\n",
       "Name: pay_method, dtype: int64"
      ]
     },
     "execution_count": 12,
     "metadata": {},
     "output_type": "execute_result"
    }
   ],
   "source": [
    "df_contract.pay_method.value_counts()"
   ]
  },
  {
   "cell_type": "code",
   "execution_count": 13,
   "metadata": {
    "scrolled": true
   },
   "outputs": [
    {
     "data": {
      "image/png": "[encoded data removed]",
      "text/plain": [
       "<Figure size 648x360 with 1 Axes>"
      ]
     },
     "metadata": {},
     "output_type": "display_data"
    }
   ],
   "source": [
    "df_contract.monthly_charges.hist(figsize = (9, 5))\n",
    "plt.title('Распределение monthly_charges')\n",
    "plt.show()"
   ]
  },
  {
   "cell_type": "code",
   "execution_count": 14,
   "metadata": {
    "scrolled": true
   },
   "outputs": [
    {
     "data": {
      "text/plain": [
       "          11\n",
       "20.2      11\n",
       "19.75      9\n",
       "20.05      8\n",
       "19.9       8\n",
       "          ..\n",
       "6849.4     1\n",
       "692.35     1\n",
       "130.15     1\n",
       "3211.9     1\n",
       "6844.5     1\n",
       "Name: total_charges, Length: 6531, dtype: int64"
      ]
     },
     "execution_count": 14,
     "metadata": {},
     "output_type": "execute_result"
    }
   ],
   "source": [
    "df_contract.total_charges.value_counts()"
   ]
  },
  {
   "cell_type": "code",
   "execution_count": 15,
   "metadata": {
    "scrolled": true
   },
   "outputs": [],
   "source": [
    "df_contract = df_contract.query('total_charges != \" \"')"
   ]
  },
  {
   "cell_type": "markdown",
   "metadata": {},
   "source": [
    "<div class=\"alert alert-warning\">\n",
    "<b>**Комментарий тимлида ⚠️:**</b>\n",
    "\n",
    "А вот тут не понятно, откуда ты взяла, что там есть пробел? Из кода не следует это. В следующих раз в подобном случае будет красный комментарий. \n",
    "</div>"
   ]
  },
  {
   "cell_type": "markdown",
   "metadata": {},
   "source": [
    "<div class=\"alert alert-info\"> <b>Комментарий студента:</b> Сорри, в задание было написано, что тимлид не будет смотреть код)) Нашла по value_counts, добавила выше</div>"
   ]
  },
  {
   "cell_type": "code",
   "execution_count": 16,
   "metadata": {
    "scrolled": true
   },
   "outputs": [],
   "source": [
    "df_contract.total_charges = df_contract.total_charges.astype(float)"
   ]
  },
  {
   "cell_type": "code",
   "execution_count": 17,
   "metadata": {
    "scrolled": true
   },
   "outputs": [
    {
     "data": {
      "image/png": "[encoded data removed]",
      "text/plain": [
       "<Figure size 648x360 with 1 Axes>"
      ]
     },
     "metadata": {},
     "output_type": "display_data"
    }
   ],
   "source": [
    "df_contract.total_charges.hist(figsize = (9, 5))\n",
    "plt.title('Распределение total_charges')\n",
    "plt.show()"
   ]
  },
  {
   "cell_type": "code",
   "execution_count": 18,
   "metadata": {
    "scrolled": true
   },
   "outputs": [
    {
     "data": {
      "text/plain": [
       "True     0.734215\n",
       "False    0.265785\n",
       "Name: end_date, dtype: float64"
      ]
     },
     "execution_count": 18,
     "metadata": {},
     "output_type": "execute_result"
    }
   ],
   "source": [
    "df_contract.end_date.isna().value_counts(normalize = True)"
   ]
  },
  {
   "cell_type": "markdown",
   "metadata": {},
   "source": [
    "<div class=\"alert alert-success\">\n",
    "<b>**Комментарий тимлида ✔️:**</b>\n",
    "\n",
    "Да, есть дисбаланс целевого признака. Есть несколько вариантов в нашем случае:\n",
    "   \n",
    "- ничего не делать тк дисбаланс пограничный на уровне 1:3\n",
    "- применить сэмплирование\n",
    "- воспользоваться встренными средствами балансировки в моделях\n",
    "    \n",
    "А можно выполнить все три варианта и выбрать лучший)\n",
    "    \n",
    "Посмотрим какой вариант выберешь ты в итоге.\n",
    "</div>\n"
   ]
  },
  {
   "cell_type": "code",
   "execution_count": 19,
   "metadata": {
    "scrolled": true
   },
   "outputs": [
    {
     "data": {
      "image/png": "[encoded data removed]",
      "text/plain": [
       "<Figure size 432x288 with 1 Axes>"
      ]
     },
     "metadata": {},
     "output_type": "display_data"
    }
   ],
   "source": [
    "df_contract.groupby('begin_date')[['customer_id']].count().plot()\n",
    "plt.show()"
   ]
  },
  {
   "cell_type": "code",
   "execution_count": 20,
   "metadata": {
    "scrolled": true
   },
   "outputs": [
    {
     "data": {
      "text/plain": [
       "end_date\n",
       "2019-10-01    458\n",
       "2019-11-01    485\n",
       "2019-12-01    466\n",
       "2020-01-01    460\n",
       "Name: customer_id, dtype: int64"
      ]
     },
     "execution_count": 20,
     "metadata": {},
     "output_type": "execute_result"
    }
   ],
   "source": [
    "df_contract.groupby('end_date')['customer_id'].count()"
   ]
  },
  {
   "cell_type": "markdown",
   "metadata": {},
   "source": [
    "<div class=\"alert alert-success\">\n",
    "<b>**Комментарий тимлида ✔️:**</b>\n",
    "\n",
    "Есть интересные особенности в данных. Жаль нет выводов пока.\n",
    "</div>"
   ]
  },
  {
   "cell_type": "code",
   "execution_count": 21,
   "metadata": {
    "scrolled": true
   },
   "outputs": [],
   "source": [
    "df_contract['ended'] = (~df_contract.end_date.isna()).astype(int)"
   ]
  },
  {
   "cell_type": "code",
   "execution_count": 22,
   "metadata": {
    "scrolled": true
   },
   "outputs": [],
   "source": [
    "df_contract['current_day'] = df_contract.apply(lambda x: pd.to_datetime('2020-02-01') if pd.isnull(x.end_date) \\\n",
    "                                               else x.end_date, axis = 1)"
   ]
  },
  {
   "cell_type": "code",
   "execution_count": 23,
   "metadata": {
    "scrolled": true
   },
   "outputs": [],
   "source": [
    "df_contract['days_active'] = (df_contract['current_day'] - df_contract['begin_date']).dt.days"
   ]
  },
  {
   "cell_type": "code",
   "execution_count": 24,
   "metadata": {
    "scrolled": true
   },
   "outputs": [],
   "source": [
    "df_contract = df_contract.drop(['current_day','begin_date', 'end_date'], axis = 1)"
   ]
  },
  {
   "cell_type": "markdown",
   "metadata": {},
   "source": [
    "<div class=\"alert alert-success\">\n",
    "<b>**Комментарий тимлида ✔️:**</b>\n",
    "\n",
    "Ок, вижу целевой признак. Создан хороший новый признак - продолжительность контракта.\n",
    "\n",
    "Хорошо что удаляешь признаки-даты. У нас они могут дать утечку целевого признака, кроме этого мы же не временные ряды анализируем)\n",
    "</div>"
   ]
  },
  {
   "cell_type": "code",
   "execution_count": 25,
   "metadata": {
    "scrolled": true
   },
   "outputs": [
    {
     "data": {
      "text/plain": [
       "Electronic check             2365\n",
       "Mailed check                 1604\n",
       "Bank transfer (automatic)    1542\n",
       "Credit card (automatic)      1521\n",
       "Name: pay_method, dtype: int64"
      ]
     },
     "execution_count": 25,
     "metadata": {},
     "output_type": "execute_result"
    }
   ],
   "source": [
    "df_contract.pay_method.value_counts()"
   ]
  },
  {
   "cell_type": "markdown",
   "metadata": {},
   "source": [
    "#### Клиенты"
   ]
  },
  {
   "cell_type": "code",
   "execution_count": 26,
   "metadata": {
    "scrolled": true
   },
   "outputs": [
    {
     "data": {
      "text/html": [
       "<div>\n",
       "<style scoped>\n",
       "    .dataframe tbody tr th:only-of-type {\n",
       "        vertical-align: middle;\n",
       "    }\n",
       "\n",
       "    .dataframe tbody tr th {\n",
       "        vertical-align: top;\n",
       "    }\n",
       "\n",
       "    .dataframe thead th {\n",
       "        text-align: right;\n",
       "    }\n",
       "</style>\n",
       "<table border=\"1\" class=\"dataframe\">\n",
       "  <thead>\n",
       "    <tr style=\"text-align: right;\">\n",
       "      <th></th>\n",
       "      <th>customerID</th>\n",
       "      <th>gender</th>\n",
       "      <th>SeniorCitizen</th>\n",
       "      <th>Partner</th>\n",
       "      <th>Dependents</th>\n",
       "    </tr>\n",
       "  </thead>\n",
       "  <tbody>\n",
       "    <tr>\n",
       "      <th>0</th>\n",
       "      <td>7590-VHVEG</td>\n",
       "      <td>Female</td>\n",
       "      <td>0</td>\n",
       "      <td>Yes</td>\n",
       "      <td>No</td>\n",
       "    </tr>\n",
       "    <tr>\n",
       "      <th>1</th>\n",
       "      <td>5575-GNVDE</td>\n",
       "      <td>Male</td>\n",
       "      <td>0</td>\n",
       "      <td>No</td>\n",
       "      <td>No</td>\n",
       "    </tr>\n",
       "    <tr>\n",
       "      <th>2</th>\n",
       "      <td>3668-QPYBK</td>\n",
       "      <td>Male</td>\n",
       "      <td>0</td>\n",
       "      <td>No</td>\n",
       "      <td>No</td>\n",
       "    </tr>\n",
       "    <tr>\n",
       "      <th>3</th>\n",
       "      <td>7795-CFOCW</td>\n",
       "      <td>Male</td>\n",
       "      <td>0</td>\n",
       "      <td>No</td>\n",
       "      <td>No</td>\n",
       "    </tr>\n",
       "    <tr>\n",
       "      <th>4</th>\n",
       "      <td>9237-HQITU</td>\n",
       "      <td>Female</td>\n",
       "      <td>0</td>\n",
       "      <td>No</td>\n",
       "      <td>No</td>\n",
       "    </tr>\n",
       "  </tbody>\n",
       "</table>\n",
       "</div>"
      ],
      "text/plain": [
       "   customerID  gender  SeniorCitizen Partner Dependents\n",
       "0  7590-VHVEG  Female              0     Yes         No\n",
       "1  5575-GNVDE    Male              0      No         No\n",
       "2  3668-QPYBK    Male              0      No         No\n",
       "3  7795-CFOCW    Male              0      No         No\n",
       "4  9237-HQITU  Female              0      No         No"
      ]
     },
     "execution_count": 26,
     "metadata": {},
     "output_type": "execute_result"
    }
   ],
   "source": [
    "df_personal = pd.read_csv('datasets/final_provider/personal.csv')\n",
    "df_personal.head()"
   ]
  },
  {
   "cell_type": "code",
   "execution_count": 27,
   "metadata": {
    "scrolled": true
   },
   "outputs": [],
   "source": [
    "df_personal.columns = ['customer_id', 'gender', 'senior_citizen', 'partner', 'dependents']"
   ]
  },
  {
   "cell_type": "code",
   "execution_count": 28,
   "metadata": {
    "scrolled": true
   },
   "outputs": [
    {
     "data": {
      "text/plain": [
       "7043"
      ]
     },
     "execution_count": 28,
     "metadata": {},
     "output_type": "execute_result"
    }
   ],
   "source": [
    "df_personal.customer_id.shape[0]"
   ]
  },
  {
   "cell_type": "code",
   "execution_count": 29,
   "metadata": {
    "scrolled": true
   },
   "outputs": [
    {
     "data": {
      "text/plain": [
       "7043"
      ]
     },
     "execution_count": 29,
     "metadata": {},
     "output_type": "execute_result"
    }
   ],
   "source": [
    "df_personal.customer_id.nunique()"
   ]
  },
  {
   "cell_type": "markdown",
   "metadata": {},
   "source": [
    "<div class=\"alert alert-danger\">\n",
    "<b>**Комментарий тимлида ❌:**</b>\n",
    "\n",
    "Код не работает. Последовательность исполнения нарушена - название полей меняешь ПОСЛЕ этой ячейки. Надо проверять код перед отправкой на проверку!\n",
    "</div>"
   ]
  },
  {
   "cell_type": "markdown",
   "metadata": {},
   "source": [
    "<div class=\"alert alert-info\"> <b>Комментарий студента:</b> Поправила. Сорри, думала, что читать будут только план)</div>"
   ]
  },
  {
   "cell_type": "code",
   "execution_count": 30,
   "metadata": {
    "scrolled": true
   },
   "outputs": [
    {
     "name": "stdout",
     "output_type": "stream",
     "text": [
      "<class 'pandas.core.frame.DataFrame'>\n",
      "RangeIndex: 7043 entries, 0 to 7042\n",
      "Data columns (total 5 columns):\n",
      " #   Column          Non-Null Count  Dtype \n",
      "---  ------          --------------  ----- \n",
      " 0   customer_id     7043 non-null   object\n",
      " 1   gender          7043 non-null   object\n",
      " 2   senior_citizen  7043 non-null   int64 \n",
      " 3   partner         7043 non-null   object\n",
      " 4   dependents      7043 non-null   object\n",
      "dtypes: int64(1), object(4)\n",
      "memory usage: 275.2+ KB\n"
     ]
    }
   ],
   "source": [
    "df_personal.info()"
   ]
  },
  {
   "cell_type": "code",
   "execution_count": 31,
   "metadata": {
    "scrolled": true
   },
   "outputs": [
    {
     "data": {
      "text/plain": [
       "No     3641\n",
       "Yes    3402\n",
       "Name: partner, dtype: int64"
      ]
     },
     "execution_count": 31,
     "metadata": {},
     "output_type": "execute_result"
    }
   ],
   "source": [
    "df_personal.partner.value_counts()"
   ]
  },
  {
   "cell_type": "code",
   "execution_count": 32,
   "metadata": {
    "scrolled": true
   },
   "outputs": [],
   "source": [
    "df_personal.partner = df_personal.partner.map({'No':0, 'Yes': 1})"
   ]
  },
  {
   "cell_type": "code",
   "execution_count": 33,
   "metadata": {
    "scrolled": true
   },
   "outputs": [
    {
     "data": {
      "text/plain": [
       "No     4933\n",
       "Yes    2110\n",
       "Name: dependents, dtype: int64"
      ]
     },
     "execution_count": 33,
     "metadata": {},
     "output_type": "execute_result"
    }
   ],
   "source": [
    "df_personal.dependents.value_counts()"
   ]
  },
  {
   "cell_type": "code",
   "execution_count": 34,
   "metadata": {
    "scrolled": true
   },
   "outputs": [],
   "source": [
    "df_personal.dependents = df_personal.dependents.map({'No':0, 'Yes': 1})"
   ]
  },
  {
   "cell_type": "code",
   "execution_count": 35,
   "metadata": {
    "scrolled": true
   },
   "outputs": [
    {
     "data": {
      "text/plain": [
       "0    5901\n",
       "1    1142\n",
       "Name: senior_citizen, dtype: int64"
      ]
     },
     "execution_count": 35,
     "metadata": {},
     "output_type": "execute_result"
    }
   ],
   "source": [
    "df_personal.senior_citizen.value_counts()"
   ]
  },
  {
   "cell_type": "code",
   "execution_count": 36,
   "metadata": {
    "scrolled": true
   },
   "outputs": [
    {
     "data": {
      "text/plain": [
       "Male      3555\n",
       "Female    3488\n",
       "Name: gender, dtype: int64"
      ]
     },
     "execution_count": 36,
     "metadata": {},
     "output_type": "execute_result"
    }
   ],
   "source": [
    "df_personal.gender.value_counts()"
   ]
  },
  {
   "cell_type": "code",
   "execution_count": 37,
   "metadata": {
    "scrolled": true
   },
   "outputs": [],
   "source": [
    "df_personal.gender = df_personal.gender.map({'Male':0, 'Female': 1})"
   ]
  },
  {
   "cell_type": "code",
   "execution_count": 38,
   "metadata": {
    "scrolled": true
   },
   "outputs": [
    {
     "data": {
      "text/html": [
       "<div>\n",
       "<style scoped>\n",
       "    .dataframe tbody tr th:only-of-type {\n",
       "        vertical-align: middle;\n",
       "    }\n",
       "\n",
       "    .dataframe tbody tr th {\n",
       "        vertical-align: top;\n",
       "    }\n",
       "\n",
       "    .dataframe thead th {\n",
       "        text-align: right;\n",
       "    }\n",
       "</style>\n",
       "<table border=\"1\" class=\"dataframe\">\n",
       "  <thead>\n",
       "    <tr style=\"text-align: right;\">\n",
       "      <th></th>\n",
       "      <th>customer_id</th>\n",
       "      <th>gender</th>\n",
       "      <th>senior_citizen</th>\n",
       "      <th>partner</th>\n",
       "      <th>dependents</th>\n",
       "    </tr>\n",
       "  </thead>\n",
       "  <tbody>\n",
       "    <tr>\n",
       "      <th>466</th>\n",
       "      <td>9076-AXYIK</td>\n",
       "      <td>0</td>\n",
       "      <td>1</td>\n",
       "      <td>1</td>\n",
       "      <td>0</td>\n",
       "    </tr>\n",
       "    <tr>\n",
       "      <th>3442</th>\n",
       "      <td>0468-YRPXN</td>\n",
       "      <td>0</td>\n",
       "      <td>0</td>\n",
       "      <td>0</td>\n",
       "      <td>0</td>\n",
       "    </tr>\n",
       "    <tr>\n",
       "      <th>3145</th>\n",
       "      <td>2919-HBCJO</td>\n",
       "      <td>1</td>\n",
       "      <td>0</td>\n",
       "      <td>0</td>\n",
       "      <td>0</td>\n",
       "    </tr>\n",
       "    <tr>\n",
       "      <th>77</th>\n",
       "      <td>5590-ZSKRV</td>\n",
       "      <td>1</td>\n",
       "      <td>0</td>\n",
       "      <td>1</td>\n",
       "      <td>1</td>\n",
       "    </tr>\n",
       "    <tr>\n",
       "      <th>4742</th>\n",
       "      <td>8544-JNBOX</td>\n",
       "      <td>0</td>\n",
       "      <td>0</td>\n",
       "      <td>0</td>\n",
       "      <td>0</td>\n",
       "    </tr>\n",
       "  </tbody>\n",
       "</table>\n",
       "</div>"
      ],
      "text/plain": [
       "     customer_id  gender  senior_citizen  partner  dependents\n",
       "466   9076-AXYIK       0               1        1           0\n",
       "3442  0468-YRPXN       0               0        0           0\n",
       "3145  2919-HBCJO       1               0        0           0\n",
       "77    5590-ZSKRV       1               0        1           1\n",
       "4742  8544-JNBOX       0               0        0           0"
      ]
     },
     "execution_count": 38,
     "metadata": {},
     "output_type": "execute_result"
    }
   ],
   "source": [
    "df_personal.sample(5)"
   ]
  },
  {
   "cell_type": "markdown",
   "metadata": {},
   "source": [
    "<div class=\"alert alert-success\">\n",
    "<b>**Комментарий тимлида ✔️:**</b>\n",
    "\n",
    "Ок изучила еще один кусочек данных.\n",
    "</div>"
   ]
  },
  {
   "cell_type": "markdown",
   "metadata": {},
   "source": [
    "#### Интернет"
   ]
  },
  {
   "cell_type": "code",
   "execution_count": 39,
   "metadata": {
    "scrolled": true
   },
   "outputs": [
    {
     "data": {
      "text/html": [
       "<div>\n",
       "<style scoped>\n",
       "    .dataframe tbody tr th:only-of-type {\n",
       "        vertical-align: middle;\n",
       "    }\n",
       "\n",
       "    .dataframe tbody tr th {\n",
       "        vertical-align: top;\n",
       "    }\n",
       "\n",
       "    .dataframe thead th {\n",
       "        text-align: right;\n",
       "    }\n",
       "</style>\n",
       "<table border=\"1\" class=\"dataframe\">\n",
       "  <thead>\n",
       "    <tr style=\"text-align: right;\">\n",
       "      <th></th>\n",
       "      <th>customerID</th>\n",
       "      <th>InternetService</th>\n",
       "      <th>OnlineSecurity</th>\n",
       "      <th>OnlineBackup</th>\n",
       "      <th>DeviceProtection</th>\n",
       "      <th>TechSupport</th>\n",
       "      <th>StreamingTV</th>\n",
       "      <th>StreamingMovies</th>\n",
       "    </tr>\n",
       "  </thead>\n",
       "  <tbody>\n",
       "    <tr>\n",
       "      <th>0</th>\n",
       "      <td>7590-VHVEG</td>\n",
       "      <td>DSL</td>\n",
       "      <td>No</td>\n",
       "      <td>Yes</td>\n",
       "      <td>No</td>\n",
       "      <td>No</td>\n",
       "      <td>No</td>\n",
       "      <td>No</td>\n",
       "    </tr>\n",
       "    <tr>\n",
       "      <th>1</th>\n",
       "      <td>5575-GNVDE</td>\n",
       "      <td>DSL</td>\n",
       "      <td>Yes</td>\n",
       "      <td>No</td>\n",
       "      <td>Yes</td>\n",
       "      <td>No</td>\n",
       "      <td>No</td>\n",
       "      <td>No</td>\n",
       "    </tr>\n",
       "    <tr>\n",
       "      <th>2</th>\n",
       "      <td>3668-QPYBK</td>\n",
       "      <td>DSL</td>\n",
       "      <td>Yes</td>\n",
       "      <td>Yes</td>\n",
       "      <td>No</td>\n",
       "      <td>No</td>\n",
       "      <td>No</td>\n",
       "      <td>No</td>\n",
       "    </tr>\n",
       "    <tr>\n",
       "      <th>3</th>\n",
       "      <td>7795-CFOCW</td>\n",
       "      <td>DSL</td>\n",
       "      <td>Yes</td>\n",
       "      <td>No</td>\n",
       "      <td>Yes</td>\n",
       "      <td>Yes</td>\n",
       "      <td>No</td>\n",
       "      <td>No</td>\n",
       "    </tr>\n",
       "    <tr>\n",
       "      <th>4</th>\n",
       "      <td>9237-HQITU</td>\n",
       "      <td>Fiber optic</td>\n",
       "      <td>No</td>\n",
       "      <td>No</td>\n",
       "      <td>No</td>\n",
       "      <td>No</td>\n",
       "      <td>No</td>\n",
       "      <td>No</td>\n",
       "    </tr>\n",
       "  </tbody>\n",
       "</table>\n",
       "</div>"
      ],
      "text/plain": [
       "   customerID InternetService OnlineSecurity OnlineBackup DeviceProtection  \\\n",
       "0  7590-VHVEG             DSL             No          Yes               No   \n",
       "1  5575-GNVDE             DSL            Yes           No              Yes   \n",
       "2  3668-QPYBK             DSL            Yes          Yes               No   \n",
       "3  7795-CFOCW             DSL            Yes           No              Yes   \n",
       "4  9237-HQITU     Fiber optic             No           No               No   \n",
       "\n",
       "  TechSupport StreamingTV StreamingMovies  \n",
       "0          No          No              No  \n",
       "1          No          No              No  \n",
       "2          No          No              No  \n",
       "3         Yes          No              No  \n",
       "4          No          No              No  "
      ]
     },
     "execution_count": 39,
     "metadata": {},
     "output_type": "execute_result"
    }
   ],
   "source": [
    "df_internet = pd.read_csv('datasets/final_provider/internet.csv')\n",
    "df_internet.head()"
   ]
  },
  {
   "cell_type": "code",
   "execution_count": 40,
   "metadata": {
    "scrolled": true
   },
   "outputs": [],
   "source": [
    "df_internet.columns = ['customer_id', 'internet_service', 'online_security',\n",
    "                      'online_backup', 'device_protection', 'tech_support', 'streaming_tv', 'streaming_movies']"
   ]
  },
  {
   "cell_type": "code",
   "execution_count": 41,
   "metadata": {
    "scrolled": true
   },
   "outputs": [
    {
     "name": "stdout",
     "output_type": "stream",
     "text": [
      "<class 'pandas.core.frame.DataFrame'>\n",
      "RangeIndex: 5517 entries, 0 to 5516\n",
      "Data columns (total 8 columns):\n",
      " #   Column             Non-Null Count  Dtype \n",
      "---  ------             --------------  ----- \n",
      " 0   customer_id        5517 non-null   object\n",
      " 1   internet_service   5517 non-null   object\n",
      " 2   online_security    5517 non-null   object\n",
      " 3   online_backup      5517 non-null   object\n",
      " 4   device_protection  5517 non-null   object\n",
      " 5   tech_support       5517 non-null   object\n",
      " 6   streaming_tv       5517 non-null   object\n",
      " 7   streaming_movies   5517 non-null   object\n",
      "dtypes: object(8)\n",
      "memory usage: 344.9+ KB\n"
     ]
    }
   ],
   "source": [
    "df_internet.info()"
   ]
  },
  {
   "cell_type": "code",
   "execution_count": 42,
   "metadata": {
    "scrolled": true
   },
   "outputs": [],
   "source": [
    "for col in ['online_security',\n",
    "                      'online_backup', 'device_protection', 'tech_support', 'streaming_tv', 'streaming_movies']:\n",
    "    df_internet[col] = df_internet[col].map({'No':0, 'Yes': 1})"
   ]
  },
  {
   "cell_type": "code",
   "execution_count": 43,
   "metadata": {
    "scrolled": true
   },
   "outputs": [
    {
     "data": {
      "text/plain": [
       "Fiber optic    3096\n",
       "DSL            2421\n",
       "Name: internet_service, dtype: int64"
      ]
     },
     "execution_count": 43,
     "metadata": {},
     "output_type": "execute_result"
    }
   ],
   "source": [
    "df_internet.internet_service.value_counts()"
   ]
  },
  {
   "cell_type": "code",
   "execution_count": 44,
   "metadata": {
    "scrolled": true
   },
   "outputs": [],
   "source": [
    "df_internet['internet_service'] = df_internet['internet_service'].map({'Fiber optic':0, 'DSL': 1})"
   ]
  },
  {
   "cell_type": "code",
   "execution_count": 45,
   "metadata": {
    "scrolled": true
   },
   "outputs": [
    {
     "data": {
      "text/html": [
       "<div>\n",
       "<style scoped>\n",
       "    .dataframe tbody tr th:only-of-type {\n",
       "        vertical-align: middle;\n",
       "    }\n",
       "\n",
       "    .dataframe tbody tr th {\n",
       "        vertical-align: top;\n",
       "    }\n",
       "\n",
       "    .dataframe thead th {\n",
       "        text-align: right;\n",
       "    }\n",
       "</style>\n",
       "<table border=\"1\" class=\"dataframe\">\n",
       "  <thead>\n",
       "    <tr style=\"text-align: right;\">\n",
       "      <th></th>\n",
       "      <th>customer_id</th>\n",
       "      <th>internet_service</th>\n",
       "      <th>online_security</th>\n",
       "      <th>online_backup</th>\n",
       "      <th>device_protection</th>\n",
       "      <th>tech_support</th>\n",
       "      <th>streaming_tv</th>\n",
       "      <th>streaming_movies</th>\n",
       "    </tr>\n",
       "  </thead>\n",
       "  <tbody>\n",
       "    <tr>\n",
       "      <th>4448</th>\n",
       "      <td>0336-KXKFK</td>\n",
       "      <td>1</td>\n",
       "      <td>1</td>\n",
       "      <td>0</td>\n",
       "      <td>1</td>\n",
       "      <td>1</td>\n",
       "      <td>1</td>\n",
       "      <td>1</td>\n",
       "    </tr>\n",
       "    <tr>\n",
       "      <th>4084</th>\n",
       "      <td>0302-JOIVN</td>\n",
       "      <td>0</td>\n",
       "      <td>0</td>\n",
       "      <td>1</td>\n",
       "      <td>1</td>\n",
       "      <td>0</td>\n",
       "      <td>1</td>\n",
       "      <td>1</td>\n",
       "    </tr>\n",
       "    <tr>\n",
       "      <th>4829</th>\n",
       "      <td>8495-PRWFH</td>\n",
       "      <td>1</td>\n",
       "      <td>0</td>\n",
       "      <td>0</td>\n",
       "      <td>1</td>\n",
       "      <td>0</td>\n",
       "      <td>0</td>\n",
       "      <td>0</td>\n",
       "    </tr>\n",
       "    <tr>\n",
       "      <th>4573</th>\n",
       "      <td>7876-BEUTG</td>\n",
       "      <td>1</td>\n",
       "      <td>0</td>\n",
       "      <td>0</td>\n",
       "      <td>0</td>\n",
       "      <td>0</td>\n",
       "      <td>0</td>\n",
       "      <td>0</td>\n",
       "    </tr>\n",
       "    <tr>\n",
       "      <th>2471</th>\n",
       "      <td>7410-KTVFV</td>\n",
       "      <td>1</td>\n",
       "      <td>0</td>\n",
       "      <td>0</td>\n",
       "      <td>1</td>\n",
       "      <td>0</td>\n",
       "      <td>0</td>\n",
       "      <td>0</td>\n",
       "    </tr>\n",
       "  </tbody>\n",
       "</table>\n",
       "</div>"
      ],
      "text/plain": [
       "     customer_id  internet_service  online_security  online_backup  \\\n",
       "4448  0336-KXKFK                 1                1              0   \n",
       "4084  0302-JOIVN                 0                0              1   \n",
       "4829  8495-PRWFH                 1                0              0   \n",
       "4573  7876-BEUTG                 1                0              0   \n",
       "2471  7410-KTVFV                 1                0              0   \n",
       "\n",
       "      device_protection  tech_support  streaming_tv  streaming_movies  \n",
       "4448                  1             1             1                 1  \n",
       "4084                  1             0             1                 1  \n",
       "4829                  1             0             0                 0  \n",
       "4573                  0             0             0                 0  \n",
       "2471                  1             0             0                 0  "
      ]
     },
     "execution_count": 45,
     "metadata": {},
     "output_type": "execute_result"
    }
   ],
   "source": [
    "df_internet.sample(5)"
   ]
  },
  {
   "cell_type": "markdown",
   "metadata": {},
   "source": [
    "<div class=\"alert alert-success\">\n",
    "<b>**Комментарий тимлида ✔️:**</b>\n",
    "\n",
    "Ок, проверили данные, поменяли название колонок и сразу закодировали бинарные столбцы.\n",
    "</div>"
   ]
  },
  {
   "cell_type": "markdown",
   "metadata": {},
   "source": [
    "#### Телефон"
   ]
  },
  {
   "cell_type": "code",
   "execution_count": 46,
   "metadata": {
    "scrolled": true
   },
   "outputs": [
    {
     "data": {
      "text/html": [
       "<div>\n",
       "<style scoped>\n",
       "    .dataframe tbody tr th:only-of-type {\n",
       "        vertical-align: middle;\n",
       "    }\n",
       "\n",
       "    .dataframe tbody tr th {\n",
       "        vertical-align: top;\n",
       "    }\n",
       "\n",
       "    .dataframe thead th {\n",
       "        text-align: right;\n",
       "    }\n",
       "</style>\n",
       "<table border=\"1\" class=\"dataframe\">\n",
       "  <thead>\n",
       "    <tr style=\"text-align: right;\">\n",
       "      <th></th>\n",
       "      <th>customerID</th>\n",
       "      <th>MultipleLines</th>\n",
       "    </tr>\n",
       "  </thead>\n",
       "  <tbody>\n",
       "    <tr>\n",
       "      <th>0</th>\n",
       "      <td>5575-GNVDE</td>\n",
       "      <td>No</td>\n",
       "    </tr>\n",
       "    <tr>\n",
       "      <th>1</th>\n",
       "      <td>3668-QPYBK</td>\n",
       "      <td>No</td>\n",
       "    </tr>\n",
       "    <tr>\n",
       "      <th>2</th>\n",
       "      <td>9237-HQITU</td>\n",
       "      <td>No</td>\n",
       "    </tr>\n",
       "    <tr>\n",
       "      <th>3</th>\n",
       "      <td>9305-CDSKC</td>\n",
       "      <td>Yes</td>\n",
       "    </tr>\n",
       "    <tr>\n",
       "      <th>4</th>\n",
       "      <td>1452-KIOVK</td>\n",
       "      <td>Yes</td>\n",
       "    </tr>\n",
       "  </tbody>\n",
       "</table>\n",
       "</div>"
      ],
      "text/plain": [
       "   customerID MultipleLines\n",
       "0  5575-GNVDE            No\n",
       "1  3668-QPYBK            No\n",
       "2  9237-HQITU            No\n",
       "3  9305-CDSKC           Yes\n",
       "4  1452-KIOVK           Yes"
      ]
     },
     "execution_count": 46,
     "metadata": {},
     "output_type": "execute_result"
    }
   ],
   "source": [
    "df_phone = pd.read_csv('datasets/final_provider/phone.csv')\n",
    "df_phone.head()"
   ]
  },
  {
   "cell_type": "code",
   "execution_count": 47,
   "metadata": {
    "scrolled": true
   },
   "outputs": [],
   "source": [
    "df_phone.columns = ['customer_id', 'multiple_lines']"
   ]
  },
  {
   "cell_type": "code",
   "execution_count": 48,
   "metadata": {
    "scrolled": true
   },
   "outputs": [
    {
     "data": {
      "text/plain": [
       "6361"
      ]
     },
     "execution_count": 48,
     "metadata": {},
     "output_type": "execute_result"
    }
   ],
   "source": [
    "df_phone.customer_id.nunique()"
   ]
  },
  {
   "cell_type": "code",
   "execution_count": 49,
   "metadata": {
    "scrolled": true
   },
   "outputs": [
    {
     "data": {
      "text/plain": [
       "6361"
      ]
     },
     "execution_count": 49,
     "metadata": {},
     "output_type": "execute_result"
    }
   ],
   "source": [
    "df_phone.shape[0]"
   ]
  },
  {
   "cell_type": "markdown",
   "metadata": {},
   "source": [
    "<div class=\"alert alert-danger\">\n",
    "<b>**Комментарий тимлида ❌:**</b>\n",
    "\n",
    "Код не работает. Последовательность исполнения нарушена - название полей меняешь ПОСЛЕ этой ячейки. Надо проверять код перед отправкой на проверку!\n",
    "</div>"
   ]
  },
  {
   "cell_type": "markdown",
   "metadata": {},
   "source": [
    "<div class=\"alert alert-info\"> <b>Комментарий студента:</b> Поправила</div>"
   ]
  },
  {
   "cell_type": "code",
   "execution_count": 50,
   "metadata": {
    "scrolled": true
   },
   "outputs": [
    {
     "data": {
      "text/plain": [
       "No     3390\n",
       "Yes    2971\n",
       "Name: multiple_lines, dtype: int64"
      ]
     },
     "execution_count": 50,
     "metadata": {},
     "output_type": "execute_result"
    }
   ],
   "source": [
    "df_phone.multiple_lines.value_counts()"
   ]
  },
  {
   "cell_type": "code",
   "execution_count": 51,
   "metadata": {
    "scrolled": true
   },
   "outputs": [],
   "source": [
    "df_phone.multiple_lines = df_phone.multiple_lines.map({'No':0, 'Yes': 1})"
   ]
  },
  {
   "cell_type": "code",
   "execution_count": 52,
   "metadata": {
    "scrolled": true
   },
   "outputs": [
    {
     "data": {
      "text/html": [
       "<div>\n",
       "<style scoped>\n",
       "    .dataframe tbody tr th:only-of-type {\n",
       "        vertical-align: middle;\n",
       "    }\n",
       "\n",
       "    .dataframe tbody tr th {\n",
       "        vertical-align: top;\n",
       "    }\n",
       "\n",
       "    .dataframe thead th {\n",
       "        text-align: right;\n",
       "    }\n",
       "</style>\n",
       "<table border=\"1\" class=\"dataframe\">\n",
       "  <thead>\n",
       "    <tr style=\"text-align: right;\">\n",
       "      <th></th>\n",
       "      <th>customer_id</th>\n",
       "      <th>multiple_lines</th>\n",
       "    </tr>\n",
       "  </thead>\n",
       "  <tbody>\n",
       "    <tr>\n",
       "      <th>4843</th>\n",
       "      <td>3521-SYVOR</td>\n",
       "      <td>0</td>\n",
       "    </tr>\n",
       "    <tr>\n",
       "      <th>3815</th>\n",
       "      <td>4385-ZKVNW</td>\n",
       "      <td>0</td>\n",
       "    </tr>\n",
       "    <tr>\n",
       "      <th>5756</th>\n",
       "      <td>3587-PMCOY</td>\n",
       "      <td>0</td>\n",
       "    </tr>\n",
       "    <tr>\n",
       "      <th>1161</th>\n",
       "      <td>4821-WQOYN</td>\n",
       "      <td>0</td>\n",
       "    </tr>\n",
       "    <tr>\n",
       "      <th>5862</th>\n",
       "      <td>5448-VWNAM</td>\n",
       "      <td>1</td>\n",
       "    </tr>\n",
       "  </tbody>\n",
       "</table>\n",
       "</div>"
      ],
      "text/plain": [
       "     customer_id  multiple_lines\n",
       "4843  3521-SYVOR               0\n",
       "3815  4385-ZKVNW               0\n",
       "5756  3587-PMCOY               0\n",
       "1161  4821-WQOYN               0\n",
       "5862  5448-VWNAM               1"
      ]
     },
     "execution_count": 52,
     "metadata": {},
     "output_type": "execute_result"
    }
   ],
   "source": [
    "df_phone.sample(5)"
   ]
  },
  {
   "cell_type": "markdown",
   "metadata": {},
   "source": [
    "<div class=\"alert alert-success\">\n",
    "<b>**Комментарий тимлида ✔️:**</b>\n",
    "\n",
    "Ок, есть проверка всех данных.\n",
    "</div>"
   ]
  },
  {
   "cell_type": "markdown",
   "metadata": {},
   "source": [
    "### Готовим датасет"
   ]
  },
  {
   "cell_type": "code",
   "execution_count": 53,
   "metadata": {
    "scrolled": true
   },
   "outputs": [],
   "source": [
    "df = df_contract.merge(df_personal, how = 'left')"
   ]
  },
  {
   "cell_type": "code",
   "execution_count": 54,
   "metadata": {
    "scrolled": true
   },
   "outputs": [],
   "source": [
    "df = df.merge(df_internet, how = 'left')"
   ]
  },
  {
   "cell_type": "code",
   "execution_count": 55,
   "metadata": {
    "scrolled": true
   },
   "outputs": [],
   "source": [
    "# Тут была ячейка с заполнением 0 категориальных признаков. Сорри, удалил, потом только заметил - а ноутбук уже сохранился( \n",
    "# У тебя же осталось копия? ))"
   ]
  },
  {
   "cell_type": "markdown",
   "metadata": {},
   "source": [
    "<div class=\"alert alert-info\"> <b>Комментарий студента:</b> Ничего, код не рокет саенс был))</div>"
   ]
  },
  {
   "cell_type": "code",
   "execution_count": 56,
   "metadata": {
    "scrolled": true
   },
   "outputs": [],
   "source": [
    "for col in ['internet_service','online_security',\n",
    "                      'online_backup', 'device_protection', 'tech_support', 'streaming_tv', 'streaming_movies']:\n",
    "    df[col] = df[col].fillna(0).astype(int)"
   ]
  },
  {
   "cell_type": "code",
   "execution_count": 57,
   "metadata": {
    "scrolled": true
   },
   "outputs": [],
   "source": [
    "df = df.merge(df_phone, how = 'left')"
   ]
  },
  {
   "cell_type": "code",
   "execution_count": 58,
   "metadata": {
    "scrolled": true
   },
   "outputs": [],
   "source": [
    "df['multiple_lines'] = df['multiple_lines'].fillna(0).astype(int)"
   ]
  },
  {
   "cell_type": "code",
   "execution_count": 59,
   "metadata": {
    "scrolled": true
   },
   "outputs": [
    {
     "data": {
      "text/html": [
       "<div>\n",
       "<style scoped>\n",
       "    .dataframe tbody tr th:only-of-type {\n",
       "        vertical-align: middle;\n",
       "    }\n",
       "\n",
       "    .dataframe tbody tr th {\n",
       "        vertical-align: top;\n",
       "    }\n",
       "\n",
       "    .dataframe thead th {\n",
       "        text-align: right;\n",
       "    }\n",
       "</style>\n",
       "<table border=\"1\" class=\"dataframe\">\n",
       "  <thead>\n",
       "    <tr style=\"text-align: right;\">\n",
       "      <th></th>\n",
       "      <th>customer_id</th>\n",
       "      <th>type</th>\n",
       "      <th>paper_less_billing</th>\n",
       "      <th>pay_method</th>\n",
       "      <th>monthly_charges</th>\n",
       "      <th>total_charges</th>\n",
       "      <th>ended</th>\n",
       "      <th>days_active</th>\n",
       "      <th>gender</th>\n",
       "      <th>senior_citizen</th>\n",
       "      <th>partner</th>\n",
       "      <th>dependents</th>\n",
       "      <th>internet_service</th>\n",
       "      <th>online_security</th>\n",
       "      <th>online_backup</th>\n",
       "      <th>device_protection</th>\n",
       "      <th>tech_support</th>\n",
       "      <th>streaming_tv</th>\n",
       "      <th>streaming_movies</th>\n",
       "      <th>multiple_lines</th>\n",
       "    </tr>\n",
       "  </thead>\n",
       "  <tbody>\n",
       "    <tr>\n",
       "      <th>1546</th>\n",
       "      <td>6518-KZXCB</td>\n",
       "      <td>Two year</td>\n",
       "      <td>No</td>\n",
       "      <td>Mailed check</td>\n",
       "      <td>25.25</td>\n",
       "      <td>566.5</td>\n",
       "      <td>0</td>\n",
       "      <td>671</td>\n",
       "      <td>0</td>\n",
       "      <td>0</td>\n",
       "      <td>0</td>\n",
       "      <td>0</td>\n",
       "      <td>0</td>\n",
       "      <td>0</td>\n",
       "      <td>0</td>\n",
       "      <td>0</td>\n",
       "      <td>0</td>\n",
       "      <td>0</td>\n",
       "      <td>0</td>\n",
       "      <td>1</td>\n",
       "    </tr>\n",
       "    <tr>\n",
       "      <th>6017</th>\n",
       "      <td>4770-QAZXN</td>\n",
       "      <td>Month-to-month</td>\n",
       "      <td>No</td>\n",
       "      <td>Credit card (automatic)</td>\n",
       "      <td>19.45</td>\n",
       "      <td>232.1</td>\n",
       "      <td>0</td>\n",
       "      <td>396</td>\n",
       "      <td>1</td>\n",
       "      <td>0</td>\n",
       "      <td>0</td>\n",
       "      <td>0</td>\n",
       "      <td>0</td>\n",
       "      <td>0</td>\n",
       "      <td>0</td>\n",
       "      <td>0</td>\n",
       "      <td>0</td>\n",
       "      <td>0</td>\n",
       "      <td>0</td>\n",
       "      <td>0</td>\n",
       "    </tr>\n",
       "    <tr>\n",
       "      <th>5205</th>\n",
       "      <td>7668-XCFYV</td>\n",
       "      <td>Month-to-month</td>\n",
       "      <td>Yes</td>\n",
       "      <td>Electronic check</td>\n",
       "      <td>92.55</td>\n",
       "      <td>1614.7</td>\n",
       "      <td>0</td>\n",
       "      <td>518</td>\n",
       "      <td>1</td>\n",
       "      <td>1</td>\n",
       "      <td>1</td>\n",
       "      <td>0</td>\n",
       "      <td>0</td>\n",
       "      <td>0</td>\n",
       "      <td>0</td>\n",
       "      <td>0</td>\n",
       "      <td>0</td>\n",
       "      <td>1</td>\n",
       "      <td>1</td>\n",
       "      <td>1</td>\n",
       "    </tr>\n",
       "    <tr>\n",
       "      <th>1444</th>\n",
       "      <td>6806-YDEUL</td>\n",
       "      <td>Month-to-month</td>\n",
       "      <td>No</td>\n",
       "      <td>Bank transfer (automatic)</td>\n",
       "      <td>19.50</td>\n",
       "      <td>106.8</td>\n",
       "      <td>0</td>\n",
       "      <td>184</td>\n",
       "      <td>1</td>\n",
       "      <td>1</td>\n",
       "      <td>0</td>\n",
       "      <td>0</td>\n",
       "      <td>0</td>\n",
       "      <td>0</td>\n",
       "      <td>0</td>\n",
       "      <td>0</td>\n",
       "      <td>0</td>\n",
       "      <td>0</td>\n",
       "      <td>0</td>\n",
       "      <td>0</td>\n",
       "    </tr>\n",
       "    <tr>\n",
       "      <th>2695</th>\n",
       "      <td>2346-DJQTB</td>\n",
       "      <td>Month-to-month</td>\n",
       "      <td>No</td>\n",
       "      <td>Electronic check</td>\n",
       "      <td>24.15</td>\n",
       "      <td>812.5</td>\n",
       "      <td>0</td>\n",
       "      <td>1067</td>\n",
       "      <td>1</td>\n",
       "      <td>0</td>\n",
       "      <td>0</td>\n",
       "      <td>0</td>\n",
       "      <td>1</td>\n",
       "      <td>0</td>\n",
       "      <td>0</td>\n",
       "      <td>0</td>\n",
       "      <td>0</td>\n",
       "      <td>0</td>\n",
       "      <td>0</td>\n",
       "      <td>0</td>\n",
       "    </tr>\n",
       "  </tbody>\n",
       "</table>\n",
       "</div>"
      ],
      "text/plain": [
       "     customer_id            type paper_less_billing  \\\n",
       "1546  6518-KZXCB        Two year                 No   \n",
       "6017  4770-QAZXN  Month-to-month                 No   \n",
       "5205  7668-XCFYV  Month-to-month                Yes   \n",
       "1444  6806-YDEUL  Month-to-month                 No   \n",
       "2695  2346-DJQTB  Month-to-month                 No   \n",
       "\n",
       "                     pay_method  monthly_charges  total_charges  ended  \\\n",
       "1546               Mailed check            25.25          566.5      0   \n",
       "6017    Credit card (automatic)            19.45          232.1      0   \n",
       "5205           Electronic check            92.55         1614.7      0   \n",
       "1444  Bank transfer (automatic)            19.50          106.8      0   \n",
       "2695           Electronic check            24.15          812.5      0   \n",
       "\n",
       "      days_active  gender  senior_citizen  partner  dependents  \\\n",
       "1546          671       0               0        0           0   \n",
       "6017          396       1               0        0           0   \n",
       "5205          518       1               1        1           0   \n",
       "1444          184       1               1        0           0   \n",
       "2695         1067       1               0        0           0   \n",
       "\n",
       "      internet_service  online_security  online_backup  device_protection  \\\n",
       "1546                 0                0              0                  0   \n",
       "6017                 0                0              0                  0   \n",
       "5205                 0                0              0                  0   \n",
       "1444                 0                0              0                  0   \n",
       "2695                 1                0              0                  0   \n",
       "\n",
       "      tech_support  streaming_tv  streaming_movies  multiple_lines  \n",
       "1546             0             0                 0               1  \n",
       "6017             0             0                 0               0  \n",
       "5205             0             1                 1               1  \n",
       "1444             0             0                 0               0  \n",
       "2695             0             0                 0               0  "
      ]
     },
     "execution_count": 59,
     "metadata": {},
     "output_type": "execute_result"
    }
   ],
   "source": [
    "df.sample(5)"
   ]
  },
  {
   "cell_type": "markdown",
   "metadata": {},
   "source": [
    "<div class=\"alert alert-success\">\n",
    "<b>**Комментарий тимлида ✔️:**</b>\n",
    "\n",
    "Объединили и заполнили пропуски. Отлично!\n",
    "</div>"
   ]
  },
  {
   "cell_type": "code",
   "execution_count": 60,
   "metadata": {
    "scrolled": false
   },
   "outputs": [
    {
     "name": "stdout",
     "output_type": "stream",
     "text": [
      "<class 'pandas.core.frame.DataFrame'>\n",
      "Int64Index: 7032 entries, 0 to 7031\n",
      "Data columns (total 20 columns):\n",
      " #   Column              Non-Null Count  Dtype  \n",
      "---  ------              --------------  -----  \n",
      " 0   customer_id         7032 non-null   object \n",
      " 1   type                7032 non-null   object \n",
      " 2   paper_less_billing  7032 non-null   object \n",
      " 3   pay_method          7032 non-null   object \n",
      " 4   monthly_charges     7032 non-null   float64\n",
      " 5   total_charges       7032 non-null   float64\n",
      " 6   ended               7032 non-null   int64  \n",
      " 7   days_active         7032 non-null   int64  \n",
      " 8   gender              7032 non-null   int64  \n",
      " 9   senior_citizen      7032 non-null   int64  \n",
      " 10  partner             7032 non-null   int64  \n",
      " 11  dependents          7032 non-null   int64  \n",
      " 12  internet_service    7032 non-null   int64  \n",
      " 13  online_security     7032 non-null   int64  \n",
      " 14  online_backup       7032 non-null   int64  \n",
      " 15  device_protection   7032 non-null   int64  \n",
      " 16  tech_support        7032 non-null   int64  \n",
      " 17  streaming_tv        7032 non-null   int64  \n",
      " 18  streaming_movies    7032 non-null   int64  \n",
      " 19  multiple_lines      7032 non-null   int64  \n",
      "dtypes: float64(2), int64(14), object(4)\n",
      "memory usage: 1.1+ MB\n"
     ]
    }
   ],
   "source": [
    "df.info()"
   ]
  },
  {
   "cell_type": "code",
   "execution_count": 101,
   "metadata": {},
   "outputs": [
    {
     "data": {
      "text/plain": [
       "0       129.85\n",
       "1       156.95\n",
       "2       153.85\n",
       "3       142.30\n",
       "4       170.70\n",
       "         ...  \n",
       "7027    184.80\n",
       "7028    203.20\n",
       "7029    129.60\n",
       "7030    174.40\n",
       "7031    205.65\n",
       "Name: monthly_charges, Length: 7032, dtype: float64"
      ]
     },
     "execution_count": 101,
     "metadata": {},
     "output_type": "execute_result"
    }
   ],
   "source": [
    "df['monthly_charges'].apply(lambda x: x + 100)"
   ]
  },
  {
   "cell_type": "code",
   "execution_count": 102,
   "metadata": {},
   "outputs": [
    {
     "data": {
      "text/plain": [
       "0         59.70\n",
       "1       1946.45\n",
       "2        162.00\n",
       "3       1883.05\n",
       "4        222.35\n",
       "         ...   \n",
       "7027    2075.30\n",
       "7028    7466.10\n",
       "7029     376.05\n",
       "7030     381.00\n",
       "7031    6950.15\n",
       "Length: 7032, dtype: float64"
      ]
     },
     "execution_count": 102,
     "metadata": {},
     "output_type": "execute_result"
    }
   ],
   "source": [
    "df.apply(lambda x: x.total_charges + x.monthly_charges, axis = 1)"
   ]
  },
  {
   "cell_type": "markdown",
   "metadata": {},
   "source": [
    "### Готовим данные для модели"
   ]
  },
  {
   "cell_type": "markdown",
   "metadata": {},
   "source": [
    "Делаем еще парочку модификация: добиваем бинарные переменные, делаем one-hot encoding, удаляем лишние переменные, которые отсекли в предварительном анализе данных"
   ]
  },
  {
   "cell_type": "code",
   "execution_count": 61,
   "metadata": {
    "scrolled": true
   },
   "outputs": [],
   "source": [
    "df.paper_less_billing = df.paper_less_billing.map({'Yes':1,'No':0})"
   ]
  },
  {
   "cell_type": "code",
   "execution_count": 62,
   "metadata": {
    "scrolled": true
   },
   "outputs": [],
   "source": [
    "data = df.drop(['customer_id','total_charges'], axis = 1)"
   ]
  },
  {
   "cell_type": "markdown",
   "metadata": {},
   "source": [
    "<div class=\"alert alert-success\">\n",
    "<b>**Комментарий тимлида_v2 ✔️:**</b>\n",
    "\n",
    "Ок. есть бинарное кодирование.\n",
    "</div>"
   ]
  },
  {
   "cell_type": "markdown",
   "metadata": {},
   "source": [
    "<div class=\"alert alert-warning\">\n",
    "<b>**Комментарий тимлида_v2 ⚠️:**</b>\n",
    "\n",
    "Не совсем понял, зачем удаляешь  'total_charges' до проверки на корреляцию. Будем считать что это было озорение! ))\n",
    "</div>"
   ]
  },
  {
   "cell_type": "markdown",
   "metadata": {},
   "source": [
    "<div class=\"alert alert-info\"> <b>Комментарий студента v2:</b> Ага))</div>"
   ]
  },
  {
   "cell_type": "markdown",
   "metadata": {},
   "source": [
    "Еще раз на всякий случай смотрим, нет ли сильной корреляции между признаками:"
   ]
  },
  {
   "cell_type": "code",
   "execution_count": 63,
   "metadata": {
    "scrolled": false
   },
   "outputs": [
    {
     "data": {
      "text/html": [
       "<div>\n",
       "<style scoped>\n",
       "    .dataframe tbody tr th:only-of-type {\n",
       "        vertical-align: middle;\n",
       "    }\n",
       "\n",
       "    .dataframe tbody tr th {\n",
       "        vertical-align: top;\n",
       "    }\n",
       "\n",
       "    .dataframe thead th {\n",
       "        text-align: right;\n",
       "    }\n",
       "</style>\n",
       "<table border=\"1\" class=\"dataframe\">\n",
       "  <thead>\n",
       "    <tr style=\"text-align: right;\">\n",
       "      <th></th>\n",
       "      <th>paper_less_billing</th>\n",
       "      <th>monthly_charges</th>\n",
       "      <th>ended</th>\n",
       "      <th>days_active</th>\n",
       "      <th>gender</th>\n",
       "      <th>senior_citizen</th>\n",
       "      <th>partner</th>\n",
       "      <th>dependents</th>\n",
       "      <th>internet_service</th>\n",
       "      <th>online_security</th>\n",
       "      <th>online_backup</th>\n",
       "      <th>device_protection</th>\n",
       "      <th>tech_support</th>\n",
       "      <th>streaming_tv</th>\n",
       "      <th>streaming_movies</th>\n",
       "      <th>multiple_lines</th>\n",
       "    </tr>\n",
       "  </thead>\n",
       "  <tbody>\n",
       "    <tr>\n",
       "      <th>paper_less_billing</th>\n",
       "      <td>True</td>\n",
       "      <td>False</td>\n",
       "      <td>False</td>\n",
       "      <td>False</td>\n",
       "      <td>False</td>\n",
       "      <td>False</td>\n",
       "      <td>False</td>\n",
       "      <td>False</td>\n",
       "      <td>False</td>\n",
       "      <td>False</td>\n",
       "      <td>False</td>\n",
       "      <td>False</td>\n",
       "      <td>False</td>\n",
       "      <td>False</td>\n",
       "      <td>False</td>\n",
       "      <td>False</td>\n",
       "    </tr>\n",
       "    <tr>\n",
       "      <th>monthly_charges</th>\n",
       "      <td>False</td>\n",
       "      <td>True</td>\n",
       "      <td>False</td>\n",
       "      <td>False</td>\n",
       "      <td>False</td>\n",
       "      <td>False</td>\n",
       "      <td>False</td>\n",
       "      <td>False</td>\n",
       "      <td>False</td>\n",
       "      <td>False</td>\n",
       "      <td>False</td>\n",
       "      <td>False</td>\n",
       "      <td>False</td>\n",
       "      <td>False</td>\n",
       "      <td>False</td>\n",
       "      <td>False</td>\n",
       "    </tr>\n",
       "    <tr>\n",
       "      <th>ended</th>\n",
       "      <td>False</td>\n",
       "      <td>False</td>\n",
       "      <td>True</td>\n",
       "      <td>False</td>\n",
       "      <td>False</td>\n",
       "      <td>False</td>\n",
       "      <td>False</td>\n",
       "      <td>False</td>\n",
       "      <td>False</td>\n",
       "      <td>False</td>\n",
       "      <td>False</td>\n",
       "      <td>False</td>\n",
       "      <td>False</td>\n",
       "      <td>False</td>\n",
       "      <td>False</td>\n",
       "      <td>False</td>\n",
       "    </tr>\n",
       "    <tr>\n",
       "      <th>days_active</th>\n",
       "      <td>False</td>\n",
       "      <td>False</td>\n",
       "      <td>False</td>\n",
       "      <td>True</td>\n",
       "      <td>False</td>\n",
       "      <td>False</td>\n",
       "      <td>False</td>\n",
       "      <td>False</td>\n",
       "      <td>False</td>\n",
       "      <td>False</td>\n",
       "      <td>False</td>\n",
       "      <td>False</td>\n",
       "      <td>False</td>\n",
       "      <td>False</td>\n",
       "      <td>False</td>\n",
       "      <td>False</td>\n",
       "    </tr>\n",
       "    <tr>\n",
       "      <th>gender</th>\n",
       "      <td>False</td>\n",
       "      <td>False</td>\n",
       "      <td>False</td>\n",
       "      <td>False</td>\n",
       "      <td>True</td>\n",
       "      <td>False</td>\n",
       "      <td>False</td>\n",
       "      <td>False</td>\n",
       "      <td>False</td>\n",
       "      <td>False</td>\n",
       "      <td>False</td>\n",
       "      <td>False</td>\n",
       "      <td>False</td>\n",
       "      <td>False</td>\n",
       "      <td>False</td>\n",
       "      <td>False</td>\n",
       "    </tr>\n",
       "    <tr>\n",
       "      <th>senior_citizen</th>\n",
       "      <td>False</td>\n",
       "      <td>False</td>\n",
       "      <td>False</td>\n",
       "      <td>False</td>\n",
       "      <td>False</td>\n",
       "      <td>True</td>\n",
       "      <td>False</td>\n",
       "      <td>False</td>\n",
       "      <td>False</td>\n",
       "      <td>False</td>\n",
       "      <td>False</td>\n",
       "      <td>False</td>\n",
       "      <td>False</td>\n",
       "      <td>False</td>\n",
       "      <td>False</td>\n",
       "      <td>False</td>\n",
       "    </tr>\n",
       "    <tr>\n",
       "      <th>partner</th>\n",
       "      <td>False</td>\n",
       "      <td>False</td>\n",
       "      <td>False</td>\n",
       "      <td>False</td>\n",
       "      <td>False</td>\n",
       "      <td>False</td>\n",
       "      <td>True</td>\n",
       "      <td>False</td>\n",
       "      <td>False</td>\n",
       "      <td>False</td>\n",
       "      <td>False</td>\n",
       "      <td>False</td>\n",
       "      <td>False</td>\n",
       "      <td>False</td>\n",
       "      <td>False</td>\n",
       "      <td>False</td>\n",
       "    </tr>\n",
       "    <tr>\n",
       "      <th>dependents</th>\n",
       "      <td>False</td>\n",
       "      <td>False</td>\n",
       "      <td>False</td>\n",
       "      <td>False</td>\n",
       "      <td>False</td>\n",
       "      <td>False</td>\n",
       "      <td>False</td>\n",
       "      <td>True</td>\n",
       "      <td>False</td>\n",
       "      <td>False</td>\n",
       "      <td>False</td>\n",
       "      <td>False</td>\n",
       "      <td>False</td>\n",
       "      <td>False</td>\n",
       "      <td>False</td>\n",
       "      <td>False</td>\n",
       "    </tr>\n",
       "    <tr>\n",
       "      <th>internet_service</th>\n",
       "      <td>False</td>\n",
       "      <td>False</td>\n",
       "      <td>False</td>\n",
       "      <td>False</td>\n",
       "      <td>False</td>\n",
       "      <td>False</td>\n",
       "      <td>False</td>\n",
       "      <td>False</td>\n",
       "      <td>True</td>\n",
       "      <td>False</td>\n",
       "      <td>False</td>\n",
       "      <td>False</td>\n",
       "      <td>False</td>\n",
       "      <td>False</td>\n",
       "      <td>False</td>\n",
       "      <td>False</td>\n",
       "    </tr>\n",
       "    <tr>\n",
       "      <th>online_security</th>\n",
       "      <td>False</td>\n",
       "      <td>False</td>\n",
       "      <td>False</td>\n",
       "      <td>False</td>\n",
       "      <td>False</td>\n",
       "      <td>False</td>\n",
       "      <td>False</td>\n",
       "      <td>False</td>\n",
       "      <td>False</td>\n",
       "      <td>True</td>\n",
       "      <td>False</td>\n",
       "      <td>False</td>\n",
       "      <td>False</td>\n",
       "      <td>False</td>\n",
       "      <td>False</td>\n",
       "      <td>False</td>\n",
       "    </tr>\n",
       "    <tr>\n",
       "      <th>online_backup</th>\n",
       "      <td>False</td>\n",
       "      <td>False</td>\n",
       "      <td>False</td>\n",
       "      <td>False</td>\n",
       "      <td>False</td>\n",
       "      <td>False</td>\n",
       "      <td>False</td>\n",
       "      <td>False</td>\n",
       "      <td>False</td>\n",
       "      <td>False</td>\n",
       "      <td>True</td>\n",
       "      <td>False</td>\n",
       "      <td>False</td>\n",
       "      <td>False</td>\n",
       "      <td>False</td>\n",
       "      <td>False</td>\n",
       "    </tr>\n",
       "    <tr>\n",
       "      <th>device_protection</th>\n",
       "      <td>False</td>\n",
       "      <td>False</td>\n",
       "      <td>False</td>\n",
       "      <td>False</td>\n",
       "      <td>False</td>\n",
       "      <td>False</td>\n",
       "      <td>False</td>\n",
       "      <td>False</td>\n",
       "      <td>False</td>\n",
       "      <td>False</td>\n",
       "      <td>False</td>\n",
       "      <td>True</td>\n",
       "      <td>False</td>\n",
       "      <td>False</td>\n",
       "      <td>False</td>\n",
       "      <td>False</td>\n",
       "    </tr>\n",
       "    <tr>\n",
       "      <th>tech_support</th>\n",
       "      <td>False</td>\n",
       "      <td>False</td>\n",
       "      <td>False</td>\n",
       "      <td>False</td>\n",
       "      <td>False</td>\n",
       "      <td>False</td>\n",
       "      <td>False</td>\n",
       "      <td>False</td>\n",
       "      <td>False</td>\n",
       "      <td>False</td>\n",
       "      <td>False</td>\n",
       "      <td>False</td>\n",
       "      <td>True</td>\n",
       "      <td>False</td>\n",
       "      <td>False</td>\n",
       "      <td>False</td>\n",
       "    </tr>\n",
       "    <tr>\n",
       "      <th>streaming_tv</th>\n",
       "      <td>False</td>\n",
       "      <td>False</td>\n",
       "      <td>False</td>\n",
       "      <td>False</td>\n",
       "      <td>False</td>\n",
       "      <td>False</td>\n",
       "      <td>False</td>\n",
       "      <td>False</td>\n",
       "      <td>False</td>\n",
       "      <td>False</td>\n",
       "      <td>False</td>\n",
       "      <td>False</td>\n",
       "      <td>False</td>\n",
       "      <td>True</td>\n",
       "      <td>False</td>\n",
       "      <td>False</td>\n",
       "    </tr>\n",
       "    <tr>\n",
       "      <th>streaming_movies</th>\n",
       "      <td>False</td>\n",
       "      <td>False</td>\n",
       "      <td>False</td>\n",
       "      <td>False</td>\n",
       "      <td>False</td>\n",
       "      <td>False</td>\n",
       "      <td>False</td>\n",
       "      <td>False</td>\n",
       "      <td>False</td>\n",
       "      <td>False</td>\n",
       "      <td>False</td>\n",
       "      <td>False</td>\n",
       "      <td>False</td>\n",
       "      <td>False</td>\n",
       "      <td>True</td>\n",
       "      <td>False</td>\n",
       "    </tr>\n",
       "    <tr>\n",
       "      <th>multiple_lines</th>\n",
       "      <td>False</td>\n",
       "      <td>False</td>\n",
       "      <td>False</td>\n",
       "      <td>False</td>\n",
       "      <td>False</td>\n",
       "      <td>False</td>\n",
       "      <td>False</td>\n",
       "      <td>False</td>\n",
       "      <td>False</td>\n",
       "      <td>False</td>\n",
       "      <td>False</td>\n",
       "      <td>False</td>\n",
       "      <td>False</td>\n",
       "      <td>False</td>\n",
       "      <td>False</td>\n",
       "      <td>True</td>\n",
       "    </tr>\n",
       "  </tbody>\n",
       "</table>\n",
       "</div>"
      ],
      "text/plain": [
       "                    paper_less_billing  monthly_charges  ended  days_active  \\\n",
       "paper_less_billing                True            False  False        False   \n",
       "monthly_charges                  False             True  False        False   \n",
       "ended                            False            False   True        False   \n",
       "days_active                      False            False  False         True   \n",
       "gender                           False            False  False        False   \n",
       "senior_citizen                   False            False  False        False   \n",
       "partner                          False            False  False        False   \n",
       "dependents                       False            False  False        False   \n",
       "internet_service                 False            False  False        False   \n",
       "online_security                  False            False  False        False   \n",
       "online_backup                    False            False  False        False   \n",
       "device_protection                False            False  False        False   \n",
       "tech_support                     False            False  False        False   \n",
       "streaming_tv                     False            False  False        False   \n",
       "streaming_movies                 False            False  False        False   \n",
       "multiple_lines                   False            False  False        False   \n",
       "\n",
       "                    gender  senior_citizen  partner  dependents  \\\n",
       "paper_less_billing   False           False    False       False   \n",
       "monthly_charges      False           False    False       False   \n",
       "ended                False           False    False       False   \n",
       "days_active          False           False    False       False   \n",
       "gender                True           False    False       False   \n",
       "senior_citizen       False            True    False       False   \n",
       "partner              False           False     True       False   \n",
       "dependents           False           False    False        True   \n",
       "internet_service     False           False    False       False   \n",
       "online_security      False           False    False       False   \n",
       "online_backup        False           False    False       False   \n",
       "device_protection    False           False    False       False   \n",
       "tech_support         False           False    False       False   \n",
       "streaming_tv         False           False    False       False   \n",
       "streaming_movies     False           False    False       False   \n",
       "multiple_lines       False           False    False       False   \n",
       "\n",
       "                    internet_service  online_security  online_backup  \\\n",
       "paper_less_billing             False            False          False   \n",
       "monthly_charges                False            False          False   \n",
       "ended                          False            False          False   \n",
       "days_active                    False            False          False   \n",
       "gender                         False            False          False   \n",
       "senior_citizen                 False            False          False   \n",
       "partner                        False            False          False   \n",
       "dependents                     False            False          False   \n",
       "internet_service                True            False          False   \n",
       "online_security                False             True          False   \n",
       "online_backup                  False            False           True   \n",
       "device_protection              False            False          False   \n",
       "tech_support                   False            False          False   \n",
       "streaming_tv                   False            False          False   \n",
       "streaming_movies               False            False          False   \n",
       "multiple_lines                 False            False          False   \n",
       "\n",
       "                    device_protection  tech_support  streaming_tv  \\\n",
       "paper_less_billing              False         False         False   \n",
       "monthly_charges                 False         False         False   \n",
       "ended                           False         False         False   \n",
       "days_active                     False         False         False   \n",
       "gender                          False         False         False   \n",
       "senior_citizen                  False         False         False   \n",
       "partner                         False         False         False   \n",
       "dependents                      False         False         False   \n",
       "internet_service                False         False         False   \n",
       "online_security                 False         False         False   \n",
       "online_backup                   False         False         False   \n",
       "device_protection                True         False         False   \n",
       "tech_support                    False          True         False   \n",
       "streaming_tv                    False         False          True   \n",
       "streaming_movies                False         False         False   \n",
       "multiple_lines                  False         False         False   \n",
       "\n",
       "                    streaming_movies  multiple_lines  \n",
       "paper_less_billing             False           False  \n",
       "monthly_charges                False           False  \n",
       "ended                          False           False  \n",
       "days_active                    False           False  \n",
       "gender                         False           False  \n",
       "senior_citizen                 False           False  \n",
       "partner                        False           False  \n",
       "dependents                     False           False  \n",
       "internet_service               False           False  \n",
       "online_security                False           False  \n",
       "online_backup                  False           False  \n",
       "device_protection              False           False  \n",
       "tech_support                   False           False  \n",
       "streaming_tv                   False           False  \n",
       "streaming_movies                True           False  \n",
       "multiple_lines                 False            True  "
      ]
     },
     "execution_count": 63,
     "metadata": {},
     "output_type": "execute_result"
    }
   ],
   "source": [
    "data.corr(method='spearman')>=0.75"
   ]
  },
  {
   "cell_type": "code",
   "execution_count": 64,
   "metadata": {
    "scrolled": false
   },
   "outputs": [
    {
     "data": {
      "text/html": [
       "<div>\n",
       "<style scoped>\n",
       "    .dataframe tbody tr th:only-of-type {\n",
       "        vertical-align: middle;\n",
       "    }\n",
       "\n",
       "    .dataframe tbody tr th {\n",
       "        vertical-align: top;\n",
       "    }\n",
       "\n",
       "    .dataframe thead th {\n",
       "        text-align: right;\n",
       "    }\n",
       "</style>\n",
       "<table border=\"1\" class=\"dataframe\">\n",
       "  <thead>\n",
       "    <tr style=\"text-align: right;\">\n",
       "      <th></th>\n",
       "      <th>paper_less_billing</th>\n",
       "      <th>monthly_charges</th>\n",
       "      <th>ended</th>\n",
       "      <th>days_active</th>\n",
       "      <th>gender</th>\n",
       "      <th>senior_citizen</th>\n",
       "      <th>partner</th>\n",
       "      <th>dependents</th>\n",
       "      <th>internet_service</th>\n",
       "      <th>online_security</th>\n",
       "      <th>...</th>\n",
       "      <th>device_protection</th>\n",
       "      <th>tech_support</th>\n",
       "      <th>streaming_tv</th>\n",
       "      <th>streaming_movies</th>\n",
       "      <th>multiple_lines</th>\n",
       "      <th>type_One year</th>\n",
       "      <th>type_Two year</th>\n",
       "      <th>pay_method_Credit card (automatic)</th>\n",
       "      <th>pay_method_Electronic check</th>\n",
       "      <th>pay_method_Mailed check</th>\n",
       "    </tr>\n",
       "  </thead>\n",
       "  <tbody>\n",
       "    <tr>\n",
       "      <th>0</th>\n",
       "      <td>1</td>\n",
       "      <td>29.85</td>\n",
       "      <td>0</td>\n",
       "      <td>31</td>\n",
       "      <td>1</td>\n",
       "      <td>0</td>\n",
       "      <td>1</td>\n",
       "      <td>0</td>\n",
       "      <td>1</td>\n",
       "      <td>0</td>\n",
       "      <td>...</td>\n",
       "      <td>0</td>\n",
       "      <td>0</td>\n",
       "      <td>0</td>\n",
       "      <td>0</td>\n",
       "      <td>0</td>\n",
       "      <td>0</td>\n",
       "      <td>0</td>\n",
       "      <td>0</td>\n",
       "      <td>1</td>\n",
       "      <td>0</td>\n",
       "    </tr>\n",
       "    <tr>\n",
       "      <th>1</th>\n",
       "      <td>0</td>\n",
       "      <td>56.95</td>\n",
       "      <td>0</td>\n",
       "      <td>1036</td>\n",
       "      <td>0</td>\n",
       "      <td>0</td>\n",
       "      <td>0</td>\n",
       "      <td>0</td>\n",
       "      <td>1</td>\n",
       "      <td>1</td>\n",
       "      <td>...</td>\n",
       "      <td>1</td>\n",
       "      <td>0</td>\n",
       "      <td>0</td>\n",
       "      <td>0</td>\n",
       "      <td>0</td>\n",
       "      <td>1</td>\n",
       "      <td>0</td>\n",
       "      <td>0</td>\n",
       "      <td>0</td>\n",
       "      <td>1</td>\n",
       "    </tr>\n",
       "    <tr>\n",
       "      <th>2</th>\n",
       "      <td>1</td>\n",
       "      <td>53.85</td>\n",
       "      <td>1</td>\n",
       "      <td>61</td>\n",
       "      <td>0</td>\n",
       "      <td>0</td>\n",
       "      <td>0</td>\n",
       "      <td>0</td>\n",
       "      <td>1</td>\n",
       "      <td>1</td>\n",
       "      <td>...</td>\n",
       "      <td>0</td>\n",
       "      <td>0</td>\n",
       "      <td>0</td>\n",
       "      <td>0</td>\n",
       "      <td>0</td>\n",
       "      <td>0</td>\n",
       "      <td>0</td>\n",
       "      <td>0</td>\n",
       "      <td>0</td>\n",
       "      <td>1</td>\n",
       "    </tr>\n",
       "    <tr>\n",
       "      <th>3</th>\n",
       "      <td>0</td>\n",
       "      <td>42.30</td>\n",
       "      <td>0</td>\n",
       "      <td>1371</td>\n",
       "      <td>0</td>\n",
       "      <td>0</td>\n",
       "      <td>0</td>\n",
       "      <td>0</td>\n",
       "      <td>1</td>\n",
       "      <td>1</td>\n",
       "      <td>...</td>\n",
       "      <td>1</td>\n",
       "      <td>1</td>\n",
       "      <td>0</td>\n",
       "      <td>0</td>\n",
       "      <td>0</td>\n",
       "      <td>1</td>\n",
       "      <td>0</td>\n",
       "      <td>0</td>\n",
       "      <td>0</td>\n",
       "      <td>0</td>\n",
       "    </tr>\n",
       "    <tr>\n",
       "      <th>4</th>\n",
       "      <td>1</td>\n",
       "      <td>70.70</td>\n",
       "      <td>1</td>\n",
       "      <td>61</td>\n",
       "      <td>1</td>\n",
       "      <td>0</td>\n",
       "      <td>0</td>\n",
       "      <td>0</td>\n",
       "      <td>0</td>\n",
       "      <td>0</td>\n",
       "      <td>...</td>\n",
       "      <td>0</td>\n",
       "      <td>0</td>\n",
       "      <td>0</td>\n",
       "      <td>0</td>\n",
       "      <td>0</td>\n",
       "      <td>0</td>\n",
       "      <td>0</td>\n",
       "      <td>0</td>\n",
       "      <td>1</td>\n",
       "      <td>0</td>\n",
       "    </tr>\n",
       "  </tbody>\n",
       "</table>\n",
       "<p>5 rows × 21 columns</p>\n",
       "</div>"
      ],
      "text/plain": [
       "   paper_less_billing  monthly_charges  ended  days_active  gender  \\\n",
       "0                   1            29.85      0           31       1   \n",
       "1                   0            56.95      0         1036       0   \n",
       "2                   1            53.85      1           61       0   \n",
       "3                   0            42.30      0         1371       0   \n",
       "4                   1            70.70      1           61       1   \n",
       "\n",
       "   senior_citizen  partner  dependents  internet_service  online_security  \\\n",
       "0               0        1           0                 1                0   \n",
       "1               0        0           0                 1                1   \n",
       "2               0        0           0                 1                1   \n",
       "3               0        0           0                 1                1   \n",
       "4               0        0           0                 0                0   \n",
       "\n",
       "   ...  device_protection  tech_support  streaming_tv  streaming_movies  \\\n",
       "0  ...                  0             0             0                 0   \n",
       "1  ...                  1             0             0                 0   \n",
       "2  ...                  0             0             0                 0   \n",
       "3  ...                  1             1             0                 0   \n",
       "4  ...                  0             0             0                 0   \n",
       "\n",
       "   multiple_lines  type_One year  type_Two year  \\\n",
       "0               0              0              0   \n",
       "1               0              1              0   \n",
       "2               0              0              0   \n",
       "3               0              1              0   \n",
       "4               0              0              0   \n",
       "\n",
       "   pay_method_Credit card (automatic)  pay_method_Electronic check  \\\n",
       "0                                   0                            1   \n",
       "1                                   0                            0   \n",
       "2                                   0                            0   \n",
       "3                                   0                            0   \n",
       "4                                   0                            1   \n",
       "\n",
       "   pay_method_Mailed check  \n",
       "0                        0  \n",
       "1                        1  \n",
       "2                        1  \n",
       "3                        0  \n",
       "4                        0  \n",
       "\n",
       "[5 rows x 21 columns]"
      ]
     },
     "execution_count": 64,
     "metadata": {},
     "output_type": "execute_result"
    }
   ],
   "source": [
    "df_short = pd.get_dummies(data, drop_first=True)\n",
    "df_short.head()"
   ]
  },
  {
   "cell_type": "markdown",
   "metadata": {},
   "source": [
    "<div class=\"alert alert-success\">\n",
    "<b>**Комментарий тимлида_v2 ✔️:**</b>\n",
    "\n",
    "Есть кодирование. Можно было df.paper_less_billing = df.paper_less_billing.map({'Yes':1,'No':0}) не делать тогда.\n",
    "</div>"
   ]
  },
  {
   "cell_type": "markdown",
   "metadata": {},
   "source": [
    "<div class=\"alert alert-info\"> <b>Комментарий студента v2:</b> Да, просто не люблю слишком много колоночек</div>"
   ]
  },
  {
   "cell_type": "code",
   "execution_count": 65,
   "metadata": {
    "scrolled": true
   },
   "outputs": [],
   "source": [
    "#df_short['monthly_charges'] = np.log(df_short['monthly_charges'])"
   ]
  },
  {
   "cell_type": "code",
   "execution_count": 66,
   "metadata": {
    "scrolled": false
   },
   "outputs": [
    {
     "name": "stdout",
     "output_type": "stream",
     "text": [
      "<class 'pandas.core.frame.DataFrame'>\n",
      "Int64Index: 7032 entries, 0 to 7031\n",
      "Data columns (total 21 columns):\n",
      " #   Column                              Non-Null Count  Dtype  \n",
      "---  ------                              --------------  -----  \n",
      " 0   paper_less_billing                  7032 non-null   int64  \n",
      " 1   monthly_charges                     7032 non-null   float64\n",
      " 2   ended                               7032 non-null   int64  \n",
      " 3   days_active                         7032 non-null   int64  \n",
      " 4   gender                              7032 non-null   int64  \n",
      " 5   senior_citizen                      7032 non-null   int64  \n",
      " 6   partner                             7032 non-null   int64  \n",
      " 7   dependents                          7032 non-null   int64  \n",
      " 8   internet_service                    7032 non-null   int64  \n",
      " 9   online_security                     7032 non-null   int64  \n",
      " 10  online_backup                       7032 non-null   int64  \n",
      " 11  device_protection                   7032 non-null   int64  \n",
      " 12  tech_support                        7032 non-null   int64  \n",
      " 13  streaming_tv                        7032 non-null   int64  \n",
      " 14  streaming_movies                    7032 non-null   int64  \n",
      " 15  multiple_lines                      7032 non-null   int64  \n",
      " 16  type_One year                       7032 non-null   uint8  \n",
      " 17  type_Two year                       7032 non-null   uint8  \n",
      " 18  pay_method_Credit card (automatic)  7032 non-null   uint8  \n",
      " 19  pay_method_Electronic check         7032 non-null   uint8  \n",
      " 20  pay_method_Mailed check             7032 non-null   uint8  \n",
      "dtypes: float64(1), int64(15), uint8(5)\n",
      "memory usage: 968.3 KB\n"
     ]
    }
   ],
   "source": [
    "df_short.info()"
   ]
  },
  {
   "cell_type": "code",
   "execution_count": 67,
   "metadata": {
    "scrolled": false
   },
   "outputs": [
    {
     "data": {
      "text/plain": [
       "<seaborn.axisgrid.PairGrid at 0x7fb2653a8c90>"
      ]
     },
     "execution_count": 67,
     "metadata": {},
     "output_type": "execute_result"
    },
    {
     "data": {
      "image/png": "[encoded data removed]",
      "text/plain": [
       "<Figure size 406.6x360 with 6 Axes>"
      ]
     },
     "metadata": {},
     "output_type": "display_data"
    }
   ],
   "source": [
    "sns.pairplot(df_short[['monthly_charges', 'days_active', \n",
    "                      'ended']], hue = 'ended')"
   ]
  },
  {
   "cell_type": "markdown",
   "metadata": {},
   "source": [
    "Выделяем features, target, а так делим выборку на train-valid-test"
   ]
  },
  {
   "cell_type": "code",
   "execution_count": 68,
   "metadata": {
    "scrolled": true
   },
   "outputs": [],
   "source": [
    "features = df_short.drop(columns = ['ended'], axis = 1)"
   ]
  },
  {
   "cell_type": "code",
   "execution_count": 69,
   "metadata": {
    "scrolled": true
   },
   "outputs": [],
   "source": [
    "target = df_short['ended']"
   ]
  },
  {
   "cell_type": "markdown",
   "metadata": {},
   "source": [
    "<div class=\"alert alert-success\">\n",
    "<b>**Комментарий тимлида_v2 ✔️:**</b>\n",
    "\n",
    "Есть фичи и таргет!\n",
    "</div>"
   ]
  },
  {
   "cell_type": "code",
   "execution_count": 70,
   "metadata": {
    "scrolled": true
   },
   "outputs": [],
   "source": [
    "features_train, features_not_train, target_train, target_not_train = train_test_split(features,\n",
    "                                                                             target,\n",
    "                                                                             test_size = 0.5,\n",
    "                                                                             random_state = 290822)"
   ]
  },
  {
   "cell_type": "code",
   "execution_count": 71,
   "metadata": {
    "scrolled": true
   },
   "outputs": [],
   "source": [
    "features_valid, features_test, target_valid, target_test = train_test_split(features_not_train,\n",
    "                                                                             target_not_train,\n",
    "                                                                             test_size = 0.5,\n",
    "                                                                             random_state = 290822)"
   ]
  },
  {
   "cell_type": "markdown",
   "metadata": {},
   "source": [
    "<div class=\"alert alert-success\">\n",
    "<b>**Комментарий тимлида_v2 ✔️:**</b>\n",
    "\n",
    "Есть разбивка на трейнт-валид-тест. В нашем случае можно было обойтись трейн-тест выборами и использовать кроссвалидацию для проверки качества на трейне.\n",
    "</div>"
   ]
  },
  {
   "cell_type": "markdown",
   "metadata": {},
   "source": [
    "<div class=\"alert alert-warning\">\n",
    "<b>**Комментарий тимлида_v2 ⚠️:**</b>\n",
    "\n",
    "0.5 - очень много для валидации и теста. У нас не большая выборка. И лучше использщовать стратификацию по таргету. Тогда выборки будут более похожи на исходные данные. \n",
    "</div>"
   ]
  },
  {
   "cell_type": "markdown",
   "metadata": {},
   "source": [
    "<div class=\"alert alert-info\"> <b>Комментарий студента v2:</b> Поняла, спасибо</div>"
   ]
  },
  {
   "cell_type": "code",
   "execution_count": 72,
   "metadata": {
    "scrolled": true
   },
   "outputs": [
    {
     "name": "stdout",
     "output_type": "stream",
     "text": [
      "3516 1758 1758\n"
     ]
    }
   ],
   "source": [
    "print(features_train.shape[0], features_valid.shape[0], features_test.shape[0])"
   ]
  },
  {
   "cell_type": "markdown",
   "metadata": {},
   "source": [
    "Делаем апсэмплинг и даунсэмплинг train выборки на будущее:"
   ]
  },
  {
   "cell_type": "code",
   "execution_count": 73,
   "metadata": {
    "scrolled": true
   },
   "outputs": [],
   "source": [
    "features_train_upsampled, target_train_upsampled = upsample(features_train, target_train, 3)"
   ]
  },
  {
   "cell_type": "code",
   "execution_count": 74,
   "metadata": {},
   "outputs": [],
   "source": [
    "features_train_downsampled, target_train_downsampled = downsample(features_train, target_train, 0.33)"
   ]
  },
  {
   "cell_type": "markdown",
   "metadata": {},
   "source": [
    "\n",
    "<div class=\"alert alert-warning\">\n",
    "<b>**Комментарий тимлида_v2 ⚠️:**</b>\n",
    "\n",
    " На сколько я помню - эта функция тянется из работы в работу на протяжении всего курса. Зачем заставлять других разработчиков изучать твой вариант сэмплирования, когда есть много других оббщепринятых и общеизвестных. Если планируешь выполнять апсэмплинг попробуй изучить другие методы балансировки классов, в sklearn их много, плюс есть спец библиотеки в которых реализованы интересные подходы по балансировке. Вот неплохая статья по этой теме https://towardsdatascience.com/how-to-deal-with-imbalanced-data-in-python-f9b71aba53eb\n",
    "\n",
    "</div>"
   ]
  },
  {
   "cell_type": "markdown",
   "metadata": {},
   "source": [
    "<div class=\"alert alert-info\"> <b>Комментарий студента v2:</b> Спасибо большое!</div>"
   ]
  },
  {
   "cell_type": "markdown",
   "metadata": {},
   "source": [
    "## Обучаем модель"
   ]
  },
  {
   "cell_type": "markdown",
   "metadata": {},
   "source": [
    "### Логистическая регрессия"
   ]
  },
  {
   "cell_type": "markdown",
   "metadata": {},
   "source": [
    "Дисклеймер: не стала подбирать параметры перебором для логистической регрессии, так как это не самая лучшая модель)) Чисто проверила, что она ведет себя слабо"
   ]
  },
  {
   "cell_type": "markdown",
   "metadata": {},
   "source": [
    "#### без ребалансировки"
   ]
  },
  {
   "cell_type": "code",
   "execution_count": 75,
   "metadata": {
    "scrolled": true
   },
   "outputs": [
    {
     "data": {
      "text/plain": [
       "LogisticRegression(C=1.0, class_weight=None, dual=False, fit_intercept=True,\n",
       "                   intercept_scaling=1, l1_ratio=None, max_iter=1000,\n",
       "                   multi_class='auto', n_jobs=None, penalty='l2',\n",
       "                   random_state=290822, solver='lbfgs', tol=0.0001, verbose=0,\n",
       "                   warm_start=False)"
      ]
     },
     "execution_count": 75,
     "metadata": {},
     "output_type": "execute_result"
    }
   ],
   "source": [
    "model = LogisticRegression(random_state=290822, solver='lbfgs', max_iter=1000)\n",
    "model.fit(features_train, target_train)"
   ]
  },
  {
   "cell_type": "code",
   "execution_count": 76,
   "metadata": {
    "scrolled": true
   },
   "outputs": [],
   "source": [
    "predicted_valid_lr = model.predict(features_valid)"
   ]
  },
  {
   "cell_type": "code",
   "execution_count": 77,
   "metadata": {
    "scrolled": true
   },
   "outputs": [
    {
     "name": "stdout",
     "output_type": "stream",
     "text": [
      "Валидационная выборка\n",
      "F1: 0.568\n",
      "ROC AUC через predict_proba: 0.842\n",
      "Полнота: 0.507\n",
      "Точность: 0.645\n"
     ]
    }
   ],
   "source": [
    "print('Валидационная выборка')\n",
    "calc_metrics(model, features_valid, target_valid)\n",
    "# До исправления здесь был код: print('ROC AUC через predict:', round(roc_auc_score(target_valid, predicted_valid_lr), 3))"
   ]
  },
  {
   "cell_type": "markdown",
   "metadata": {},
   "source": [
    "<div class=\"alert alert-success\">\n",
    "<b>**Комментарий тимлида_v2 ✔️:**</b>\n",
    "\n",
    "ROC AUC через predict в нашем случае не считаем. Неправильно получается.\n",
    "</div>"
   ]
  },
  {
   "cell_type": "code",
   "execution_count": 78,
   "metadata": {
    "scrolled": true
   },
   "outputs": [],
   "source": [
    "# До исправления здесь был код:\n",
    "# predicted_test_lr = model.predict(features_test)\n",
    "# print('Тестовая выборка')\n",
    "# calc_metrics(model, features_test, target_test)\n",
    "# print('ROC AUC через predict:', round(roc_auc_score(target_test, predicted_test_lr), 3))"
   ]
  },
  {
   "cell_type": "markdown",
   "metadata": {},
   "source": [
    "<div class=\"alert alert-danger\">\n",
    "<b>**Комментарий тимлида_v2 ❌:**</b>\n",
    "\n",
    "Здесь и ниже в коде - мы вначале выбираем лучшую модель по кроссвалидации или по валидационной выборке. И уже ТОЛЬКО ЛУЧШУЮ модель тестируем на тестовой выборке. Пожалуйста внеси изменения в код!\n",
    "</div>"
   ]
  },
  {
   "cell_type": "markdown",
   "metadata": {},
   "source": [
    "<div class=\"alert alert-info\"> <b>Комментарий студента v2:</b> Убрала</div>"
   ]
  },
  {
   "cell_type": "markdown",
   "metadata": {},
   "source": [
    "#### upsampled"
   ]
  },
  {
   "cell_type": "code",
   "execution_count": 79,
   "metadata": {
    "scrolled": true
   },
   "outputs": [
    {
     "data": {
      "text/plain": [
       "LogisticRegression(C=1.0, class_weight=None, dual=False, fit_intercept=True,\n",
       "                   intercept_scaling=1, l1_ratio=None, max_iter=1000,\n",
       "                   multi_class='auto', n_jobs=None, penalty='l2',\n",
       "                   random_state=290822, solver='lbfgs', tol=0.0001, verbose=0,\n",
       "                   warm_start=False)"
      ]
     },
     "execution_count": 79,
     "metadata": {},
     "output_type": "execute_result"
    }
   ],
   "source": [
    "model = LogisticRegression(random_state=290822, solver='lbfgs', max_iter=1000)\n",
    "model.fit(features_train_upsampled, target_train_upsampled)"
   ]
  },
  {
   "cell_type": "code",
   "execution_count": 80,
   "metadata": {
    "scrolled": true
   },
   "outputs": [],
   "source": [
    "predicted_valid_lr = model.predict(features_valid)"
   ]
  },
  {
   "cell_type": "code",
   "execution_count": 81,
   "metadata": {
    "scrolled": true
   },
   "outputs": [
    {
     "name": "stdout",
     "output_type": "stream",
     "text": [
      "Валидационная выборка\n",
      "F1: 0.547\n",
      "ROC AUC через predict_proba: 0.839\n",
      "Полнота: 0.954\n",
      "Точность: 0.384\n"
     ]
    }
   ],
   "source": [
    "print('Валидационная выборка')\n",
    "calc_metrics(model, features_valid, target_valid)\n",
    "# до исправления здесь был код print('ROC AUC через predict:', round(roc_auc_score(target_valid, predicted_valid_lr), 3))"
   ]
  },
  {
   "cell_type": "code",
   "execution_count": 82,
   "metadata": {
    "scrolled": true
   },
   "outputs": [],
   "source": [
    "# до исправления здесь был код\n",
    "# predicted_test_lr = model.predict(features_test)\n",
    "# print('Тестовая выборка')\n",
    "# calc_metrics(model, features_test, target_test)\n",
    "# print('ROC AUC через predict:', round(roc_auc_score(target_test, predicted_test_lr), 3))"
   ]
  },
  {
   "cell_type": "markdown",
   "metadata": {},
   "source": [
    "### RandomForestClassifier"
   ]
  },
  {
   "cell_type": "markdown",
   "metadata": {},
   "source": [
    "Здесь попробуем три способа борьбы с несбалансированной выборкой: class weight, downsamping, upsampling. Без борьбы результат был совсем плох"
   ]
  },
  {
   "cell_type": "markdown",
   "metadata": {},
   "source": [
    "<div class=\"alert alert-success\">\n",
    "<b>**Комментарий тимлида_v2 ✔️:**</b>\n",
    "\n",
    "Ок. попробуем!\n",
    "</div>"
   ]
  },
  {
   "cell_type": "markdown",
   "metadata": {},
   "source": [
    "#### class weight"
   ]
  },
  {
   "cell_type": "code",
   "execution_count": 83,
   "metadata": {
    "scrolled": true
   },
   "outputs": [],
   "source": [
    "n_estimators = np.arange(1, 51, 10) # количество деревьев\n",
    "max_depth = np.arange(1, 21, 5) # максимальная глубина дерева\n",
    "min_samples_split = np.array([2, 6, 10]) # минимальное количество точек, чтобы произошло разбиение\n",
    "min_samples_leaf = np.arange(1, 5) # минимальное количество точек в листе"
   ]
  },
  {
   "cell_type": "code",
   "execution_count": 84,
   "metadata": {
    "scrolled": true
   },
   "outputs": [],
   "source": [
    "grid = {'n_estimators': n_estimators,\n",
    "'max_depth': max_depth,\n",
    "'min_samples_split': min_samples_split,\n",
    "'min_samples_leaf': min_samples_leaf}"
   ]
  },
  {
   "cell_type": "markdown",
   "metadata": {},
   "source": [
    "Перебираем параметры и находим лучшие по ROC AUC"
   ]
  },
  {
   "cell_type": "code",
   "execution_count": 85,
   "metadata": {
    "scrolled": true
   },
   "outputs": [],
   "source": [
    "model_grid_search_cv_classes = GridSearchCV(RandomForestClassifier(random_state=290822, class_weight = 'balanced'),\n",
    "                                            grid, scoring=\"roc_auc\")"
   ]
  },
  {
   "cell_type": "code",
   "execution_count": 86,
   "metadata": {
    "scrolled": true
   },
   "outputs": [
    {
     "data": {
      "text/plain": [
       "GridSearchCV(cv=None, error_score=nan,\n",
       "             estimator=RandomForestClassifier(bootstrap=True, ccp_alpha=0.0,\n",
       "                                              class_weight='balanced',\n",
       "                                              criterion='gini', max_depth=None,\n",
       "                                              max_features='auto',\n",
       "                                              max_leaf_nodes=None,\n",
       "                                              max_samples=None,\n",
       "                                              min_impurity_decrease=0.0,\n",
       "                                              min_impurity_split=None,\n",
       "                                              min_samples_leaf=1,\n",
       "                                              min_samples_split=2,\n",
       "                                              min_weight_fraction_leaf=0.0,\n",
       "                                              n_estimators=100, n_jobs=None,\n",
       "                                              oob_score=False,\n",
       "                                              random_state=290822, verbose=0,\n",
       "                                              warm_start=False),\n",
       "             iid='deprecated', n_jobs=None,\n",
       "             param_grid={'max_depth': array([ 1,  6, 11, 16]),\n",
       "                         'min_samples_leaf': array([1, 2, 3, 4]),\n",
       "                         'min_samples_split': array([ 2,  6, 10]),\n",
       "                         'n_estimators': array([ 1, 11, 21, 31, 41])},\n",
       "             pre_dispatch='2*n_jobs', refit=True, return_train_score=False,\n",
       "             scoring='roc_auc', verbose=0)"
      ]
     },
     "execution_count": 86,
     "metadata": {},
     "output_type": "execute_result"
    }
   ],
   "source": [
    "model_grid_search_cv_classes.fit(features_train, target_train)"
   ]
  },
  {
   "cell_type": "code",
   "execution_count": 87,
   "metadata": {
    "scrolled": true
   },
   "outputs": [
    {
     "data": {
      "text/plain": [
       "RandomForestClassifier(bootstrap=True, ccp_alpha=0.0, class_weight='balanced',\n",
       "                       criterion='gini', max_depth=16, max_features='auto',\n",
       "                       max_leaf_nodes=None, max_samples=None,\n",
       "                       min_impurity_decrease=0.0, min_impurity_split=None,\n",
       "                       min_samples_leaf=4, min_samples_split=10,\n",
       "                       min_weight_fraction_leaf=0.0, n_estimators=41,\n",
       "                       n_jobs=None, oob_score=False, random_state=290822,\n",
       "                       verbose=0, warm_start=False)"
      ]
     },
     "execution_count": 87,
     "metadata": {},
     "output_type": "execute_result"
    }
   ],
   "source": [
    "model_grid_search_cv_classes.best_estimator_"
   ]
  },
  {
   "cell_type": "markdown",
   "metadata": {},
   "source": [
    "<div class=\"alert alert-warning\">\n",
    "<b>**Комментарий тимлида_v2 ❌:**</b>\n",
    "\n",
    "Можно использовать метрику model_grid_search_cv_classes.best_score_ - это и будет метрика на кроссвалидации. Но у тебя есть валидационная выборка. Можно посчитать метрику на ней.\n",
    "</div>"
   ]
  },
  {
   "cell_type": "code",
   "execution_count": 88,
   "metadata": {
    "scrolled": true
   },
   "outputs": [],
   "source": [
    "# до исправления здесь был код\n",
    "# predicted_train_classes = model_grid_search_cv_classes.predict(features_train)\n",
    "# print('Обучающая выборка')\n",
    "# calc_metrics(model_grid_search_cv_classes, features_train, target_train)\n",
    "# print('ROC AUC через predict:', round(roc_auc_score(target_train, predicted_train_classes), 3))"
   ]
  },
  {
   "cell_type": "markdown",
   "metadata": {},
   "source": [
    "<div class=\"alert alert-danger\">\n",
    "<b>**Комментарий тимлида_v2 ❌:**</b>\n",
    "\n",
    "Обучаешь на features_train и проверяешь качество на features_train. Неудивительно что такая высокая метрика)\n",
    "</div>"
   ]
  },
  {
   "cell_type": "markdown",
   "metadata": {},
   "source": [
    "<div class=\"alert alert-info\"> <b>Комментарий студента v2:</b> Мне просто было интересно сравнить, насколько качество на train отличается от valid. Я нигде не воспринимала эти цифры всерьез как финальные)) Убрала.</div>"
   ]
  },
  {
   "cell_type": "code",
   "execution_count": 89,
   "metadata": {
    "scrolled": true
   },
   "outputs": [
    {
     "name": "stdout",
     "output_type": "stream",
     "text": [
      "Валидационная выборка\n",
      "F1: 0.642\n",
      "ROC AUC через predict_proba: 0.857\n",
      "Полнота: 0.719\n",
      "Точность: 0.58\n"
     ]
    }
   ],
   "source": [
    "predicted_valid_classes = model_grid_search_cv_classes.predict(features_valid)\n",
    "print('Валидационная выборка')\n",
    "calc_metrics(model_grid_search_cv_classes, features_valid, target_valid)\n",
    "# до исправления здесь был код print('ROC AUC через predict:', round(roc_auc_score(target_valid, predicted_valid_classes), 3))"
   ]
  },
  {
   "cell_type": "code",
   "execution_count": 90,
   "metadata": {
    "scrolled": true
   },
   "outputs": [],
   "source": [
    "# до исправления здесь был код:\n",
    "# predicted_test_classes = model_grid_search_cv_classes.predict(features_test)\n",
    "# print('Тестовая выборка')\n",
    "# calc_metrics(model_grid_search_cv_classes, features_test, target_test)\n",
    "# print('ROC AUC через predict:', round(roc_auc_score(target_test, predicted_test_classes), 3))"
   ]
  },
  {
   "cell_type": "markdown",
   "metadata": {},
   "source": [
    "Попробуем еще upsampling"
   ]
  },
  {
   "cell_type": "markdown",
   "metadata": {},
   "source": [
    "#### upsampled"
   ]
  },
  {
   "cell_type": "code",
   "execution_count": 91,
   "metadata": {
    "scrolled": true
   },
   "outputs": [],
   "source": [
    "model_grid_search_cv_upsampled = GridSearchCV(RandomForestClassifier(random_state=290822), grid, scoring=\"roc_auc\")"
   ]
  },
  {
   "cell_type": "code",
   "execution_count": 92,
   "metadata": {
    "scrolled": true
   },
   "outputs": [
    {
     "data": {
      "text/plain": [
       "GridSearchCV(cv=None, error_score=nan,\n",
       "             estimator=RandomForestClassifier(bootstrap=True, ccp_alpha=0.0,\n",
       "                                              class_weight=None,\n",
       "                                              criterion='gini', max_depth=None,\n",
       "                                              max_features='auto',\n",
       "                                              max_leaf_nodes=None,\n",
       "                                              max_samples=None,\n",
       "                                              min_impurity_decrease=0.0,\n",
       "                                              min_impurity_split=None,\n",
       "                                              min_samples_leaf=1,\n",
       "                                              min_samples_split=2,\n",
       "                                              min_weight_fraction_leaf=0.0,\n",
       "                                              n_estimators=100, n_jobs=None,\n",
       "                                              oob_score=False,\n",
       "                                              random_state=290822, verbose=0,\n",
       "                                              warm_start=False),\n",
       "             iid='deprecated', n_jobs=None,\n",
       "             param_grid={'max_depth': array([ 1,  6, 11, 16]),\n",
       "                         'min_samples_leaf': array([1, 2, 3, 4]),\n",
       "                         'min_samples_split': array([ 2,  6, 10]),\n",
       "                         'n_estimators': array([ 1, 11, 21, 31, 41])},\n",
       "             pre_dispatch='2*n_jobs', refit=True, return_train_score=False,\n",
       "             scoring='roc_auc', verbose=0)"
      ]
     },
     "execution_count": 92,
     "metadata": {},
     "output_type": "execute_result"
    }
   ],
   "source": [
    "model_grid_search_cv_upsampled.fit(features_train_upsampled, target_train_upsampled)"
   ]
  },
  {
   "cell_type": "code",
   "execution_count": 93,
   "metadata": {
    "scrolled": true
   },
   "outputs": [
    {
     "data": {
      "text/plain": [
       "RandomForestClassifier(bootstrap=True, ccp_alpha=0.0, class_weight=None,\n",
       "                       criterion='gini', max_depth=16, max_features='auto',\n",
       "                       max_leaf_nodes=None, max_samples=None,\n",
       "                       min_impurity_decrease=0.0, min_impurity_split=None,\n",
       "                       min_samples_leaf=1, min_samples_split=2,\n",
       "                       min_weight_fraction_leaf=0.0, n_estimators=41,\n",
       "                       n_jobs=None, oob_score=False, random_state=290822,\n",
       "                       verbose=0, warm_start=False)"
      ]
     },
     "execution_count": 93,
     "metadata": {},
     "output_type": "execute_result"
    }
   ],
   "source": [
    "model_grid_search_cv_upsampled.best_estimator_"
   ]
  },
  {
   "cell_type": "code",
   "execution_count": 94,
   "metadata": {
    "scrolled": true
   },
   "outputs": [],
   "source": [
    "# до исправления здесь был код:\n",
    "# predicted_train_upsampled = model_grid_search_cv_upsampled.predict(features_train_upsampled)\n",
    "\n",
    "# print('Обучающая выборка')\n",
    "# calc_metrics(model_grid_search_cv_upsampled, features_train_upsampled, target_train_upsampled)\n",
    "# print('ROC AUC через predict:', round(roc_auc_score(target_train_upsampled, predicted_train_upsampled), 3))"
   ]
  },
  {
   "cell_type": "markdown",
   "metadata": {},
   "source": [
    "<div class=\"alert alert-danger\">\n",
    "<b>**Комментарий тимлида_v2 ❌:**</b>\n",
    "\n",
    "Те же замечания что и выше.\n",
    "</div>"
   ]
  },
  {
   "cell_type": "markdown",
   "metadata": {},
   "source": [
    "<div class=\"alert alert-info\"> <b>Комментарий студента v2:</b> fixed здесь и везде далее</div>"
   ]
  },
  {
   "cell_type": "code",
   "execution_count": 95,
   "metadata": {
    "scrolled": true
   },
   "outputs": [
    {
     "name": "stdout",
     "output_type": "stream",
     "text": [
      "Валидационная выборка\n",
      "F1: 0.617\n",
      "ROC AUC через predict_proba: 0.841\n",
      "Полнота: 0.664\n",
      "Точность: 0.576\n"
     ]
    }
   ],
   "source": [
    "predicted_valid_upsampled = model_grid_search_cv_upsampled.predict(features_valid)\n",
    "\n",
    "print('Валидационная выборка')\n",
    "calc_metrics(model_grid_search_cv_upsampled, features_valid, target_valid)\n",
    "# до исправления здесь был код: print('ROC AUC через predict:', round(roc_auc_score(target_valid, predicted_valid_upsampled), 3))"
   ]
  },
  {
   "cell_type": "code",
   "execution_count": 96,
   "metadata": {
    "scrolled": true
   },
   "outputs": [],
   "source": [
    "# до исправления здесь был код:\n",
    "# predicted_test_upsampled = model_grid_search_cv_upsampled.predict(features_test)\n",
    "\n",
    "# print('Тестовая выборка')\n",
    "# calc_metrics(model_grid_search_cv_upsampled, features_test, target_test)\n",
    "# print('ROC AUC через predict:', round(roc_auc_score(target_test, predicted_test_upsampled), 3))"
   ]
  },
  {
   "cell_type": "markdown",
   "metadata": {},
   "source": [
    "Upsampling не сильно помог"
   ]
  },
  {
   "cell_type": "markdown",
   "metadata": {},
   "source": [
    "#### downsampled"
   ]
  },
  {
   "cell_type": "code",
   "execution_count": 97,
   "metadata": {
    "scrolled": true
   },
   "outputs": [],
   "source": [
    "model_grid_search_cv_downsampled = GridSearchCV(RandomForestClassifier(random_state=290822), grid, scoring=\"roc_auc\")"
   ]
  },
  {
   "cell_type": "code",
   "execution_count": 98,
   "metadata": {
    "scrolled": true
   },
   "outputs": [
    {
     "data": {
      "text/plain": [
       "GridSearchCV(cv=None, error_score=nan,\n",
       "             estimator=RandomForestClassifier(bootstrap=True, ccp_alpha=0.0,\n",
       "                                              class_weight=None,\n",
       "                                              criterion='gini', max_depth=None,\n",
       "                                              max_features='auto',\n",
       "                                              max_leaf_nodes=None,\n",
       "                                              max_samples=None,\n",
       "                                              min_impurity_decrease=0.0,\n",
       "                                              min_impurity_split=None,\n",
       "                                              min_samples_leaf=1,\n",
       "                                              min_samples_split=2,\n",
       "                                              min_weight_fraction_leaf=0.0,\n",
       "                                              n_estimators=100, n_jobs=None,\n",
       "                                              oob_score=False,\n",
       "                                              random_state=290822, verbose=0,\n",
       "                                              warm_start=False),\n",
       "             iid='deprecated', n_jobs=None,\n",
       "             param_grid={'max_depth': array([ 1,  6, 11, 16]),\n",
       "                         'min_samples_leaf': array([1, 2, 3, 4]),\n",
       "                         'min_samples_split': array([ 2,  6, 10]),\n",
       "                         'n_estimators': array([ 1, 11, 21, 31, 41])},\n",
       "             pre_dispatch='2*n_jobs', refit=True, return_train_score=False,\n",
       "             scoring='roc_auc', verbose=0)"
      ]
     },
     "execution_count": 98,
     "metadata": {},
     "output_type": "execute_result"
    }
   ],
   "source": [
    "model_grid_search_cv_downsampled.fit(features_train_downsampled, target_train_downsampled)"
   ]
  },
  {
   "cell_type": "code",
   "execution_count": 99,
   "metadata": {
    "scrolled": true
   },
   "outputs": [
    {
     "data": {
      "text/plain": [
       "RandomForestClassifier(bootstrap=True, ccp_alpha=0.0, class_weight=None,\n",
       "                       criterion='gini', max_depth=6, max_features='auto',\n",
       "                       max_leaf_nodes=None, max_samples=None,\n",
       "                       min_impurity_decrease=0.0, min_impurity_split=None,\n",
       "                       min_samples_leaf=1, min_samples_split=6,\n",
       "                       min_weight_fraction_leaf=0.0, n_estimators=31,\n",
       "                       n_jobs=None, oob_score=False, random_state=290822,\n",
       "                       verbose=0, warm_start=False)"
      ]
     },
     "execution_count": 99,
     "metadata": {},
     "output_type": "execute_result"
    }
   ],
   "source": [
    "model_grid_search_cv_downsampled.best_estimator_"
   ]
  },
  {
   "cell_type": "code",
   "execution_count": 100,
   "metadata": {
    "scrolled": true
   },
   "outputs": [],
   "source": [
    "# до исправления здесь был код:\n",
    "# predicted_train_downsampled = model_grid_search_cv_downsampled.predict(features_train_downsampled)\n",
    "\n",
    "# print('Обучающая выборка')\n",
    "# calc_metrics(model_grid_search_cv_downsampled, features_train_downsampled, target_train_downsampled)\n",
    "# print('ROC AUC через predict:', round(roc_auc_score(target_train_downsampled, predicted_train_downsampled), 3))"
   ]
  },
  {
   "cell_type": "code",
   "execution_count": 101,
   "metadata": {
    "scrolled": true
   },
   "outputs": [
    {
     "name": "stdout",
     "output_type": "stream",
     "text": [
      "Валидационная выборка\n",
      "F1: 0.623\n",
      "ROC AUC через predict_proba: 0.852\n",
      "Полнота: 0.846\n",
      "Точность: 0.492\n"
     ]
    }
   ],
   "source": [
    "predicted_valid_downsampled = model_grid_search_cv_downsampled.predict(features_valid)\n",
    "\n",
    "print('Валидационная выборка')\n",
    "calc_metrics(model_grid_search_cv_downsampled, features_valid, target_valid)\n",
    "# до исправления здесь был код: print('ROC AUC через predict:', round(roc_auc_score(target_valid, predicted_valid_downsampled), 3))"
   ]
  },
  {
   "cell_type": "markdown",
   "metadata": {},
   "source": [
    "На удивление, downsampling показал лучший результат, но не сильно лучше, чем у других способов борьбы с дисбалансом. Попробуем другую модель"
   ]
  },
  {
   "cell_type": "code",
   "execution_count": 102,
   "metadata": {
    "scrolled": true
   },
   "outputs": [],
   "source": [
    "# до исправления здесь был код:\n",
    "# predicted_test_downsampled = model_grid_search_cv_downsampled.predict(features_test)\n",
    "# roc_auc_test_downsampled = roc_auc_score(target_test, predicted_test_downsampled)\n",
    "\n",
    "# print('Тестовая выборка')\n",
    "# calc_metrics(model_grid_search_cv_downsampled, features_test, target_test)\n",
    "# print('ROC AUC через predict:', round(roc_auc_score(target_test, predicted_test_downsampled), 3))"
   ]
  },
  {
   "cell_type": "markdown",
   "metadata": {},
   "source": [
    "### Catboost"
   ]
  },
  {
   "cell_type": "markdown",
   "metadata": {},
   "source": [
    "#### без ребалансировки"
   ]
  },
  {
   "cell_type": "markdown",
   "metadata": {},
   "source": [
    "Пробуем катбуст. Сделаем свой scorer ROC_AUC и будем перебирать лучшие параметры под него. Od type, как заявлено в документации, должен помогать бороться с переобучением"
   ]
  },
  {
   "cell_type": "code",
   "execution_count": 75,
   "metadata": {
    "scrolled": true
   },
   "outputs": [],
   "source": [
    "model = cb.CatBoostClassifier()"
   ]
  },
  {
   "cell_type": "code",
   "execution_count": 76,
   "metadata": {
    "scrolled": true
   },
   "outputs": [],
   "source": [
    "params = {'loss_function':['CrossEntropy'],\n",
    "            'od_type': ['IncToDec'],\n",
    "            'iterations': [100, 150, 200],\n",
    "            'learning_rate': [0.03, 0.1, 1],\n",
    "            'depth': [2, 4],\n",
    "            'l2_leaf_reg': [0.1, 0.2, 0.5, 1],\n",
    "            'logging_level':['Silent'],\n",
    "            'random_seed': [290822]}\n",
    "\n",
    "scorer = make_scorer(roc_auc_score)\n",
    "\n",
    "clf_grid = GridSearchCV(estimator=model, param_grid=params, scoring=scorer, cv=5)"
   ]
  },
  {
   "cell_type": "code",
   "execution_count": 77,
   "metadata": {
    "scrolled": false
   },
   "outputs": [
    {
     "name": "stdout",
     "output_type": "stream",
     "text": [
      "CPU times: user 1h 31s, sys: 1min 47s, total: 1h 2min 19s\n",
      "Wall time: 3min 17s\n"
     ]
    },
    {
     "data": {
      "text/plain": [
       "GridSearchCV(cv=5, error_score=nan,\n",
       "             estimator=<catboost.core.CatBoostClassifier object at 0x7fb265340310>,\n",
       "             iid='deprecated', n_jobs=None,\n",
       "             param_grid={'depth': [2, 4], 'iterations': [100, 150, 200],\n",
       "                         'l2_leaf_reg': [0.1, 0.2, 0.5, 1],\n",
       "                         'learning_rate': [0.03, 0.1, 1],\n",
       "                         'logging_level': ['Silent'],\n",
       "                         'loss_function': ['CrossEntropy'],\n",
       "                         'od_type': ['IncToDec'], 'random_seed': [290822]},\n",
       "             pre_dispatch='2*n_jobs', refit=True, return_train_score=False,\n",
       "             scoring=make_scorer(roc_auc_score), verbose=0)"
      ]
     },
     "execution_count": 77,
     "metadata": {},
     "output_type": "execute_result"
    }
   ],
   "source": [
    "%%time\n",
    "clf_grid.fit(features_train, target_train)"
   ]
  },
  {
   "cell_type": "code",
   "execution_count": 106,
   "metadata": {
    "scrolled": true
   },
   "outputs": [],
   "source": [
    "# до исправления здесь был код:\n",
    "# predicted_train_cb = clf_grid.predict(features_train)\n",
    "\n",
    "# print('Обучающая выборка')\n",
    "# calc_metrics(clf_grid, features_train, target_train)\n",
    "# print('ROC AUC через predict:', round(roc_auc_score(target_train, predicted_train_cb), 3))"
   ]
  },
  {
   "cell_type": "code",
   "execution_count": 78,
   "metadata": {
    "scrolled": true
   },
   "outputs": [
    {
     "name": "stdout",
     "output_type": "stream",
     "text": [
      "Валидационная выборка\n",
      "F1: 0.73\n",
      "ROC AUC через predict_proba: 0.908\n",
      "Полнота: 0.66\n",
      "Точность: 0.816\n"
     ]
    }
   ],
   "source": [
    "predicted_valid_cb = clf_grid.predict(features_valid)\n",
    "\n",
    "print('Валидационная выборка')\n",
    "calc_metrics(clf_grid, features_valid, target_valid)\n",
    "# до исправления здесь был код: print('ROC AUC через predict:', round(roc_auc_score(target_valid, predicted_valid_cb), 3))"
   ]
  },
  {
   "cell_type": "markdown",
   "metadata": {},
   "source": [
    "Неплохой результат! Попробуем сделать то же самое на upsampled выборке"
   ]
  },
  {
   "cell_type": "code",
   "execution_count": 79,
   "metadata": {},
   "outputs": [],
   "source": [
    "best_model = clf_grid"
   ]
  },
  {
   "cell_type": "code",
   "execution_count": 80,
   "metadata": {},
   "outputs": [
    {
     "data": {
      "text/plain": [
       "{'depth': 2,\n",
       " 'iterations': 200,\n",
       " 'l2_leaf_reg': 0.5,\n",
       " 'learning_rate': 1,\n",
       " 'logging_level': 'Silent',\n",
       " 'loss_function': 'CrossEntropy',\n",
       " 'od_type': 'IncToDec',\n",
       " 'random_seed': 290822}"
      ]
     },
     "execution_count": 80,
     "metadata": {},
     "output_type": "execute_result"
    }
   ],
   "source": [
    "best_model.best_params_"
   ]
  },
  {
   "cell_type": "code",
   "execution_count": 110,
   "metadata": {
    "scrolled": true
   },
   "outputs": [],
   "source": [
    "# до исправления здесь был код:\n",
    "# predicted_test_cb = clf_grid.predict(features_test)\n",
    "\n",
    "# print('Тестовая выборка')\n",
    "# calc_metrics(clf_grid, features_test, target_test)\n",
    "# print('ROC AUC через predict:', round(roc_auc_score(target_test, predicted_test_cb), 3))"
   ]
  },
  {
   "cell_type": "markdown",
   "metadata": {},
   "source": [
    "#### upsampled"
   ]
  },
  {
   "cell_type": "code",
   "execution_count": 111,
   "metadata": {
    "scrolled": true
   },
   "outputs": [],
   "source": [
    "model = cb.CatBoostClassifier()"
   ]
  },
  {
   "cell_type": "code",
   "execution_count": 112,
   "metadata": {
    "scrolled": true
   },
   "outputs": [],
   "source": [
    "params = {'loss_function':['CrossEntropy'],\n",
    "            'od_type': ['IncToDec'],\n",
    "            'iterations': [100, 150, 200],\n",
    "            'learning_rate': [0.03, 0.1, 1],\n",
    "            'depth': [2, 4],\n",
    "            'l2_leaf_reg': [0.1, 0.2, 0.5, 1],\n",
    "            'logging_level':['Silent'],\n",
    "            'random_seed': [290822]}\n",
    "\n",
    "scorer = make_scorer(roc_auc_score)\n",
    "\n",
    "clf_grid = GridSearchCV(estimator=model, param_grid=params, scoring=scorer, cv=5)"
   ]
  },
  {
   "cell_type": "code",
   "execution_count": 113,
   "metadata": {
    "scrolled": true
   },
   "outputs": [
    {
     "name": "stdout",
     "output_type": "stream",
     "text": [
      "CPU times: user 1h 30min 56s, sys: 2min 20s, total: 1h 33min 17s\n",
      "Wall time: 5min 26s\n"
     ]
    },
    {
     "data": {
      "text/plain": [
       "GridSearchCV(cv=5, error_score=nan,\n",
       "             estimator=<catboost.core.CatBoostClassifier object at 0x7fc42a9e3f90>,\n",
       "             iid='deprecated', n_jobs=None,\n",
       "             param_grid={'depth': [2, 4], 'iterations': [100, 150, 200],\n",
       "                         'l2_leaf_reg': [0.1, 0.2, 0.5, 1],\n",
       "                         'learning_rate': [0.03, 0.1, 1],\n",
       "                         'logging_level': ['Silent'],\n",
       "                         'loss_function': ['CrossEntropy'],\n",
       "                         'od_type': ['IncToDec'], 'random_seed': [290822]},\n",
       "             pre_dispatch='2*n_jobs', refit=True, return_train_score=False,\n",
       "             scoring=make_scorer(roc_auc_score), verbose=0)"
      ]
     },
     "execution_count": 113,
     "metadata": {},
     "output_type": "execute_result"
    }
   ],
   "source": [
    "%%time\n",
    "clf_grid.fit(features_train_upsampled, target_train_upsampled)"
   ]
  },
  {
   "cell_type": "code",
   "execution_count": 114,
   "metadata": {
    "scrolled": true
   },
   "outputs": [],
   "source": [
    "# до исправления здесь был код:\n",
    "# predicted_train_cb_upsampled = clf_grid.predict(features_train_upsampled)\n",
    "\n",
    "# print('Обучающая выборка')\n",
    "# calc_metrics(clf_grid, features_train_upsampled, target_train_upsampled)\n",
    "# print('ROC AUC через predict:', round(roc_auc_score(target_train_upsampled, predicted_train_cb_upsampled), 3))"
   ]
  },
  {
   "cell_type": "code",
   "execution_count": 115,
   "metadata": {
    "scrolled": true
   },
   "outputs": [
    {
     "name": "stdout",
     "output_type": "stream",
     "text": [
      "Валидационная выборка\n",
      "F1: 0.673\n",
      "ROC AUC через predict_proba: 0.872\n",
      "Полнота: 0.75\n",
      "Точность: 0.611\n"
     ]
    }
   ],
   "source": [
    "predicted_valid_cb_upsampled = clf_grid.predict(features_valid)\n",
    "\n",
    "print('Валидационная выборка')\n",
    "calc_metrics(clf_grid, features_valid, target_valid)\n",
    "# до исправления здесь был код: print('ROC AUC через predict:', round(roc_auc_score(target_valid, predicted_valid_cb_upsampled), 3))"
   ]
  },
  {
   "cell_type": "markdown",
   "metadata": {},
   "source": [
    "Не очень помогло. Попробуем еще downsampled"
   ]
  },
  {
   "cell_type": "code",
   "execution_count": 116,
   "metadata": {
    "scrolled": true
   },
   "outputs": [],
   "source": [
    "# до исправления здесь был код:\n",
    "# predicted_test_cb_upsampled = clf_grid.predict(features_test)\n",
    "\n",
    "# print('Тестовая выборка')\n",
    "# calc_metrics(clf_grid, features_test, target_test)\n",
    "# print('ROC AUC через predict:', round(roc_auc_score(target_test, predicted_test_cb_upsampled), 3))"
   ]
  },
  {
   "cell_type": "markdown",
   "metadata": {},
   "source": [
    "#### downsampled"
   ]
  },
  {
   "cell_type": "code",
   "execution_count": 117,
   "metadata": {
    "scrolled": true
   },
   "outputs": [],
   "source": [
    "model = cb.CatBoostClassifier()"
   ]
  },
  {
   "cell_type": "code",
   "execution_count": 118,
   "metadata": {
    "scrolled": true
   },
   "outputs": [],
   "source": [
    "params = {'loss_function':['CrossEntropy'],\n",
    "            'od_type': ['IncToDec'],\n",
    "            'iterations': [100, 150, 200],\n",
    "            'learning_rate': [0.03, 0.1, 1],\n",
    "            'depth': [2, 4],\n",
    "            'l2_leaf_reg': [0.1, 0.2, 0.5, 1],\n",
    "            'logging_level':['Silent'],\n",
    "            'random_seed': [290822]}\n",
    "\n",
    "scorer = make_scorer(roc_auc_score)\n",
    "\n",
    "clf_grid = GridSearchCV(estimator=model, param_grid=params, scoring=scorer, cv=5)"
   ]
  },
  {
   "cell_type": "code",
   "execution_count": 119,
   "metadata": {
    "scrolled": true
   },
   "outputs": [
    {
     "name": "stdout",
     "output_type": "stream",
     "text": [
      "CPU times: user 46min 24s, sys: 1min 10s, total: 47min 35s\n",
      "Wall time: 2min 22s\n"
     ]
    },
    {
     "data": {
      "text/plain": [
       "GridSearchCV(cv=5, error_score=nan,\n",
       "             estimator=<catboost.core.CatBoostClassifier object at 0x7fc4285de9d0>,\n",
       "             iid='deprecated', n_jobs=None,\n",
       "             param_grid={'depth': [2, 4], 'iterations': [100, 150, 200],\n",
       "                         'l2_leaf_reg': [0.1, 0.2, 0.5, 1],\n",
       "                         'learning_rate': [0.03, 0.1, 1],\n",
       "                         'logging_level': ['Silent'],\n",
       "                         'loss_function': ['CrossEntropy'],\n",
       "                         'od_type': ['IncToDec'], 'random_seed': [290822]},\n",
       "             pre_dispatch='2*n_jobs', refit=True, return_train_score=False,\n",
       "             scoring=make_scorer(roc_auc_score), verbose=0)"
      ]
     },
     "execution_count": 119,
     "metadata": {},
     "output_type": "execute_result"
    }
   ],
   "source": [
    "%%time\n",
    "clf_grid.fit(features_train_downsampled, target_train_downsampled)"
   ]
  },
  {
   "cell_type": "code",
   "execution_count": 120,
   "metadata": {
    "scrolled": true
   },
   "outputs": [],
   "source": [
    "# до исправления здесь был код:\n",
    "# predicted_train_cb_downsampled = clf_grid.predict(features_train_downsampled)\n",
    "\n",
    "# print('Обучающая выборка')\n",
    "# calc_metrics(clf_grid, features_train_downsampled, target_train_downsampled)\n",
    "# print('ROC AUC через predict:', round(roc_auc_score(target_train_downsampled, predicted_train_cb_downsampled), 3))"
   ]
  },
  {
   "cell_type": "code",
   "execution_count": 121,
   "metadata": {
    "scrolled": true
   },
   "outputs": [
    {
     "name": "stdout",
     "output_type": "stream",
     "text": [
      "Валидационная выборка\n",
      "F1: 0.69\n",
      "ROC AUC через predict_proba: 0.9\n",
      "Полнота: 0.82\n",
      "Точность: 0.596\n"
     ]
    }
   ],
   "source": [
    "predicted_valid_cb_downsampled = clf_grid.predict(features_valid)\n",
    "\n",
    "print('Валидационная выборка')\n",
    "calc_metrics(clf_grid, features_valid, target_valid)\n",
    "# до исправления здесь был код: print('ROC AUC через predict:', round(roc_auc_score(target_valid, predicted_valid_cb_downsampled), 3))"
   ]
  },
  {
   "cell_type": "code",
   "execution_count": 122,
   "metadata": {
    "scrolled": true
   },
   "outputs": [],
   "source": [
    "# до исправления здесь был код:\n",
    "# predicted_test_cb_downsampled = clf_grid.predict(features_test)\n",
    "\n",
    "# print('Тестовая выборка')\n",
    "# calc_metrics(clf_grid, features_test, target_test)\n",
    "# print('ROC AUC через predict:', round(roc_auc_score(target_test, predicted_test_cb_downsampled), 3))"
   ]
  },
  {
   "cell_type": "markdown",
   "metadata": {},
   "source": [
    "Попробуем еще xgboost"
   ]
  },
  {
   "cell_type": "markdown",
   "metadata": {},
   "source": [
    "### xgboost"
   ]
  },
  {
   "cell_type": "markdown",
   "metadata": {},
   "source": [
    "Пробуем xgboost с перебором параметров"
   ]
  },
  {
   "cell_type": "markdown",
   "metadata": {},
   "source": [
    "#### без ребалансировки"
   ]
  },
  {
   "cell_type": "code",
   "execution_count": 123,
   "metadata": {
    "scrolled": true
   },
   "outputs": [],
   "source": [
    "param_grid = {\n",
    "    \"max_depth\": [3, 4, 5, 7],\n",
    "    \"learning_rate\": [0.1, 0.01, 0.05],\n",
    "    \"gamma\": [0, 0.25, 1],\n",
    "    \"reg_lambda\": [0, 1, 10],\n",
    "    \"scale_pos_weight\": [1, 3, 5],\n",
    "    \"subsample\": [0.8],\n",
    "    \"colsample_bytree\": [0.5],\n",
    "}"
   ]
  },
  {
   "cell_type": "code",
   "execution_count": 124,
   "metadata": {
    "scrolled": true
   },
   "outputs": [],
   "source": [
    "xgb_cl = xgb.XGBClassifier(objective=\"binary:logistic\")\n",
    "\n",
    "grid_cv = GridSearchCV(xgb_cl, param_grid, n_jobs=-1, cv=5, scoring=\"roc_auc\")"
   ]
  },
  {
   "cell_type": "code",
   "execution_count": 125,
   "metadata": {
    "scrolled": true
   },
   "outputs": [
    {
     "name": "stdout",
     "output_type": "stream",
     "text": [
      "CPU times: user 21.7 s, sys: 965 ms, total: 22.6 s\n",
      "Wall time: 25.7 s\n"
     ]
    },
    {
     "data": {
      "text/plain": [
       "GridSearchCV(cv=5, error_score=nan,\n",
       "             estimator=XGBClassifier(base_score=None, booster=None,\n",
       "                                     callbacks=None, colsample_bylevel=None,\n",
       "                                     colsample_bynode=None,\n",
       "                                     colsample_bytree=None,\n",
       "                                     early_stopping_rounds=None,\n",
       "                                     enable_categorical=False, eval_metric=None,\n",
       "                                     gamma=None, gpu_id=None, grow_policy=None,\n",
       "                                     importance_type=None,\n",
       "                                     interaction_constraints=None,\n",
       "                                     learning_rate=None, max...\n",
       "                                     objective='binary:logistic',\n",
       "                                     predictor=None, random_state=None,\n",
       "                                     reg_alpha=None, ...),\n",
       "             iid='deprecated', n_jobs=-1,\n",
       "             param_grid={'colsample_bytree': [0.5], 'gamma': [0, 0.25, 1],\n",
       "                         'learning_rate': [0.1, 0.01, 0.05],\n",
       "                         'max_depth': [3, 4, 5, 7], 'reg_lambda': [0, 1, 10],\n",
       "                         'scale_pos_weight': [1, 3, 5], 'subsample': [0.8]},\n",
       "             pre_dispatch='2*n_jobs', refit=True, return_train_score=False,\n",
       "             scoring='roc_auc', verbose=0)"
      ]
     },
     "execution_count": 125,
     "metadata": {},
     "output_type": "execute_result"
    }
   ],
   "source": [
    "%%time\n",
    "grid_cv.fit(features_train, target_train)"
   ]
  },
  {
   "cell_type": "code",
   "execution_count": 126,
   "metadata": {
    "scrolled": true
   },
   "outputs": [],
   "source": [
    "# до исправления здесь был код:\n",
    "# predicted_train_xg = grid_cv.predict(features_train)\n",
    "\n",
    "# print('Обучающая выборка')\n",
    "# calc_metrics(grid_cv, features_train, target_train)\n",
    "# print('ROC AUC через predict:', round(roc_auc_score(target_train, predicted_train_xg), 3))"
   ]
  },
  {
   "cell_type": "code",
   "execution_count": 127,
   "metadata": {
    "scrolled": true
   },
   "outputs": [
    {
     "name": "stdout",
     "output_type": "stream",
     "text": [
      "Валидационная выборка\n",
      "F1: 0.684\n",
      "ROC AUC через predict_proba: 0.886\n",
      "Полнота: 0.768\n",
      "Точность: 0.617\n"
     ]
    }
   ],
   "source": [
    "predicted_valid_xg = grid_cv.predict(features_valid)\n",
    "\n",
    "print('Валидационная выборка')\n",
    "calc_metrics(grid_cv, features_valid, target_valid)\n",
    "# до исправления здесь был код: print('ROC AUC через predict:', round(roc_auc_score(target_valid, predicted_valid_xg), 3))"
   ]
  },
  {
   "cell_type": "markdown",
   "metadata": {},
   "source": [
    "Не так хорошо, как у catboost, попробуем еще c upsampling"
   ]
  },
  {
   "cell_type": "code",
   "execution_count": 128,
   "metadata": {
    "scrolled": true
   },
   "outputs": [],
   "source": [
    "# до исправления здесь был код:\n",
    "# predicted_test_xg = grid_cv.predict(features_test)\n",
    "\n",
    "# print('Тестовая выборка')\n",
    "# calc_metrics(grid_cv, features_test, target_test)\n",
    "# print('ROC AUC через predict:', round(roc_auc_score(target_test, predicted_test_xg), 3))"
   ]
  },
  {
   "cell_type": "markdown",
   "metadata": {},
   "source": [
    "#### upsampled"
   ]
  },
  {
   "cell_type": "code",
   "execution_count": 129,
   "metadata": {
    "scrolled": true
   },
   "outputs": [
    {
     "name": "stdout",
     "output_type": "stream",
     "text": [
      "CPU times: user 30.8 s, sys: 825 ms, total: 31.6 s\n",
      "Wall time: 51.8 s\n"
     ]
    },
    {
     "data": {
      "text/plain": [
       "GridSearchCV(cv=5, error_score=nan,\n",
       "             estimator=XGBClassifier(base_score=None, booster=None,\n",
       "                                     callbacks=None, colsample_bylevel=None,\n",
       "                                     colsample_bynode=None,\n",
       "                                     colsample_bytree=None,\n",
       "                                     early_stopping_rounds=None,\n",
       "                                     enable_categorical=False, eval_metric=None,\n",
       "                                     gamma=None, gpu_id=None, grow_policy=None,\n",
       "                                     importance_type=None,\n",
       "                                     interaction_constraints=None,\n",
       "                                     learning_rate=None, max...\n",
       "                                     objective='binary:logistic',\n",
       "                                     predictor=None, random_state=None,\n",
       "                                     reg_alpha=None, ...),\n",
       "             iid='deprecated', n_jobs=-1,\n",
       "             param_grid={'colsample_bytree': [0.5], 'gamma': [0, 0.25, 1],\n",
       "                         'learning_rate': [0.1, 0.01, 0.05],\n",
       "                         'max_depth': [3, 4, 5, 7], 'reg_lambda': [0, 1, 10],\n",
       "                         'scale_pos_weight': [1, 3, 5], 'subsample': [0.8]},\n",
       "             pre_dispatch='2*n_jobs', refit=True, return_train_score=False,\n",
       "             scoring='roc_auc', verbose=0)"
      ]
     },
     "execution_count": 129,
     "metadata": {},
     "output_type": "execute_result"
    }
   ],
   "source": [
    "%%time\n",
    "grid_cv.fit(features_train_upsampled, target_train_upsampled)"
   ]
  },
  {
   "cell_type": "code",
   "execution_count": 130,
   "metadata": {
    "scrolled": true
   },
   "outputs": [],
   "source": [
    "# до исправления здесь был код:\n",
    "# predicted_train_xg = grid_cv.predict(features_train_upsampled)\n",
    "\n",
    "# print('Обучающая выборка')\n",
    "# calc_metrics(grid_cv, features_train_upsampled, target_train_upsampled)\n",
    "# print('ROC AUC через predict:', round(roc_auc_score(target_train_upsampled, predicted_train_xg), 3))"
   ]
  },
  {
   "cell_type": "code",
   "execution_count": 131,
   "metadata": {
    "scrolled": true
   },
   "outputs": [
    {
     "name": "stdout",
     "output_type": "stream",
     "text": [
      "Валидационная выборка\n",
      "F1: 0.616\n",
      "ROC AUC через predict_proba: 0.878\n",
      "Полнота: 0.901\n",
      "Точность: 0.468\n"
     ]
    }
   ],
   "source": [
    "predicted_valid_xg = grid_cv.predict(features_valid)\n",
    "\n",
    "print('Валидационная выборка')\n",
    "calc_metrics(grid_cv, features_valid, target_valid)\n",
    "# до исправления здесь был код: print('ROC AUC через predict:', round(roc_auc_score(target_valid, predicted_valid_xg), 3))"
   ]
  },
  {
   "cell_type": "code",
   "execution_count": 132,
   "metadata": {
    "scrolled": true
   },
   "outputs": [],
   "source": [
    "# до исправления здесь был код:\n",
    "# predicted_test_xg = grid_cv.predict(features_test)\n",
    "\n",
    "# print('Тестовая выборка')\n",
    "# calc_metrics(grid_cv, features_test, target_test)\n",
    "# print('ROC AUC через predict:', round(roc_auc_score(target_test, predicted_test_xg), 3))"
   ]
  },
  {
   "cell_type": "markdown",
   "metadata": {},
   "source": [
    "<div class=\"alert alert-danger\">\n",
    "<b>**Комментарий тимлида_v2 ❌:**</b>\n",
    "\n",
    "1. Везде обучаешь и тестируешь на трейне - это НЕ ПРАВИЛЬНО. Потом проводишь тест на валидации - это ПРАВИЛЬНО.  После того как протестировала все варианты датасетов и моделей - итоговые метрики собираешь в таблицу. По таблице выбираешь лучшую комбинацию модели и датасета по метрике ROC_AUC. И именно эту модель тестируешь на тесте. Это и будет итоговая метрика работы.\n",
    "    \n",
    "2. Нет выводов важности признаков итоговой модели. И твоих комментариев почему (с твоей точки зрения) модель выборала их.\n",
    "    \n",
    "3. Для итоговой модели приводишь метрику ROC_AUC, Accuracy список выборанных гиперпараметров. \n",
    "    \n",
    "Пожалуйста внеси изменения в тетрадку и высылай на проверку.\n",
    "</div>"
   ]
  },
  {
   "cell_type": "markdown",
   "metadata": {},
   "source": [
    "<div class=\"alert alert-info\"> <b>Комментарий студента v2:</b> Поправила: везде смотрю только на valid, ниже проверка на тесте уже по лучшей модели. Таблицу добавила. Про признаки написала. Accuracy на тесте добавила</div>"
   ]
  },
  {
   "cell_type": "markdown",
   "metadata": {},
   "source": [
    "| Модель | ROC-AUC valid |\n",
    "| --- | --- |\n",
    "| LogRegression  | 0.842 |\n",
    "| LogRegression upsampled | 0.839 |\n",
    "| RandomForest class weights | 0.857 |\n",
    "| RandomForest upsampled | 0.841 |\n",
    "| RandomForest downsampled | 0.852 |\n",
    "| Catboost | 0.908 |\n",
    "| Catboost upsampled | 0.872 |\n",
    "| Catboost downsampled | 0.9 |\n",
    "| XgBoost | 0.886 |\n",
    "| XgBoost upsampled | 0.878 |\n"
   ]
  },
  {
   "cell_type": "markdown",
   "metadata": {},
   "source": [
    "Итого, лучшая модель - catboost, обученная на обычной выборке. **ROC AUC на валидационной выборке - 0.908**"
   ]
  },
  {
   "cell_type": "markdown",
   "metadata": {},
   "source": [
    "### Тестирование модели"
   ]
  },
  {
   "cell_type": "markdown",
   "metadata": {},
   "source": [
    "Информации о модели, и какие параметры перебирались:"
   ]
  },
  {
   "cell_type": "code",
   "execution_count": 81,
   "metadata": {},
   "outputs": [
    {
     "data": {
      "text/plain": [
       "GridSearchCV(cv=5, error_score=nan,\n",
       "             estimator=<catboost.core.CatBoostClassifier object at 0x7fb265340310>,\n",
       "             iid='deprecated', n_jobs=None,\n",
       "             param_grid={'depth': [2, 4], 'iterations': [100, 150, 200],\n",
       "                         'l2_leaf_reg': [0.1, 0.2, 0.5, 1],\n",
       "                         'learning_rate': [0.03, 0.1, 1],\n",
       "                         'logging_level': ['Silent'],\n",
       "                         'loss_function': ['CrossEntropy'],\n",
       "                         'od_type': ['IncToDec'], 'random_seed': [290822]},\n",
       "             pre_dispatch='2*n_jobs', refit=True, return_train_score=False,\n",
       "             scoring=make_scorer(roc_auc_score), verbose=0)"
      ]
     },
     "execution_count": 81,
     "metadata": {},
     "output_type": "execute_result"
    }
   ],
   "source": [
    "best_model"
   ]
  },
  {
   "cell_type": "markdown",
   "metadata": {},
   "source": [
    "Лучшие параметры:"
   ]
  },
  {
   "cell_type": "code",
   "execution_count": 82,
   "metadata": {},
   "outputs": [
    {
     "data": {
      "text/plain": [
       "{'depth': 2,\n",
       " 'iterations': 200,\n",
       " 'l2_leaf_reg': 0.5,\n",
       " 'learning_rate': 1,\n",
       " 'logging_level': 'Silent',\n",
       " 'loss_function': 'CrossEntropy',\n",
       " 'od_type': 'IncToDec',\n",
       " 'random_seed': 290822}"
      ]
     },
     "execution_count": 82,
     "metadata": {},
     "output_type": "execute_result"
    }
   ],
   "source": [
    "best_model.best_params_"
   ]
  },
  {
   "cell_type": "code",
   "execution_count": 135,
   "metadata": {},
   "outputs": [
    {
     "name": "stdout",
     "output_type": "stream",
     "text": [
      "Тестовая выборка\n",
      "F1: 0.757\n",
      "ROC AUC через predict_proba: 0.924\n",
      "Полнота: 0.694\n",
      "Точность: 0.833\n",
      "Accuracy: 0.878\n"
     ]
    }
   ],
   "source": [
    "predicted_test_cb = best_model.predict(features_test)\n",
    "\n",
    "print('Тестовая выборка')\n",
    "calc_metrics(best_model, features_test, target_test)\n",
    "print('Accuracy:', round(accuracy_score(predicted_test_cb, target_test), 3))"
   ]
  },
  {
   "cell_type": "code",
   "execution_count": 91,
   "metadata": {},
   "outputs": [
    {
     "data": {
      "text/html": [
       "<div>\n",
       "<style scoped>\n",
       "    .dataframe tbody tr th:only-of-type {\n",
       "        vertical-align: middle;\n",
       "    }\n",
       "\n",
       "    .dataframe tbody tr th {\n",
       "        vertical-align: top;\n",
       "    }\n",
       "\n",
       "    .dataframe thead th {\n",
       "        text-align: right;\n",
       "    }\n",
       "</style>\n",
       "<table border=\"1\" class=\"dataframe\">\n",
       "  <thead>\n",
       "    <tr style=\"text-align: right;\">\n",
       "      <th></th>\n",
       "      <th>feature_importance</th>\n",
       "      <th>feature_names</th>\n",
       "    </tr>\n",
       "  </thead>\n",
       "  <tbody>\n",
       "    <tr>\n",
       "      <th>2</th>\n",
       "      <td>75.325381</td>\n",
       "      <td>days_active</td>\n",
       "    </tr>\n",
       "    <tr>\n",
       "      <th>1</th>\n",
       "      <td>15.249116</td>\n",
       "      <td>monthly_charges</td>\n",
       "    </tr>\n",
       "    <tr>\n",
       "      <th>7</th>\n",
       "      <td>2.493078</td>\n",
       "      <td>internet_service</td>\n",
       "    </tr>\n",
       "    <tr>\n",
       "      <th>16</th>\n",
       "      <td>1.480672</td>\n",
       "      <td>type_Two year</td>\n",
       "    </tr>\n",
       "    <tr>\n",
       "      <th>18</th>\n",
       "      <td>1.070262</td>\n",
       "      <td>pay_method_Electronic check</td>\n",
       "    </tr>\n",
       "    <tr>\n",
       "      <th>15</th>\n",
       "      <td>0.682919</td>\n",
       "      <td>type_One year</td>\n",
       "    </tr>\n",
       "    <tr>\n",
       "      <th>0</th>\n",
       "      <td>0.546201</td>\n",
       "      <td>paper_less_billing</td>\n",
       "    </tr>\n",
       "    <tr>\n",
       "      <th>13</th>\n",
       "      <td>0.480636</td>\n",
       "      <td>streaming_movies</td>\n",
       "    </tr>\n",
       "    <tr>\n",
       "      <th>8</th>\n",
       "      <td>0.424454</td>\n",
       "      <td>online_security</td>\n",
       "    </tr>\n",
       "    <tr>\n",
       "      <th>11</th>\n",
       "      <td>0.383831</td>\n",
       "      <td>tech_support</td>\n",
       "    </tr>\n",
       "    <tr>\n",
       "      <th>14</th>\n",
       "      <td>0.332681</td>\n",
       "      <td>multiple_lines</td>\n",
       "    </tr>\n",
       "    <tr>\n",
       "      <th>6</th>\n",
       "      <td>0.311305</td>\n",
       "      <td>dependents</td>\n",
       "    </tr>\n",
       "    <tr>\n",
       "      <th>4</th>\n",
       "      <td>0.291123</td>\n",
       "      <td>senior_citizen</td>\n",
       "    </tr>\n",
       "    <tr>\n",
       "      <th>17</th>\n",
       "      <td>0.283662</td>\n",
       "      <td>pay_method_Credit card (automatic)</td>\n",
       "    </tr>\n",
       "    <tr>\n",
       "      <th>3</th>\n",
       "      <td>0.223929</td>\n",
       "      <td>gender</td>\n",
       "    </tr>\n",
       "    <tr>\n",
       "      <th>12</th>\n",
       "      <td>0.205371</td>\n",
       "      <td>streaming_tv</td>\n",
       "    </tr>\n",
       "    <tr>\n",
       "      <th>10</th>\n",
       "      <td>0.080867</td>\n",
       "      <td>device_protection</td>\n",
       "    </tr>\n",
       "    <tr>\n",
       "      <th>5</th>\n",
       "      <td>0.072229</td>\n",
       "      <td>partner</td>\n",
       "    </tr>\n",
       "    <tr>\n",
       "      <th>9</th>\n",
       "      <td>0.062285</td>\n",
       "      <td>online_backup</td>\n",
       "    </tr>\n",
       "    <tr>\n",
       "      <th>19</th>\n",
       "      <td>0.000000</td>\n",
       "      <td>pay_method_Mailed check</td>\n",
       "    </tr>\n",
       "  </tbody>\n",
       "</table>\n",
       "</div>"
      ],
      "text/plain": [
       "    feature_importance                       feature_names\n",
       "2            75.325381                         days_active\n",
       "1            15.249116                     monthly_charges\n",
       "7             2.493078                    internet_service\n",
       "16            1.480672                       type_Two year\n",
       "18            1.070262         pay_method_Electronic check\n",
       "15            0.682919                       type_One year\n",
       "0             0.546201                  paper_less_billing\n",
       "13            0.480636                    streaming_movies\n",
       "8             0.424454                     online_security\n",
       "11            0.383831                        tech_support\n",
       "14            0.332681                      multiple_lines\n",
       "6             0.311305                          dependents\n",
       "4             0.291123                      senior_citizen\n",
       "17            0.283662  pay_method_Credit card (automatic)\n",
       "3             0.223929                              gender\n",
       "12            0.205371                        streaming_tv\n",
       "10            0.080867                   device_protection\n",
       "5             0.072229                             partner\n",
       "9             0.062285                       online_backup\n",
       "19            0.000000             pay_method_Mailed check"
      ]
     },
     "execution_count": 91,
     "metadata": {},
     "output_type": "execute_result"
    }
   ],
   "source": [
    "pd.DataFrame({'feature_importance': best_model.best_estimator_.feature_importances_, \n",
    "              'feature_names': features.columns}).sort_values(by=['feature_importance'], \n",
    "                                                           ascending=False)"
   ]
  },
  {
   "cell_type": "code",
   "execution_count": 90,
   "metadata": {
    "scrolled": false
   },
   "outputs": [
    {
     "data": {
      "image/png": "[encoded data removed]",
      "text/plain": [
       "<Figure size 640x480 with 1 Axes>"
      ]
     },
     "metadata": {},
     "output_type": "display_data"
    }
   ],
   "source": [
    "from matplotlib.pyplot import figure\n",
    "\n",
    "figure(figsize=(8, 6), dpi=80)\n",
    "\n",
    "sorted_idx = best_model.best_estimator_.feature_importances_.argsort()\n",
    "plt.barh(features.columns[sorted_idx], best_model.best_estimator_.feature_importances_[sorted_idx])\n",
    "plt.xlabel(\"Catboost Feature Importance\")\n",
    "plt.show()"
   ]
  },
  {
   "cell_type": "code",
   "execution_count": 103,
   "metadata": {},
   "outputs": [
    {
     "name": "stdout",
     "output_type": "stream",
     "text": [
      "F1: 0.677\n",
      "ROC AUC через predict_proba: 0.906\n",
      "Полнота: 0.59\n",
      "Точность: 0.794\n"
     ]
    }
   ],
   "source": [
    "model = cb.CatBoostClassifier(logging_level='Silent')\n",
    "model.fit(features_train, target_train)\n",
    "predicted = model.predict(features_valid)\n",
    "calc_metrics(model, features_valid, target_valid)"
   ]
  },
  {
   "cell_type": "markdown",
   "metadata": {},
   "source": [
    "### Итог по обучению"
   ]
  },
  {
   "cell_type": "markdown",
   "metadata": {},
   "source": [
    "Данные были подготовлены для модели. Была создана целевая переменная - `ended`. Это бинарный признак, означающий, что клиент расторг контракт. Именно он выступил целевым признаком для предсказания, уйдет клиент или останется.\n",
    "\n",
    "В итоговый список было включено большое количество признаков, но самыми главными, на мой взгляд, являются:\n",
    "\n",
    "* `days_alive` - количество подключенных дней, так как это может косвенно отражать лояльность пользователя\n",
    "* `type` - если у клиента скоро заканчивается контракт (месяц/год/два), то он в зоне риска. В совокупности с days_alive модель могла такие случаи учесть\n",
    "* `monthly_charged` - то, сколько человек платит, является важным признаком, и косвенно может указывать на вовлеченность. В совокупности с данными о дополнительных плюшках, у модели была возможность учесть эту вовлеченность клиента\n",
    "\n",
    "Из модели были исключены параметы:\n",
    "\n",
    "* `customer_id` - как неинформативный для модели\n",
    "* `begin_date`, `end_date` - вместо этого была создана целевая переменная `ended`\n",
    "* `total_charges` - удалена как сильно коррелирующая с количеством дней контракта и различными подписками \n",
    "\n",
    "Были обучены следующие модели. Так как был риск дисбаланаса целевой переменной, некоторые модели были обучены с учетом данного фактора, а также были использованы модифицированные upsampled и downsampled фичи:\n",
    "\n",
    "1. Логистическая регрессия (без и c upsampling)\n",
    "2. RandomForestClassifier (class_weights, upsampling, downsampling)\n",
    "3. Catboost (без балансировки, upsampling, downsampling)\n",
    "4. XgBoost (без балансировки, upsampling)\n",
    "\n",
    "Основным признаком качества модели выступал ROC-AUC\n",
    "\n",
    "| Модель | ROC-AUC valid |\n",
    "| --- | --- |\n",
    "| LogRegression  | 0.842 |\n",
    "| LogRegression upsampled | 0.839 |\n",
    "| RandomForest class weights | 0.857 |\n",
    "| RandomForest upsampled | 0.841 |\n",
    "| RandomForest downsampled | 0.852 |\n",
    "| Catboost | 0.908 |\n",
    "| Catboost upsampled | 0.872 |\n",
    "| Catboost downsampled | 0.9 |\n",
    "| XgBoost | 0.886 |\n",
    "| XgBoost upsampled | 0.878 |\n",
    "\n",
    "Лучшие результаты на валидационной выборке показал **CatBoost без балансировки**. \n",
    "\n",
    "На тестовой выборке результат получился хорошим:\n",
    "\n",
    "  * **ROC AUC 0.923**\n",
    "  * F1 score: 0.757\n",
    "  * Полнота: 0.694\n",
    "  * Точность: 0.833\n",
    "  * Accuracy: 0.878\n",
    "\n",
    "Что было сделано в попытках поднять качество модели, но не помогло:\n",
    "\n",
    "* Увеличение количества итераций и cv фолдов\n",
    "* Удаление лишних переменных и создание промежуточных"
   ]
  },
  {
   "cell_type": "markdown",
   "metadata": {},
   "source": [
    "<div class=\"alert alert-warning\">\n",
    "<b>**Комментарий тимлида_v3 ⚠️:**</b>\n",
    "\n",
    "Ок, теперь все ок. Не хватает анализа важности признаков модели, но думаю ты приведешь их в итоговом отчете.\n",
    "</div>"
   ]
  },
  {
   "cell_type": "markdown",
   "metadata": {},
   "source": [
    "<div class=\"alert alert-success\">\n",
    "<b>**Комментарий тимлида_v4 ✔️:**</b>\n",
    "    \n",
    "Дарья, получилось хорошее и качественное исследование!\n",
    "    \n",
    "Обработка данных, размышления над признаками, поиск и сравнение различных вариантов обучающего датасета. Конечные результаты, графика - многое удалось как надо. Можно сказать, что пройден весь алгоритм моделирования от анализа исходной инфо до анализа важности факторов.\n",
    "А что совсем хорошо, так это то, что нет гонки за точностью любой ценой, даже ценой наружения бизнес-логики. (это я про даты-признаки - всегда есть соблазн их оставить...)\n",
    "    \n",
    "Прежде, чем пойти дальше хочу обратить особое внимание на следующие пункты:\n",
    "    \n",
    "1. F1, Accuracy и AUC - отличные метрики, но нужно держать в голове, что это лишь бобщённые характеристики. А в реальной практике бизнесу часто важно знать детали самой ошибки - из каких ошибок/успехов она складывается. И в этом случае очень кстати будут меры полноты и точности. Рассмотри возможность их использования для своих проектов. Только через них можно выйти на финансовые возможности модели. Ведь перед запуском её в бой, будет сравнение стоимости создания и поддержки модели со стомостью \"оставить как есть\"\n",
    "\n",
    "2. При анализе факторов влияния (их зависиомть между собой и на целевую) происходит по одному из трёх алгоритмов, исходя из типа шкалы. Могут применять следующие графический и аналитический анализы:\n",
    "\n",
    "- колличественная-колличественная: аналитически методод - корреляции, графический - скатерплот.\n",
    "- колличественная-номинальная: аналитически методод - проверка гипотез (стьюдент, маннауитни), графический - боксплот.\n",
    "- номинальная-номинальная: аналитически методод - Хи-квадрат, графический - круговая диаграмма\n",
    "Это я к тому разделу, который посвящён анализу данных. Там сделаны интересные предположения и их аналитическая проверка. Очень важные этапы любого исследования, где требуется определить валидность использования признаков из датасета.\n",
    "    \n",
    "3. Алгоритм нахождения модели может быть таким:\n",
    "\n",
    "- изучаем проблематику бизнеса и самой темы (в данном случае отток). Пытаемся понять суть явления.\n",
    "- генерируем разные факторы влияния - любые.\n",
    "- дизайнируем (прикидываем модели) какие методы решения есть, чтобы решить проблему.\n",
    "- Смотрим, какие данные и в какой шкале есть. Что нужно ещё, что применить выбранный метод.\n",
    "- Оцениваем мультиколлинеарность.\n",
    "- Строим модели и анализируем те фактры, какие сгенерировали ранее.\n",
    "- Думаем над тем, какие причины (факторы) могут ещё влиять на отток\n",
    "- Если после нескольких итераций точность \"замирает\" - значит достигли потолка)\n",
    "    \n",
    "4. Проведение анализа важности факторов с помощью команды feature_importances_ (+графический анализ). Отличная вещь намечается: высокая метрика + график рейтинаг факторов по силе влияния на целевой признак). Важнейшая часть любого модельного финала. Если видно, что часть факторов - слабозначимые для модели. Т.е. не значительно влияют на целевую переменную, то их смело можно убирать из модели. Ну и для бизнеса доносить: на эти факторы надо обращать внимание, а эти не влияют на уход клиента.\n",
    "\n",
    "Вопросов у меня больше нет, работу принимаю, твоя метрика ROC-AUC = 0.92 что соответствует 6sp. \n",
    "\n",
    "Не забудь перед подготовкой отчета еще раз прочитать мои рекомендации по его составлению (что проверяется и на что обращается внимание при проверке). Напоминаю: что для сдачи отчета нужно написать развернутые ответы на следующие вопросы:\n",
    "- Какие пункты плана были выполнены, а какие — нет (поясните почему)?\n",
    "- Какие трудности возникли и как вы их преодолели?\n",
    "- Какие ключевые шаги в решении задачи выделили?\n",
    "- Какая ваша итоговая модель и какое у неё качество?\n",
    "\n",
    "В отчёте ожидаются ответы на вопросы задания + перечисление признаков, использованных для обучения, описание их предобработки + гиперпараметры лучшей модели. Отчёт должен быть таким, чтобы по нему можно было воспроизвести проект, не смотря в код.\n",
    "При проверке отчета уделяется особое внимание следующим вопросам:\n",
    "\n",
    "- Полное ли решение (описание проекта, название, цели задачи, исходные данные).\n",
    "- Есть сравнение итогового решения с планом (если есть отклонения от плана объяснить почему).\n",
    "- Описаны затруднения в коде исследования и подготовки решения (описание трудности, способ ее решения).\n",
    "- Описаны ключевые шаги решения (наиболее важные моменты в ходе исследования).\n",
    "- Предложена итоговая модель (с объяснением причины выбора).\n",
    "- Приведено сравнение моделей (на валидации/трейне, тесте)\n",
    "- Описаны признаки, какие используются  для обучения (объяснено почему именно они).\n",
    "- Описан процесс предобработки данных (что делаем с данными и почему).\n",
    "- Структура исследования и оформление\n",
    "\n",
    "    \n",
    "</div>"
   ]
  },
  {
   "cell_type": "markdown",
   "metadata": {},
   "source": [
    "<div class=\"alert alert-info\"> <b>Комментарий студента v2:</b> Спасибо большое за советы! Добавила feature_importances_ выше - восхитительная штука </div>"
   ]
  },
  {
   "cell_type": "markdown",
   "metadata": {},
   "source": [
    "### Отчет"
   ]
  },
  {
   "cell_type": "markdown",
   "metadata": {},
   "source": [
    "#### Прогнозирование оттока клиентов для оператора связи «Ниединогоразрыва.ком»##\n",
    "\n",
    "**Аннотация:** Целью проекта было сформировать модель для прогонзирования оттока пользователей, чтобы удержать их перед возможным уходом. В проекте был проведен исследовательский анализ данных, изучены аномалии, отобраны признаки для модели, определена и сформирована целевая переменная, обучены несколько моделей и выбрана лучшая из них. Лучшей моделью оказалась модель Catboost, показавшая значение метрики ROC-AUC на уровне 0.923\n",
    "\n",
    "**Этапы проекта**\n",
    "\n",
    "**1. Исследовательский анализ данных**\n",
    "\n",
    "Была проведена предварительная обработка датасета, состоящая из 4 датасетов, предоставленных заказчиком:\n",
    "\n",
    "- `contract.csv` — информация о договоре;\n",
    "- `personal.csv` — персональные данные клиента;\n",
    "- `internet.csv` — информация об интернет-услугах;\n",
    "- `phone.csv` — информация об услугах телефонии.\n",
    "\n",
    "В ходе предварительной обработки данных, были приведены в порядок нейминги, данным заданы корректные типы, удалены пропуски. В ходе изучения распределения переменных были обнаружены 2 аномалии:\n",
    "\n",
    "* Небольшой период для дат оттока: только за 4 последних месяца, при этом даты подписания контрактов есть с 2014 года. Было принято решение, что это особенность ведения бизнеса клиента, и такая тенденция в дальнейшем сохранится, поэтому данные были переданы модели на обучение вместе с этой аномалией\n",
    "* 2014 год - год массового подключения. Также является особенностью данных этого бизнеса, которую стоит сохранить\n",
    "\n",
    "Также был отмечен небольшой дисбаланс целевого признака - 75% отрицательных ответов против 25% положительных\n",
    "\n",
    "<font color='green'>Исследовальский анализ данных полностью соответствовал запланированному</font>\n",
    "\n",
    "**2. Подготовка данных**\n",
    "\n",
    "На данном этапе была сформирована целевая переменная - `ended`. Это бинарный признак, означающий, что клиент расторг контракт. Если клиент на момент получения выгрузки оставался действующим клиентом, переменная принимала значение 0, если расторг контракт - 1. Именно эта переменная выступила целевым признаком для предсказания, уйдет клиент или останется.\n",
    "\n",
    "Переменные `begin_date`, `end_date` были исключены из анализа, но были использованы в новой синтетической переменной - `days_alive`. Данная переменная отвечает на вопрос, сколько дней у клиента заключен контракт с даты регистрации до даты выгрузки данных. Также была исключена переменная `total_charges` из-за высокой мультикорреляции с `monthly_charges` и некоторыми другими признаками из данных. Также была исключена переменная `customer_id` как абсолютно неинформативная для модели\n",
    "\n",
    "Остальные признаки были включены в единый датасет, все категориальные признаки были превращены в бинарные. На основе полученного датасета были сформированы train, valid и test выборка, в соотношении 75 : 12.5 : 12.5\n",
    "\n",
    "Cписок итоговых переменных для анализа:\n",
    "\n",
    "* `days_active`\n",
    "* `type`\n",
    "* `paper_less_billing`\n",
    "* `pay_method`\n",
    "* `monthly_charges`\n",
    "* `gender`\n",
    "* `senior_citizen`\n",
    "* `partner`\n",
    "* `dependents`\n",
    "* `internet_service`\n",
    "* `online_security`\n",
    "* `online_backup`\n",
    "* `device_protection`\n",
    "* `tech_support`\n",
    "* `streaming_tv`\n",
    "* `streaming_movies`\n",
    "* `multiple_lines`\n",
    "\n",
    "<font color='green'>Подготовка данных прошла практически полностью в соответствии с планом. Возникли некоторые трудности с интерпретацией некоторых переменных, понадобилось запросить уточняющую информацию, после чего было принято решение о том, чтобы оставить данные признаки в анализе (пенсионный возраст, статус замужества, наличие иждивенцев)</font>\n",
    "\n",
    "**3. Обучение модели**\n",
    "\n",
    "Для предсказания оттока клиентов (задача классификации) были выбраны хорошо зарекомендовавшие себя модели. Это логистическая регрессия, Random Forest Classifier, Catboost, xgBoost. \n",
    "\n",
    "Так как в данных присутствовал дисбаланс целевого признака (но не очень критичный), для некоторых моделей были использованы модифицированные выборки - upsampled и downsampled, а также использовался параметр сбалансированности классов для Random Forest Classifier. \n",
    "\n",
    "Основной метрикой качества модели выступала ROC-AUC. Модели обучались на обучающей выборке, проверялось их качество на валидационной выборке. Тестовая выборка была использована для оценки качества лучшей модели. Для сложных моделей гиперпараметры подбирались через кросс-валидацию, оптимизириловались также по ROC-AUC\n",
    "\n",
    "Основным признаком качества модели выступал ROC-AUC\n",
    "\n",
    "| Модель | ROC-AUC valid | F1 | Полнота | Точность\n",
    "| --- | --- | --- | --- | --- |\n",
    "| LogRegression  | 0.842 | 0.568 | 0.507 | 0.645 |\n",
    "| LogRegression upsampled | 0.839 | 0.547 | 0.954 | 0.384 |\n",
    "| RandomForest class weights | 0.857 | 0.642 | 0.719 | 0.58 |\n",
    "| RandomForest upsampled | 0.841 | 0.617 | 0.664 | 0.576 |\n",
    "| RandomForest downsampled | 0.852 | 0.623 | 0.846 | 0.492 |\n",
    "| Catboost | 0.908 | 0.73 | 0.66 | 0.816 |\n",
    "| Catboost upsampled | 0.872 | 0.673 | 0.75 | 0.611 |\n",
    "| Catboost downsampled | 0.9 | 0.69 | 0.82 | 0.596 |\n",
    "| XgBoost | 0.886 | 0.684 | 0.768 | 0.617 |\n",
    "| XgBoost upsampled | 0.878 | 0.616 | 0.901 | 0.468 |\n",
    "\n",
    "Изначально хотелось соблюсти баланс между полнотой и точностью. Если модель не угадала клиента, который уйдет - то мы его потеряем. Но также важно, чтобы модель не давала ложно-положительных результатов, чтобы маркетинговый бюджет на удержание расходавался точно по назначению, а не впустую. Большинство моделей хорошо справлялись с первой задачей (точность), но не со второй (полнота). Так как не растратить бюджет не менее (а возможно и более) важно, чем правильно угадать, уйдет ли клиент, была выбрана модель Catboost (обычная выборка) как самая лучшая по точности (0.82), F1 мере (0.73) и ROC-AUC (0.91). При этом полнота (0.66), хоть и проигрывала другим моделем, всё равно оказалось достаточно высокая\n",
    "\n",
    "<font color='green'>Обучение модели прошло практически полностью в соответствии с планом. Отклонение с планом заключалось в том, что более сложная модель для обучения не понадобилась, так как удалось добиться приемлемого качества с помощью относительно простой модели CatBoost. Из интересных расхождений можно отметить, что модель Catboost без модификаций относительно несбалансированности выборки оказалась даже лучше, чем с какими-либо модификациями</font>\n",
    "\n",
    "\n",
    "**4. Анализ лучшей модели**\n",
    "\n",
    "Итоговая лучшая модель на валидационной выборке: Catboost на обычной выборке. Из предложенного набора параметров:\n",
    "\n",
    "```GridSearchCV(cv=5, error_score=nan,\n",
    "             estimator=<catboost.core.CatBoostClassifier object at 0x7fb265340310>,\n",
    "             iid='deprecated', n_jobs=None,\n",
    "             param_grid={'depth': [2, 4], 'iterations': [100, 150, 200],\n",
    "                         'l2_leaf_reg': [0.1, 0.2, 0.5, 1],\n",
    "                         'learning_rate': [0.03, 0.1, 1],\n",
    "                         'logging_level': ['Silent'],\n",
    "                         'loss_function': ['CrossEntropy'],\n",
    "                         'od_type': ['IncToDec'], 'random_seed': [290822]},\n",
    "             pre_dispatch='2*n_jobs', refit=True, return_train_score=False,\n",
    "             scoring=make_scorer(roc_auc_score), verbose=0)```\n",
    "             \n",
    "Лучшими по подробору параметров GridSearchCV оказалась данная модицификация:\n",
    "\n",
    "`{'depth': 2,\n",
    " 'iterations': 200,\n",
    " 'l2_leaf_reg': 0.5,\n",
    " 'learning_rate': 1,\n",
    " 'logging_level': 'Silent',\n",
    " 'loss_function': 'CrossEntropy',\n",
    " 'od_type': 'IncToDec',\n",
    " 'random_seed': 290822}`\n",
    " \n",
    "Если проанализировать важность влияния признаков, то окажется, что далеко не все признаки оказывали большое влияение на итоговое решение модели. Самыми значимым оказались:\n",
    "\n",
    "* `days_alive` (75%) - количество подключенных дней, так как это может косвенно отражать лояльность пользователя\n",
    "* `monthly_charges` (15%) - то, сколько человек платит, является важным признаком, и косвенно может указывать на вовлеченность. В совокупности с данными о дополнительных плюшках, у модели была возможность учесть эту вовлеченность клиента\n",
    "\n",
    "Эти 2 признака оказались самыми важными для модели. Также относительно значимыми оказались `internet_service`, `type`, `pay_method`. Совсем не важными оказались такие признаки как `online_backup`, `partner`, `device_protection`, `streaming_tv`, `gender` \n",
    "\n",
    "<font color='green'>Анализ лучшей модели не входил в изначальный план, однако оказался полезным и интересным. Из неожиданностей - предполаглось, что модели важно большое количество фактором, однако после анализа важных признаков, оказалось, что одна переменная days_active дает 75% важности всей модели. Две переменные вместе (days_active и monthly charges) дают вместе уже 90% важности всей модели. То есть теоретически можно сократить количество признаков до максимум 5 самых важных, а на остальную информацию можно не тратить ресурс на сбор, обработку и т.д.</font>\n",
    "\n",
    "**5. Тестирование модели**\n",
    "\n",
    "На тестовой выборке результат получился очень хорошим, даже лучше, чем на валидационной:\n",
    "\n",
    "  * **ROC AUC 0.923**\n",
    "  * F1 score: 0.757\n",
    "  * Полнота: 0.694\n",
    "  * Точность: 0.833\n",
    "  * Accuracy: 0.878\n",
    "  \n",
    "<font color='green'>Тестирование модели прошло полностью в соответствии с планом</font>\n",
    "\n",
    "**5. Трудности, проблемы, переживания**\n",
    "\n",
    "В целом, больших трудностей в ходе решение проекта не возникло. Были опасения, что на качество модели могут повлиять аномалии с датами (данных по оттоку всего за 4 месяца, плюс аномальное количество регистраций в 2014), но это не помешало получить высокое качество модели\n",
    "\n",
    "Также были опасения из-за дисбаланса выборки, но, например, для модели Catboost, варианты с модицифированным датасетом оказались даже хуже, чем без него. Из чего можно сделать вывод, что либо дисбаланс не такой критичный, либо CatBoost и так хорошо справился с дисбалансом. \n",
    "\n",
    "Также волновала возможная мультиколлинеарность некоторых оставшихся переменных, но так как основных по важности для модели признаков всего несколько, это не стало критичной проблемой\n",
    "\n",
    "В попытках еще больше увеличить качество модели были предприняты следующие шаги, которые, к сожалению, не принесли должного результата:\n",
    "\n",
    "* Увеличение количества итераций и cv фолдов\n",
    "* Удаление лишних переменных и создание промежуточных\n",
    "\n"
   ]
  }
 ],
 "metadata": {
  "ExecuteTimeLog": [
   {
    "duration": 433,
    "start_time": "2022-09-08T08:04:16.570Z"
   },
   {
    "duration": 130,
    "start_time": "2022-09-08T08:04:35.488Z"
   },
   {
    "duration": 55,
    "start_time": "2022-09-08T08:04:45.850Z"
   },
   {
    "duration": 11,
    "start_time": "2022-09-08T08:04:49.332Z"
   },
   {
    "duration": 118,
    "start_time": "2022-09-08T08:05:31.655Z"
   },
   {
    "duration": 80,
    "start_time": "2022-09-08T08:06:37.004Z"
   },
   {
    "duration": 57,
    "start_time": "2022-09-08T08:06:53.259Z"
   },
   {
    "duration": 96,
    "start_time": "2022-09-08T08:07:02.238Z"
   },
   {
    "duration": 59,
    "start_time": "2022-09-08T08:10:43.374Z"
   },
   {
    "duration": 14,
    "start_time": "2022-09-08T08:13:32.333Z"
   },
   {
    "duration": 13,
    "start_time": "2022-09-08T08:13:39.113Z"
   },
   {
    "duration": 5,
    "start_time": "2022-09-08T08:13:46.344Z"
   },
   {
    "duration": 65,
    "start_time": "2022-09-08T08:14:01.200Z"
   },
   {
    "duration": 6,
    "start_time": "2022-09-08T08:14:11.181Z"
   },
   {
    "duration": 7,
    "start_time": "2022-09-08T08:15:08.647Z"
   },
   {
    "duration": 18,
    "start_time": "2022-09-08T08:15:17.702Z"
   },
   {
    "duration": 18,
    "start_time": "2022-09-08T08:15:34.582Z"
   },
   {
    "duration": 3,
    "start_time": "2022-09-08T08:15:54.673Z"
   },
   {
    "duration": 14,
    "start_time": "2022-09-08T08:15:58.173Z"
   },
   {
    "duration": 6,
    "start_time": "2022-09-08T08:16:06.729Z"
   },
   {
    "duration": 13,
    "start_time": "2022-09-08T08:16:36.777Z"
   },
   {
    "duration": 7,
    "start_time": "2022-09-08T08:17:09.154Z"
   },
   {
    "duration": 11,
    "start_time": "2022-09-08T08:17:18.244Z"
   },
   {
    "duration": 6,
    "start_time": "2022-09-08T08:17:23.720Z"
   },
   {
    "duration": 16,
    "start_time": "2022-09-08T08:17:26.514Z"
   },
   {
    "duration": 2,
    "start_time": "2022-09-08T08:17:53.176Z"
   },
   {
    "duration": 7,
    "start_time": "2022-09-08T08:17:57.145Z"
   },
   {
    "duration": 6,
    "start_time": "2022-09-08T08:18:00.633Z"
   },
   {
    "duration": 13,
    "start_time": "2022-09-08T08:18:16.287Z"
   },
   {
    "duration": 6,
    "start_time": "2022-09-08T08:18:23.742Z"
   },
   {
    "duration": 6,
    "start_time": "2022-09-08T08:18:47.664Z"
   },
   {
    "duration": 8,
    "start_time": "2022-09-08T08:19:03.153Z"
   },
   {
    "duration": 8,
    "start_time": "2022-09-08T08:19:10.463Z"
   },
   {
    "duration": 6,
    "start_time": "2022-09-08T08:19:14.072Z"
   },
   {
    "duration": 9,
    "start_time": "2022-09-08T08:19:36.272Z"
   },
   {
    "duration": 392,
    "start_time": "2022-09-08T08:19:57.255Z"
   },
   {
    "duration": 129,
    "start_time": "2022-09-08T08:20:09.234Z"
   },
   {
    "duration": 151,
    "start_time": "2022-09-08T08:20:40.762Z"
   },
   {
    "duration": 501,
    "start_time": "2022-09-08T08:20:51.616Z"
   },
   {
    "duration": 220,
    "start_time": "2022-09-08T08:20:56.278Z"
   },
   {
    "duration": 159,
    "start_time": "2022-09-08T08:21:01.142Z"
   },
   {
    "duration": 191,
    "start_time": "2022-09-08T08:21:12.151Z"
   },
   {
    "duration": 164,
    "start_time": "2022-09-08T08:21:27.247Z"
   },
   {
    "duration": 1426,
    "start_time": "2022-09-08T08:24:23.715Z"
   },
   {
    "duration": 81,
    "start_time": "2022-09-08T08:24:26.290Z"
   },
   {
    "duration": 6,
    "start_time": "2022-09-08T08:24:26.942Z"
   },
   {
    "duration": 16,
    "start_time": "2022-09-08T08:24:27.474Z"
   },
   {
    "duration": 4,
    "start_time": "2022-09-08T08:24:28.086Z"
   },
   {
    "duration": 6,
    "start_time": "2022-09-08T08:24:28.824Z"
   },
   {
    "duration": 100,
    "start_time": "2022-09-08T08:24:29.317Z"
   },
   {
    "duration": 16,
    "start_time": "2022-09-08T08:24:35.019Z"
   },
   {
    "duration": 9,
    "start_time": "2022-09-08T08:24:35.505Z"
   },
   {
    "duration": 7,
    "start_time": "2022-09-08T08:24:36.235Z"
   },
   {
    "duration": 193,
    "start_time": "2022-09-08T08:24:37.160Z"
   },
   {
    "duration": 206082,
    "start_time": "2022-09-08T08:24:39.534Z"
   },
   {
    "duration": 5,
    "start_time": "2022-09-08T08:29:42.680Z"
   },
   {
    "duration": 6,
    "start_time": "2022-09-08T08:29:47.530Z"
   },
   {
    "duration": 9,
    "start_time": "2022-09-08T08:29:52.547Z"
   },
   {
    "duration": 11,
    "start_time": "2022-09-08T08:30:37.195Z"
   },
   {
    "duration": 14,
    "start_time": "2022-09-08T08:30:40.699Z"
   },
   {
    "duration": 5,
    "start_time": "2022-09-08T08:31:19.436Z"
   },
   {
    "duration": 7,
    "start_time": "2022-09-08T08:31:29.125Z"
   },
   {
    "duration": 13,
    "start_time": "2022-09-08T08:31:37.422Z"
   },
   {
    "duration": 5,
    "start_time": "2022-09-08T08:31:45.017Z"
   },
   {
    "duration": 184,
    "start_time": "2022-09-08T08:31:47.580Z"
   },
   {
    "duration": 20,
    "start_time": "2022-09-08T08:35:37.487Z"
   },
   {
    "duration": 309,
    "start_time": "2022-09-08T08:35:44.580Z"
   },
   {
    "duration": 25,
    "start_time": "2022-09-08T08:50:07.746Z"
   },
   {
    "duration": 6,
    "start_time": "2022-09-08T08:51:40.107Z"
   },
   {
    "duration": 19,
    "start_time": "2022-09-08T08:51:45.380Z"
   },
   {
    "duration": 6,
    "start_time": "2022-09-08T08:52:10.481Z"
   },
   {
    "duration": 6,
    "start_time": "2022-09-08T08:52:15.786Z"
   },
   {
    "duration": 9,
    "start_time": "2022-09-08T08:52:28.738Z"
   },
   {
    "duration": 6,
    "start_time": "2022-09-08T08:52:44.184Z"
   },
   {
    "duration": 19,
    "start_time": "2022-09-08T08:52:47.020Z"
   },
   {
    "duration": 8,
    "start_time": "2022-09-08T08:52:57.991Z"
   },
   {
    "duration": 10,
    "start_time": "2022-09-08T08:53:17.354Z"
   },
   {
    "duration": 193,
    "start_time": "2022-09-08T08:53:25.606Z"
   },
   {
    "duration": 11,
    "start_time": "2022-09-08T08:53:31.281Z"
   },
   {
    "duration": 9,
    "start_time": "2022-09-08T08:53:42.938Z"
   },
   {
    "duration": 16,
    "start_time": "2022-09-08T08:53:56.460Z"
   },
   {
    "duration": 10,
    "start_time": "2022-09-08T08:54:03.505Z"
   },
   {
    "duration": 15,
    "start_time": "2022-09-08T08:54:10.729Z"
   },
   {
    "duration": 188,
    "start_time": "2022-09-08T08:54:15.174Z"
   },
   {
    "duration": 12,
    "start_time": "2022-09-08T08:54:21.050Z"
   },
   {
    "duration": 4,
    "start_time": "2022-09-08T08:54:30.206Z"
   },
   {
    "duration": 594,
    "start_time": "2022-09-08T08:54:33.042Z"
   },
   {
    "duration": 239,
    "start_time": "2022-09-08T08:56:00.248Z"
   },
   {
    "duration": 19,
    "start_time": "2022-09-08T09:01:01.558Z"
   },
   {
    "duration": 6,
    "start_time": "2022-09-08T09:01:29.617Z"
   },
   {
    "duration": 6,
    "start_time": "2022-09-08T09:01:33.183Z"
   },
   {
    "duration": 5,
    "start_time": "2022-09-08T09:01:49.214Z"
   },
   {
    "duration": 18,
    "start_time": "2022-09-08T09:01:52.055Z"
   },
   {
    "duration": 8,
    "start_time": "2022-09-08T09:02:46.483Z"
   },
   {
    "duration": 2563,
    "start_time": "2022-09-08T09:03:17.454Z"
   },
   {
    "duration": 6,
    "start_time": "2022-09-08T09:05:23.445Z"
   },
   {
    "duration": 6,
    "start_time": "2022-09-08T09:05:27.800Z"
   },
   {
    "duration": 7,
    "start_time": "2022-09-08T09:05:30.965Z"
   },
   {
    "duration": 10,
    "start_time": "2022-09-08T09:05:40.814Z"
   },
   {
    "duration": 9,
    "start_time": "2022-09-08T09:05:44.962Z"
   },
   {
    "duration": 6,
    "start_time": "2022-09-08T09:05:52.285Z"
   },
   {
    "duration": 7,
    "start_time": "2022-09-08T09:06:31.839Z"
   },
   {
    "duration": 6,
    "start_time": "2022-09-08T09:06:46.250Z"
   },
   {
    "duration": 22,
    "start_time": "2022-09-08T09:06:48.843Z"
   },
   {
    "duration": 20,
    "start_time": "2022-09-08T09:07:06.604Z"
   },
   {
    "duration": 5,
    "start_time": "2022-09-08T09:07:10.366Z"
   },
   {
    "duration": 11,
    "start_time": "2022-09-08T09:07:14.242Z"
   },
   {
    "duration": 17,
    "start_time": "2022-09-08T09:07:58.068Z"
   },
   {
    "duration": 96,
    "start_time": "2022-09-08T09:08:53.880Z"
   },
   {
    "duration": 94,
    "start_time": "2022-09-08T09:09:01.860Z"
   },
   {
    "duration": 92,
    "start_time": "2022-09-08T09:09:03.279Z"
   },
   {
    "duration": 91,
    "start_time": "2022-09-08T09:09:03.893Z"
   },
   {
    "duration": 88,
    "start_time": "2022-09-08T09:09:04.353Z"
   },
   {
    "duration": 89,
    "start_time": "2022-09-08T09:09:04.926Z"
   },
   {
    "duration": 91,
    "start_time": "2022-09-08T09:09:05.429Z"
   },
   {
    "duration": 93,
    "start_time": "2022-09-08T09:09:05.939Z"
   },
   {
    "duration": 184,
    "start_time": "2022-09-08T09:09:06.479Z"
   },
   {
    "duration": 95,
    "start_time": "2022-09-08T09:09:07.016Z"
   },
   {
    "duration": 97,
    "start_time": "2022-09-08T09:09:07.498Z"
   },
   {
    "duration": 97,
    "start_time": "2022-09-08T09:09:08.032Z"
   },
   {
    "duration": 41,
    "start_time": "2022-09-08T09:09:17.188Z"
   },
   {
    "duration": 90,
    "start_time": "2022-09-08T09:09:22.408Z"
   },
   {
    "duration": 89,
    "start_time": "2022-09-08T09:09:23.892Z"
   },
   {
    "duration": 87,
    "start_time": "2022-09-08T09:09:24.327Z"
   },
   {
    "duration": 86,
    "start_time": "2022-09-08T09:09:24.755Z"
   },
   {
    "duration": 86,
    "start_time": "2022-09-08T09:09:25.063Z"
   },
   {
    "duration": 87,
    "start_time": "2022-09-08T09:09:25.299Z"
   },
   {
    "duration": 155,
    "start_time": "2022-09-08T09:09:25.495Z"
   },
   {
    "duration": 91,
    "start_time": "2022-09-08T09:09:25.700Z"
   },
   {
    "duration": 88,
    "start_time": "2022-09-08T09:09:25.905Z"
   },
   {
    "duration": 99,
    "start_time": "2022-09-08T09:09:26.110Z"
   },
   {
    "duration": 41,
    "start_time": "2022-09-08T09:09:32.142Z"
   },
   {
    "duration": 18,
    "start_time": "2022-09-08T09:09:58.027Z"
   },
   {
    "duration": 6,
    "start_time": "2022-09-08T09:11:21.325Z"
   },
   {
    "duration": 40,
    "start_time": "2022-09-08T09:11:38.201Z"
   },
   {
    "duration": 4,
    "start_time": "2022-09-08T09:11:49.110Z"
   },
   {
    "duration": 9,
    "start_time": "2022-09-08T09:11:53.521Z"
   },
   {
    "duration": 8,
    "start_time": "2022-09-08T09:11:53.743Z"
   },
   {
    "duration": 8,
    "start_time": "2022-09-08T09:11:55.908Z"
   },
   {
    "duration": 4,
    "start_time": "2022-09-08T09:12:23.845Z"
   },
   {
    "duration": 438,
    "start_time": "2022-09-08T09:12:32.467Z"
   },
   {
    "duration": 479,
    "start_time": "2022-09-08T09:12:47.210Z"
   },
   {
    "duration": 443,
    "start_time": "2022-09-08T09:12:58.208Z"
   },
   {
    "duration": 542,
    "start_time": "2022-09-08T09:13:01.011Z"
   },
   {
    "duration": 19,
    "start_time": "2022-09-08T09:13:05.270Z"
   },
   {
    "duration": 4,
    "start_time": "2022-09-08T09:13:36.814Z"
   },
   {
    "duration": 505,
    "start_time": "2022-09-08T09:13:41.335Z"
   },
   {
    "duration": 18,
    "start_time": "2022-09-08T09:13:42.217Z"
   },
   {
    "duration": 4,
    "start_time": "2022-09-08T09:14:06.063Z"
   },
   {
    "duration": 22,
    "start_time": "2022-09-08T09:14:07.605Z"
   },
   {
    "duration": 5,
    "start_time": "2022-09-08T09:14:25.104Z"
   },
   {
    "duration": 6,
    "start_time": "2022-09-08T09:14:29.246Z"
   },
   {
    "duration": 6,
    "start_time": "2022-09-08T09:14:34.935Z"
   },
   {
    "duration": 5,
    "start_time": "2022-09-08T09:14:37.758Z"
   },
   {
    "duration": 5,
    "start_time": "2022-09-08T09:14:43.798Z"
   },
   {
    "duration": 470,
    "start_time": "2022-09-08T09:14:44.439Z"
   },
   {
    "duration": 4,
    "start_time": "2022-09-08T09:14:45.086Z"
   },
   {
    "duration": 19,
    "start_time": "2022-09-08T09:14:49.364Z"
   },
   {
    "duration": 6,
    "start_time": "2022-09-08T09:15:18.099Z"
   },
   {
    "duration": 19,
    "start_time": "2022-09-08T09:15:18.626Z"
   },
   {
    "duration": 4,
    "start_time": "2022-09-08T09:15:52.614Z"
   },
   {
    "duration": 14,
    "start_time": "2022-09-08T09:15:55.801Z"
   },
   {
    "duration": 47,
    "start_time": "2022-09-08T09:16:24.821Z"
   },
   {
    "duration": 11,
    "start_time": "2022-09-08T09:16:28.218Z"
   },
   {
    "duration": 3,
    "start_time": "2022-09-08T09:17:20.690Z"
   },
   {
    "duration": 12,
    "start_time": "2022-09-08T09:17:25.387Z"
   },
   {
    "duration": 11,
    "start_time": "2022-09-08T09:17:29.804Z"
   },
   {
    "duration": 5,
    "start_time": "2022-09-08T09:17:53.038Z"
   },
   {
    "duration": 7,
    "start_time": "2022-09-08T09:18:14.426Z"
   },
   {
    "duration": 6,
    "start_time": "2022-09-08T09:18:22.988Z"
   },
   {
    "duration": 5,
    "start_time": "2022-09-08T09:18:26.728Z"
   },
   {
    "duration": 6,
    "start_time": "2022-09-08T09:18:47.406Z"
   },
   {
    "duration": 5,
    "start_time": "2022-09-08T09:18:50.406Z"
   },
   {
    "duration": 8,
    "start_time": "2022-09-08T09:18:56.463Z"
   },
   {
    "duration": 5,
    "start_time": "2022-09-08T09:19:18.380Z"
   },
   {
    "duration": 11,
    "start_time": "2022-09-08T09:19:21.318Z"
   },
   {
    "duration": 6,
    "start_time": "2022-09-08T09:19:39.627Z"
   },
   {
    "duration": 4,
    "start_time": "2022-09-08T09:20:03.104Z"
   },
   {
    "duration": 11,
    "start_time": "2022-09-08T09:20:06.147Z"
   },
   {
    "duration": 10,
    "start_time": "2022-09-08T09:20:16.581Z"
   },
   {
    "duration": 8,
    "start_time": "2022-09-08T09:20:18.781Z"
   },
   {
    "duration": 10,
    "start_time": "2022-09-08T09:21:33.797Z"
   },
   {
    "duration": 6,
    "start_time": "2022-09-08T09:21:41.336Z"
   },
   {
    "duration": 4,
    "start_time": "2022-09-08T09:21:51.702Z"
   },
   {
    "duration": 10,
    "start_time": "2022-09-08T09:23:53.792Z"
   },
   {
    "duration": 49,
    "start_time": "2022-09-08T09:23:56.848Z"
   },
   {
    "duration": 3,
    "start_time": "2022-09-08T09:23:58.404Z"
   },
   {
    "duration": 14,
    "start_time": "2022-09-08T09:24:00.700Z"
   },
   {
    "duration": 12,
    "start_time": "2022-09-08T09:24:05.527Z"
   },
   {
    "duration": 18,
    "start_time": "2022-09-08T09:24:11.499Z"
   },
   {
    "duration": 9,
    "start_time": "2022-09-08T09:24:58.552Z"
   },
   {
    "duration": 1847,
    "start_time": "2022-09-08T09:25:07.668Z"
   },
   {
    "duration": 17,
    "start_time": "2022-09-08T09:25:17.015Z"
   },
   {
    "duration": 17,
    "start_time": "2022-09-08T09:25:29.982Z"
   },
   {
    "duration": 13,
    "start_time": "2022-09-08T09:25:32.360Z"
   },
   {
    "duration": 7,
    "start_time": "2022-09-08T09:25:40.487Z"
   },
   {
    "duration": 5,
    "start_time": "2022-09-08T09:26:20.950Z"
   },
   {
    "duration": 9,
    "start_time": "2022-09-08T09:26:26.716Z"
   },
   {
    "duration": 17,
    "start_time": "2022-09-08T09:26:56.563Z"
   },
   {
    "duration": 9,
    "start_time": "2022-09-08T09:27:21.853Z"
   },
   {
    "duration": 49,
    "start_time": "2022-09-08T09:27:24.160Z"
   },
   {
    "duration": 11,
    "start_time": "2022-09-08T09:27:25.107Z"
   },
   {
    "duration": 3,
    "start_time": "2022-09-08T09:27:40.943Z"
   },
   {
    "duration": 9,
    "start_time": "2022-09-08T09:27:43.978Z"
   },
   {
    "duration": 6,
    "start_time": "2022-09-08T09:27:51.759Z"
   },
   {
    "duration": 10,
    "start_time": "2022-09-08T09:28:09.050Z"
   },
   {
    "duration": 10,
    "start_time": "2022-09-08T09:28:13.819Z"
   },
   {
    "duration": 5,
    "start_time": "2022-09-08T09:28:22.543Z"
   },
   {
    "duration": 7,
    "start_time": "2022-09-08T09:28:27.842Z"
   },
   {
    "duration": 6,
    "start_time": "2022-09-08T09:28:40.198Z"
   },
   {
    "duration": 9,
    "start_time": "2022-09-08T09:28:48.428Z"
   },
   {
    "duration": 4,
    "start_time": "2022-09-08T09:29:00.154Z"
   },
   {
    "duration": 14,
    "start_time": "2022-09-08T09:29:37.143Z"
   },
   {
    "duration": 10,
    "start_time": "2022-09-08T09:30:59.643Z"
   },
   {
    "duration": 26,
    "start_time": "2022-09-08T09:31:13.227Z"
   },
   {
    "duration": 10,
    "start_time": "2022-09-08T09:31:31.148Z"
   },
   {
    "duration": 11,
    "start_time": "2022-09-08T09:31:41.667Z"
   },
   {
    "duration": 25,
    "start_time": "2022-09-08T09:31:50.554Z"
   },
   {
    "duration": 33,
    "start_time": "2022-09-08T09:32:06.140Z"
   },
   {
    "duration": 12,
    "start_time": "2022-09-08T09:32:14.405Z"
   },
   {
    "duration": 8,
    "start_time": "2022-09-08T09:32:48.058Z"
   },
   {
    "duration": 19,
    "start_time": "2022-09-08T09:32:50.228Z"
   },
   {
    "duration": 6,
    "start_time": "2022-09-08T09:33:04.683Z"
   },
   {
    "duration": 19,
    "start_time": "2022-09-08T09:33:06.481Z"
   },
   {
    "duration": 9,
    "start_time": "2022-09-08T09:33:41.649Z"
   },
   {
    "duration": 27,
    "start_time": "2022-09-08T09:33:56.413Z"
   },
   {
    "duration": 838,
    "start_time": "2022-09-08T09:34:17.584Z"
   },
   {
    "duration": 916,
    "start_time": "2022-09-08T09:34:26.780Z"
   },
   {
    "duration": 848,
    "start_time": "2022-09-08T09:34:35.758Z"
   },
   {
    "duration": 14,
    "start_time": "2022-09-08T09:34:41.226Z"
   },
   {
    "duration": 7,
    "start_time": "2022-09-08T09:34:42.054Z"
   },
   {
    "duration": 6,
    "start_time": "2022-09-08T09:34:49.145Z"
   },
   {
    "duration": 3,
    "start_time": "2022-09-08T09:34:52.870Z"
   },
   {
    "duration": 6,
    "start_time": "2022-09-08T09:34:55.619Z"
   },
   {
    "duration": 5,
    "start_time": "2022-09-08T09:35:11.724Z"
   },
   {
    "duration": 10,
    "start_time": "2022-09-08T09:35:20.704Z"
   },
   {
    "duration": 11,
    "start_time": "2022-09-08T09:35:21.180Z"
   },
   {
    "duration": 8,
    "start_time": "2022-09-08T09:35:23.616Z"
   },
   {
    "duration": 11,
    "start_time": "2022-09-08T09:35:24.146Z"
   },
   {
    "duration": 3,
    "start_time": "2022-09-08T09:35:24.547Z"
   },
   {
    "duration": 16,
    "start_time": "2022-09-08T09:35:25.014Z"
   },
   {
    "duration": 14,
    "start_time": "2022-09-08T09:35:32.195Z"
   },
   {
    "duration": 49,
    "start_time": "2022-09-08T10:04:38.422Z"
   },
   {
    "duration": 62,
    "start_time": "2022-09-08T10:54:37.972Z"
   },
   {
    "duration": 1120,
    "start_time": "2022-09-08T10:54:45.597Z"
   },
   {
    "duration": 61,
    "start_time": "2022-09-08T10:54:49.376Z"
   },
   {
    "duration": 4,
    "start_time": "2022-09-08T10:54:50.056Z"
   },
   {
    "duration": 55,
    "start_time": "2022-09-08T10:57:54.909Z"
   },
   {
    "duration": 3,
    "start_time": "2022-09-08T10:57:55.565Z"
   },
   {
    "duration": 13,
    "start_time": "2022-09-08T10:57:56.733Z"
   },
   {
    "duration": 3,
    "start_time": "2022-09-08T10:57:57.469Z"
   },
   {
    "duration": 61,
    "start_time": "2022-09-08T10:58:21.225Z"
   },
   {
    "duration": 5,
    "start_time": "2022-09-08T10:58:24.009Z"
   },
   {
    "duration": 9,
    "start_time": "2022-09-08T10:58:24.609Z"
   },
   {
    "duration": 52,
    "start_time": "2022-09-08T10:58:57.895Z"
   },
   {
    "duration": 6,
    "start_time": "2022-09-08T10:59:03.317Z"
   },
   {
    "duration": 7,
    "start_time": "2022-09-08T10:59:13.941Z"
   },
   {
    "duration": 168,
    "start_time": "2022-09-08T10:59:17.849Z"
   },
   {
    "duration": 7,
    "start_time": "2022-09-08T10:59:20.757Z"
   },
   {
    "duration": 5,
    "start_time": "2022-09-08T10:59:31.297Z"
   },
   {
    "duration": 133,
    "start_time": "2022-09-08T11:00:20.973Z"
   },
   {
    "duration": 146,
    "start_time": "2022-09-08T11:00:28.997Z"
   },
   {
    "duration": 7,
    "start_time": "2022-09-08T11:00:32.996Z"
   },
   {
    "duration": 76,
    "start_time": "2022-09-08T11:01:04.658Z"
   },
   {
    "duration": 225,
    "start_time": "2022-09-08T11:01:24.662Z"
   },
   {
    "duration": 8,
    "start_time": "2022-09-08T11:01:32.962Z"
   },
   {
    "duration": 65,
    "start_time": "2022-09-08T11:01:52.547Z"
   },
   {
    "duration": 4,
    "start_time": "2022-09-08T11:02:02.902Z"
   },
   {
    "duration": 421,
    "start_time": "2022-09-08T11:02:08.410Z"
   },
   {
    "duration": 5,
    "start_time": "2022-09-08T11:02:10.146Z"
   },
   {
    "duration": 5,
    "start_time": "2022-09-08T11:02:10.762Z"
   },
   {
    "duration": 6,
    "start_time": "2022-09-08T11:02:11.554Z"
   },
   {
    "duration": 20,
    "start_time": "2022-09-08T11:02:28.967Z"
   },
   {
    "duration": 229,
    "start_time": "2022-09-08T11:03:18.710Z"
   },
   {
    "duration": 6,
    "start_time": "2022-09-08T11:03:22.964Z"
   },
   {
    "duration": 48,
    "start_time": "2022-09-08T11:03:24.754Z"
   },
   {
    "duration": 94,
    "start_time": "2022-09-08T11:03:25.335Z"
   },
   {
    "duration": 120,
    "start_time": "2022-09-08T11:04:19.836Z"
   },
   {
    "duration": 49,
    "start_time": "2022-09-08T11:05:29.455Z"
   },
   {
    "duration": 3,
    "start_time": "2022-09-08T11:05:30.679Z"
   },
   {
    "duration": 12,
    "start_time": "2022-09-08T11:05:31.787Z"
   },
   {
    "duration": 11,
    "start_time": "2022-09-08T11:05:32.408Z"
   },
   {
    "duration": 5,
    "start_time": "2022-09-08T11:05:32.941Z"
   },
   {
    "duration": 5,
    "start_time": "2022-09-08T11:05:34.380Z"
   },
   {
    "duration": 9,
    "start_time": "2022-09-08T11:05:34.911Z"
   },
   {
    "duration": 43,
    "start_time": "2022-09-08T11:06:15.639Z"
   },
   {
    "duration": 8,
    "start_time": "2022-09-08T11:06:16.540Z"
   },
   {
    "duration": 3,
    "start_time": "2022-09-08T11:06:17.540Z"
   },
   {
    "duration": 65,
    "start_time": "2022-09-08T11:06:34.111Z"
   },
   {
    "duration": 7,
    "start_time": "2022-09-08T11:11:34.481Z"
   },
   {
    "duration": 2,
    "start_time": "2022-09-08T11:12:56.180Z"
   },
   {
    "duration": 65,
    "start_time": "2022-09-08T11:16:27.228Z"
   },
   {
    "duration": 64,
    "start_time": "2022-09-08T11:21:23.611Z"
   },
   {
    "duration": 85,
    "start_time": "2022-09-08T11:22:49.567Z"
   },
   {
    "duration": 3,
    "start_time": "2022-09-08T11:23:31.358Z"
   },
   {
    "duration": 2,
    "start_time": "2022-09-08T11:23:42.178Z"
   },
   {
    "duration": 1437,
    "start_time": "2022-09-08T11:49:56.802Z"
   },
   {
    "duration": 146,
    "start_time": "2022-09-08T11:49:58.241Z"
   },
   {
    "duration": 5,
    "start_time": "2022-09-08T11:49:59.074Z"
   },
   {
    "duration": 19,
    "start_time": "2022-09-08T11:49:59.795Z"
   },
   {
    "duration": 3,
    "start_time": "2022-09-08T11:50:01.150Z"
   },
   {
    "duration": 6,
    "start_time": "2022-09-08T11:50:02.248Z"
   },
   {
    "duration": 9,
    "start_time": "2022-09-08T11:50:03.987Z"
   },
   {
    "duration": 6,
    "start_time": "2022-09-08T11:50:05.155Z"
   },
   {
    "duration": 6,
    "start_time": "2022-09-08T11:50:06.035Z"
   },
   {
    "duration": 239,
    "start_time": "2022-09-08T11:50:07.279Z"
   },
   {
    "duration": 7,
    "start_time": "2022-09-08T11:50:08.355Z"
   },
   {
    "duration": 66,
    "start_time": "2022-09-08T11:50:26.402Z"
   },
   {
    "duration": 4,
    "start_time": "2022-09-08T11:50:27.858Z"
   },
   {
    "duration": 13,
    "start_time": "2022-09-08T11:50:28.351Z"
   },
   {
    "duration": 3,
    "start_time": "2022-09-08T11:50:29.075Z"
   },
   {
    "duration": 6,
    "start_time": "2022-09-08T11:50:29.857Z"
   },
   {
    "duration": 9,
    "start_time": "2022-09-08T11:50:30.301Z"
   },
   {
    "duration": 8,
    "start_time": "2022-09-08T11:50:31.431Z"
   },
   {
    "duration": 6,
    "start_time": "2022-09-08T11:50:32.255Z"
   },
   {
    "duration": 167,
    "start_time": "2022-09-08T11:50:33.700Z"
   },
   {
    "duration": 24,
    "start_time": "2022-09-08T11:50:34.630Z"
   },
   {
    "duration": 518,
    "start_time": "2022-09-08T11:50:54.565Z"
   },
   {
    "duration": 11,
    "start_time": "2022-09-08T11:51:08.566Z"
   },
   {
    "duration": 8,
    "start_time": "2022-09-08T11:52:07.604Z"
   },
   {
    "duration": 5,
    "start_time": "2022-09-08T11:52:09.655Z"
   },
   {
    "duration": 178,
    "start_time": "2022-09-08T11:52:10.784Z"
   },
   {
    "duration": 7,
    "start_time": "2022-09-08T11:52:12.126Z"
   },
   {
    "duration": 268,
    "start_time": "2022-09-08T11:52:23.503Z"
   },
   {
    "duration": 10,
    "start_time": "2022-09-08T11:52:24.536Z"
   },
   {
    "duration": 4,
    "start_time": "2022-09-08T11:52:28.928Z"
   },
   {
    "duration": 477,
    "start_time": "2022-09-08T11:52:30.155Z"
   },
   {
    "duration": 5,
    "start_time": "2022-09-08T11:52:31.494Z"
   },
   {
    "duration": 4,
    "start_time": "2022-09-08T11:52:32.767Z"
   },
   {
    "duration": 6,
    "start_time": "2022-09-08T11:52:35.015Z"
   },
   {
    "duration": 137,
    "start_time": "2022-09-08T11:52:45.480Z"
   },
   {
    "duration": 51,
    "start_time": "2022-09-08T11:53:42.348Z"
   },
   {
    "duration": 3,
    "start_time": "2022-09-08T11:53:43.187Z"
   },
   {
    "duration": 8,
    "start_time": "2022-09-08T11:53:43.646Z"
   },
   {
    "duration": 7,
    "start_time": "2022-09-08T11:53:44.266Z"
   },
   {
    "duration": 16,
    "start_time": "2022-09-08T11:53:49.305Z"
   },
   {
    "duration": 10,
    "start_time": "2022-09-08T11:53:50.011Z"
   },
   {
    "duration": 6,
    "start_time": "2022-09-08T11:53:51.053Z"
   },
   {
    "duration": 6,
    "start_time": "2022-09-08T11:53:52.152Z"
   },
   {
    "duration": 4,
    "start_time": "2022-09-08T11:53:52.813Z"
   },
   {
    "duration": 6,
    "start_time": "2022-09-08T11:53:53.453Z"
   },
   {
    "duration": 5,
    "start_time": "2022-09-08T11:53:54.083Z"
   },
   {
    "duration": 5,
    "start_time": "2022-09-08T11:53:55.152Z"
   },
   {
    "duration": 9,
    "start_time": "2022-09-08T11:53:56.152Z"
   },
   {
    "duration": 84,
    "start_time": "2022-09-08T11:54:01.296Z"
   },
   {
    "duration": 3,
    "start_time": "2022-09-08T11:54:02.192Z"
   },
   {
    "duration": 11,
    "start_time": "2022-09-08T11:54:02.653Z"
   },
   {
    "duration": 11,
    "start_time": "2022-09-08T11:54:03.514Z"
   },
   {
    "duration": 7,
    "start_time": "2022-09-08T11:54:04.099Z"
   },
   {
    "duration": 5,
    "start_time": "2022-09-08T11:54:04.786Z"
   },
   {
    "duration": 9,
    "start_time": "2022-09-08T11:54:05.365Z"
   },
   {
    "duration": 60,
    "start_time": "2022-09-08T11:54:29.447Z"
   },
   {
    "duration": 3,
    "start_time": "2022-09-08T11:54:30.870Z"
   },
   {
    "duration": 10,
    "start_time": "2022-09-08T11:54:31.312Z"
   },
   {
    "duration": 12,
    "start_time": "2022-09-08T11:54:31.973Z"
   },
   {
    "duration": 6,
    "start_time": "2022-09-08T11:54:32.416Z"
   },
   {
    "duration": 4,
    "start_time": "2022-09-08T11:54:32.912Z"
   },
   {
    "duration": 10,
    "start_time": "2022-09-08T11:54:33.380Z"
   },
   {
    "duration": 115,
    "start_time": "2022-09-08T11:54:35.255Z"
   },
   {
    "duration": 50,
    "start_time": "2022-09-08T11:55:31.377Z"
   },
   {
    "duration": 4,
    "start_time": "2022-09-08T11:55:32.133Z"
   },
   {
    "duration": 5,
    "start_time": "2022-09-08T11:55:33.169Z"
   },
   {
    "duration": 5,
    "start_time": "2022-09-08T11:55:40.553Z"
   },
   {
    "duration": 6,
    "start_time": "2022-09-08T11:55:45.056Z"
   },
   {
    "duration": 5,
    "start_time": "2022-09-08T11:55:45.759Z"
   },
   {
    "duration": 10,
    "start_time": "2022-09-08T11:55:46.438Z"
   },
   {
    "duration": 10,
    "start_time": "2022-09-08T11:55:50.104Z"
   },
   {
    "duration": 10,
    "start_time": "2022-09-08T11:55:50.675Z"
   },
   {
    "duration": 10,
    "start_time": "2022-09-08T11:57:00.990Z"
   },
   {
    "duration": 15,
    "start_time": "2022-09-08T11:57:01.434Z"
   },
   {
    "duration": 9,
    "start_time": "2022-09-08T11:57:02.193Z"
   },
   {
    "duration": 10,
    "start_time": "2022-09-08T11:57:03.999Z"
   },
   {
    "duration": 5,
    "start_time": "2022-09-08T11:57:04.595Z"
   },
   {
    "duration": 19,
    "start_time": "2022-09-08T11:57:05.104Z"
   },
   {
    "duration": 12,
    "start_time": "2022-09-08T11:57:21.779Z"
   },
   {
    "duration": 10,
    "start_time": "2022-09-08T11:57:24.298Z"
   },
   {
    "duration": 6,
    "start_time": "2022-09-08T11:57:24.935Z"
   },
   {
    "duration": 21,
    "start_time": "2022-09-08T11:57:25.508Z"
   },
   {
    "duration": 6,
    "start_time": "2022-09-08T11:57:43.557Z"
   },
   {
    "duration": 10,
    "start_time": "2022-09-08T11:57:44.373Z"
   },
   {
    "duration": 3,
    "start_time": "2022-09-08T11:57:44.875Z"
   },
   {
    "duration": 17,
    "start_time": "2022-09-08T11:57:45.314Z"
   },
   {
    "duration": 10,
    "start_time": "2022-09-08T11:57:51.404Z"
   },
   {
    "duration": 11,
    "start_time": "2022-09-08T11:57:51.852Z"
   },
   {
    "duration": 7,
    "start_time": "2022-09-08T11:57:58.071Z"
   },
   {
    "duration": 10,
    "start_time": "2022-09-08T11:57:58.910Z"
   },
   {
    "duration": 3,
    "start_time": "2022-09-08T11:57:59.552Z"
   },
   {
    "duration": 14,
    "start_time": "2022-09-08T11:57:59.992Z"
   },
   {
    "duration": 11,
    "start_time": "2022-09-08T11:58:08.881Z"
   },
   {
    "duration": 1089,
    "start_time": "2022-09-08T11:59:23.094Z"
   },
   {
    "duration": 70,
    "start_time": "2022-09-08T11:59:24.185Z"
   },
   {
    "duration": 4,
    "start_time": "2022-09-08T11:59:24.256Z"
   },
   {
    "duration": 16,
    "start_time": "2022-09-08T11:59:24.261Z"
   },
   {
    "duration": 7,
    "start_time": "2022-09-08T11:59:24.279Z"
   },
   {
    "duration": 9,
    "start_time": "2022-09-08T11:59:24.288Z"
   },
   {
    "duration": 10,
    "start_time": "2022-09-08T11:59:24.299Z"
   },
   {
    "duration": 6,
    "start_time": "2022-09-08T11:59:24.311Z"
   },
   {
    "duration": 20,
    "start_time": "2022-09-08T11:59:24.318Z"
   },
   {
    "duration": 185,
    "start_time": "2022-09-08T11:59:24.342Z"
   },
   {
    "duration": 26,
    "start_time": "2022-09-08T11:59:24.528Z"
   },
   {
    "duration": 10,
    "start_time": "2022-09-08T11:59:24.555Z"
   },
   {
    "duration": 10,
    "start_time": "2022-09-08T11:59:24.566Z"
   },
   {
    "duration": 153,
    "start_time": "2022-09-08T11:59:24.577Z"
   },
   {
    "duration": 18,
    "start_time": "2022-09-08T11:59:24.732Z"
   },
   {
    "duration": 248,
    "start_time": "2022-09-08T11:59:24.752Z"
   },
   {
    "duration": 7,
    "start_time": "2022-09-08T11:59:25.002Z"
   },
   {
    "duration": 11,
    "start_time": "2022-09-08T11:59:25.010Z"
   },
   {
    "duration": 484,
    "start_time": "2022-09-08T11:59:25.022Z"
   },
   {
    "duration": 4,
    "start_time": "2022-09-08T11:59:25.508Z"
   },
   {
    "duration": 18,
    "start_time": "2022-09-08T11:59:25.513Z"
   },
   {
    "duration": 16,
    "start_time": "2022-09-08T11:59:25.533Z"
   },
   {
    "duration": 61,
    "start_time": "2022-09-08T11:59:25.551Z"
   },
   {
    "duration": 3,
    "start_time": "2022-09-08T11:59:25.613Z"
   },
   {
    "duration": 10,
    "start_time": "2022-09-08T11:59:25.618Z"
   },
   {
    "duration": 9,
    "start_time": "2022-09-08T11:59:25.629Z"
   },
   {
    "duration": 22,
    "start_time": "2022-09-08T11:59:25.640Z"
   },
   {
    "duration": 7,
    "start_time": "2022-09-08T11:59:25.665Z"
   },
   {
    "duration": 13,
    "start_time": "2022-09-08T11:59:25.673Z"
   },
   {
    "duration": 12,
    "start_time": "2022-09-08T11:59:25.687Z"
   },
   {
    "duration": 17,
    "start_time": "2022-09-08T11:59:25.701Z"
   },
   {
    "duration": 35,
    "start_time": "2022-09-08T11:59:25.719Z"
   },
   {
    "duration": 9,
    "start_time": "2022-09-08T11:59:25.755Z"
   },
   {
    "duration": 8,
    "start_time": "2022-09-08T11:59:25.766Z"
   },
   {
    "duration": 15,
    "start_time": "2022-09-08T11:59:25.775Z"
   },
   {
    "duration": 32,
    "start_time": "2022-09-08T11:59:25.791Z"
   },
   {
    "duration": 3,
    "start_time": "2022-09-08T11:59:25.824Z"
   },
   {
    "duration": 19,
    "start_time": "2022-09-08T11:59:25.828Z"
   },
   {
    "duration": 17,
    "start_time": "2022-09-08T11:59:25.850Z"
   },
   {
    "duration": 8,
    "start_time": "2022-09-08T11:59:25.869Z"
   },
   {
    "duration": 7,
    "start_time": "2022-09-08T11:59:25.879Z"
   },
   {
    "duration": 13,
    "start_time": "2022-09-08T11:59:25.888Z"
   },
   {
    "duration": 22,
    "start_time": "2022-09-08T11:59:25.902Z"
   },
   {
    "duration": 2,
    "start_time": "2022-09-08T11:59:25.926Z"
   },
   {
    "duration": 10,
    "start_time": "2022-09-08T11:59:25.930Z"
   },
   {
    "duration": 17,
    "start_time": "2022-09-08T11:59:25.941Z"
   },
   {
    "duration": 8,
    "start_time": "2022-09-08T11:59:25.960Z"
   },
   {
    "duration": 17,
    "start_time": "2022-09-08T11:59:25.969Z"
   },
   {
    "duration": 10,
    "start_time": "2022-09-08T11:59:25.988Z"
   },
   {
    "duration": 13,
    "start_time": "2022-09-08T11:59:26.000Z"
   },
   {
    "duration": 13,
    "start_time": "2022-09-08T11:59:26.015Z"
   },
   {
    "duration": 2,
    "start_time": "2022-09-08T11:59:26.030Z"
   },
   {
    "duration": 22,
    "start_time": "2022-09-08T11:59:26.034Z"
   },
   {
    "duration": 17,
    "start_time": "2022-09-08T11:59:26.057Z"
   },
   {
    "duration": 5,
    "start_time": "2022-09-08T11:59:26.076Z"
   },
   {
    "duration": 18,
    "start_time": "2022-09-08T11:59:26.083Z"
   },
   {
    "duration": 16,
    "start_time": "2022-09-08T11:59:26.102Z"
   },
   {
    "duration": 1165,
    "start_time": "2022-09-08T12:05:33.417Z"
   },
   {
    "duration": 67,
    "start_time": "2022-09-08T12:05:34.584Z"
   },
   {
    "duration": 4,
    "start_time": "2022-09-08T12:05:34.653Z"
   },
   {
    "duration": 12,
    "start_time": "2022-09-08T12:05:34.660Z"
   },
   {
    "duration": 7,
    "start_time": "2022-09-08T12:05:34.674Z"
   },
   {
    "duration": 9,
    "start_time": "2022-09-08T12:05:34.682Z"
   },
   {
    "duration": 9,
    "start_time": "2022-09-08T12:05:34.692Z"
   },
   {
    "duration": 7,
    "start_time": "2022-09-08T12:05:34.702Z"
   },
   {
    "duration": 31,
    "start_time": "2022-09-08T12:05:34.711Z"
   },
   {
    "duration": 183,
    "start_time": "2022-09-08T12:05:34.746Z"
   },
   {
    "duration": 16,
    "start_time": "2022-09-08T12:05:34.931Z"
   },
   {
    "duration": 16,
    "start_time": "2022-09-08T12:05:34.950Z"
   },
   {
    "duration": 7,
    "start_time": "2022-09-08T12:05:34.967Z"
   },
   {
    "duration": 146,
    "start_time": "2022-09-08T12:05:34.976Z"
   },
   {
    "duration": 25,
    "start_time": "2022-09-08T12:05:35.124Z"
   },
   {
    "duration": 247,
    "start_time": "2022-09-08T12:05:35.151Z"
   },
   {
    "duration": 7,
    "start_time": "2022-09-08T12:05:35.399Z"
   },
   {
    "duration": 47,
    "start_time": "2022-09-08T12:05:35.407Z"
   },
   {
    "duration": 513,
    "start_time": "2022-09-08T12:05:35.456Z"
   },
   {
    "duration": 4,
    "start_time": "2022-09-08T12:05:35.971Z"
   },
   {
    "duration": 10,
    "start_time": "2022-09-08T12:05:35.976Z"
   },
   {
    "duration": 9,
    "start_time": "2022-09-08T12:05:35.987Z"
   },
   {
    "duration": 58,
    "start_time": "2022-09-08T12:05:35.997Z"
   },
   {
    "duration": 2,
    "start_time": "2022-09-08T12:05:36.057Z"
   },
   {
    "duration": 8,
    "start_time": "2022-09-08T12:05:36.061Z"
   },
   {
    "duration": 8,
    "start_time": "2022-09-08T12:05:36.070Z"
   },
   {
    "duration": 10,
    "start_time": "2022-09-08T12:05:36.079Z"
   },
   {
    "duration": 8,
    "start_time": "2022-09-08T12:05:36.092Z"
   },
   {
    "duration": 7,
    "start_time": "2022-09-08T12:05:36.101Z"
   },
   {
    "duration": 29,
    "start_time": "2022-09-08T12:05:36.109Z"
   },
   {
    "duration": 18,
    "start_time": "2022-09-08T12:05:36.140Z"
   },
   {
    "duration": 10,
    "start_time": "2022-09-08T12:05:36.159Z"
   },
   {
    "duration": 8,
    "start_time": "2022-09-08T12:05:36.170Z"
   },
   {
    "duration": 6,
    "start_time": "2022-09-08T12:05:36.180Z"
   },
   {
    "duration": 11,
    "start_time": "2022-09-08T12:05:36.187Z"
   },
   {
    "duration": 28,
    "start_time": "2022-09-08T12:05:36.200Z"
   },
   {
    "duration": 3,
    "start_time": "2022-09-08T12:05:36.229Z"
   },
   {
    "duration": 28,
    "start_time": "2022-09-08T12:05:36.236Z"
   },
   {
    "duration": 13,
    "start_time": "2022-09-08T12:05:36.265Z"
   },
   {
    "duration": 4,
    "start_time": "2022-09-08T12:05:36.280Z"
   },
   {
    "duration": 7,
    "start_time": "2022-09-08T12:05:36.286Z"
   },
   {
    "duration": 15,
    "start_time": "2022-09-08T12:05:36.294Z"
   },
   {
    "duration": 24,
    "start_time": "2022-09-08T12:05:36.310Z"
   },
   {
    "duration": 3,
    "start_time": "2022-09-08T12:05:36.335Z"
   },
   {
    "duration": 19,
    "start_time": "2022-09-08T12:05:36.340Z"
   },
   {
    "duration": 6,
    "start_time": "2022-09-08T12:05:36.360Z"
   },
   {
    "duration": 8,
    "start_time": "2022-09-08T12:05:36.367Z"
   },
   {
    "duration": 6,
    "start_time": "2022-09-08T12:05:36.376Z"
   },
   {
    "duration": 11,
    "start_time": "2022-09-08T12:05:36.384Z"
   },
   {
    "duration": 13,
    "start_time": "2022-09-08T12:05:36.396Z"
   },
   {
    "duration": 9,
    "start_time": "2022-09-08T12:05:36.410Z"
   },
   {
    "duration": 3,
    "start_time": "2022-09-08T12:05:36.420Z"
   },
   {
    "duration": 13,
    "start_time": "2022-09-08T12:05:36.436Z"
   },
   {
    "duration": 22,
    "start_time": "2022-09-08T12:05:36.452Z"
   },
   {
    "duration": 4,
    "start_time": "2022-09-08T12:05:36.475Z"
   },
   {
    "duration": 16,
    "start_time": "2022-09-08T12:05:36.481Z"
   },
   {
    "duration": 12,
    "start_time": "2022-09-08T12:05:36.498Z"
   },
   {
    "duration": 255,
    "start_time": "2022-09-09T15:35:17.866Z"
   },
   {
    "duration": 60,
    "start_time": "2022-09-09T15:36:06.617Z"
   },
   {
    "duration": 96,
    "start_time": "2022-09-09T15:40:00.460Z"
   },
   {
    "duration": 87,
    "start_time": "2022-09-09T15:40:07.840Z"
   },
   {
    "duration": 70,
    "start_time": "2022-09-09T15:42:13.930Z"
   },
   {
    "duration": 52,
    "start_time": "2022-09-09T15:46:42.275Z"
   },
   {
    "duration": 94,
    "start_time": "2022-09-09T15:47:35.125Z"
   },
   {
    "duration": 59,
    "start_time": "2022-09-09T15:48:38.039Z"
   },
   {
    "duration": 86,
    "start_time": "2022-09-10T14:57:56.775Z"
   }
  ],
  "kernelspec": {
   "display_name": "Python 3",
   "language": "python",
   "name": "python3"
  },
  "language_info": {
   "codemirror_mode": {
    "name": "ipython",
    "version": 3
   },
   "file_extension": ".py",
   "mimetype": "text/x-python",
   "name": "python",
   "nbconvert_exporter": "python",
   "pygments_lexer": "ipython3",
   "version": "3.7.10"
  },
  "toc": {
   "base_numbering": 1,
   "nav_menu": {},
   "number_sections": true,
   "sideBar": true,
   "skip_h1_title": true,
   "title_cell": "Table of Contents",
   "title_sidebar": "Contents",
   "toc_cell": false,
   "toc_position": {},
   "toc_section_display": true,
   "toc_window_display": false
  }
 },
 "nbformat": 4,
 "nbformat_minor": 2
}
